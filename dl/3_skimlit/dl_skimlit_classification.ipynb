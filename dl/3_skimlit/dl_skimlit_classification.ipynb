{
 "cells": [
  {
   "cell_type": "code",
   "execution_count": 1,
   "metadata": {
    "colab": {
     "base_uri": "https://localhost:8080/"
    },
    "executionInfo": {
     "elapsed": 6729,
     "status": "ok",
     "timestamp": 1700367128272,
     "user": {
      "displayName": "yihim",
      "userId": "08839180769355818284"
     },
     "user_tz": -480
    },
    "id": "Bxj3rgPOgs1H",
    "outputId": "769ec091-372e-48b8-c5da-4635625b468a"
   },
   "outputs": [
    {
     "name": "stdout",
     "output_type": "stream",
     "text": [
      "Requirement already satisfied: tensorflow==2.8.0 in /usr/local/lib/python3.10/dist-packages (2.8.0)\n",
      "Requirement already satisfied: absl-py>=0.4.0 in /usr/local/lib/python3.10/dist-packages (from tensorflow==2.8.0) (1.4.0)\n",
      "Requirement already satisfied: astunparse>=1.6.0 in /usr/local/lib/python3.10/dist-packages (from tensorflow==2.8.0) (1.6.3)\n",
      "Requirement already satisfied: flatbuffers>=1.12 in /usr/local/lib/python3.10/dist-packages (from tensorflow==2.8.0) (23.5.26)\n",
      "Requirement already satisfied: gast>=0.2.1 in /usr/local/lib/python3.10/dist-packages (from tensorflow==2.8.0) (0.5.4)\n",
      "Requirement already satisfied: google-pasta>=0.1.1 in /usr/local/lib/python3.10/dist-packages (from tensorflow==2.8.0) (0.2.0)\n",
      "Requirement already satisfied: h5py>=2.9.0 in /usr/local/lib/python3.10/dist-packages (from tensorflow==2.8.0) (3.9.0)\n",
      "Requirement already satisfied: keras-preprocessing>=1.1.1 in /usr/local/lib/python3.10/dist-packages (from tensorflow==2.8.0) (1.1.2)\n",
      "Requirement already satisfied: libclang>=9.0.1 in /usr/local/lib/python3.10/dist-packages (from tensorflow==2.8.0) (16.0.6)\n",
      "Requirement already satisfied: numpy>=1.20 in /usr/local/lib/python3.10/dist-packages (from tensorflow==2.8.0) (1.23.5)\n",
      "Requirement already satisfied: opt-einsum>=2.3.2 in /usr/local/lib/python3.10/dist-packages (from tensorflow==2.8.0) (3.3.0)\n",
      "Requirement already satisfied: protobuf>=3.9.2 in /usr/local/lib/python3.10/dist-packages (from tensorflow==2.8.0) (3.20.3)\n",
      "Requirement already satisfied: setuptools in /usr/local/lib/python3.10/dist-packages (from tensorflow==2.8.0) (67.7.2)\n",
      "Requirement already satisfied: six>=1.12.0 in /usr/local/lib/python3.10/dist-packages (from tensorflow==2.8.0) (1.16.0)\n",
      "Requirement already satisfied: termcolor>=1.1.0 in /usr/local/lib/python3.10/dist-packages (from tensorflow==2.8.0) (2.3.0)\n",
      "Requirement already satisfied: typing-extensions>=3.6.6 in /usr/local/lib/python3.10/dist-packages (from tensorflow==2.8.0) (4.5.0)\n",
      "Requirement already satisfied: wrapt>=1.11.0 in /usr/local/lib/python3.10/dist-packages (from tensorflow==2.8.0) (1.14.1)\n",
      "Requirement already satisfied: tensorboard<2.9,>=2.8 in /usr/local/lib/python3.10/dist-packages (from tensorflow==2.8.0) (2.8.0)\n",
      "Requirement already satisfied: tf-estimator-nightly==2.8.0.dev2021122109 in /usr/local/lib/python3.10/dist-packages (from tensorflow==2.8.0) (2.8.0.dev2021122109)\n",
      "Requirement already satisfied: keras<2.9,>=2.8.0rc0 in /usr/local/lib/python3.10/dist-packages (from tensorflow==2.8.0) (2.8.0)\n",
      "Requirement already satisfied: tensorflow-io-gcs-filesystem>=0.23.1 in /usr/local/lib/python3.10/dist-packages (from tensorflow==2.8.0) (0.34.0)\n",
      "Requirement already satisfied: grpcio<2.0,>=1.24.3 in /usr/local/lib/python3.10/dist-packages (from tensorflow==2.8.0) (1.59.2)\n",
      "Requirement already satisfied: wheel<1.0,>=0.23.0 in /usr/local/lib/python3.10/dist-packages (from astunparse>=1.6.0->tensorflow==2.8.0) (0.41.3)\n",
      "Requirement already satisfied: google-auth<3,>=1.6.3 in /usr/local/lib/python3.10/dist-packages (from tensorboard<2.9,>=2.8->tensorflow==2.8.0) (2.17.3)\n",
      "Requirement already satisfied: google-auth-oauthlib<0.5,>=0.4.1 in /usr/local/lib/python3.10/dist-packages (from tensorboard<2.9,>=2.8->tensorflow==2.8.0) (0.4.6)\n",
      "Requirement already satisfied: markdown>=2.6.8 in /usr/local/lib/python3.10/dist-packages (from tensorboard<2.9,>=2.8->tensorflow==2.8.0) (3.5.1)\n",
      "Requirement already satisfied: requests<3,>=2.21.0 in /usr/local/lib/python3.10/dist-packages (from tensorboard<2.9,>=2.8->tensorflow==2.8.0) (2.31.0)\n",
      "Requirement already satisfied: tensorboard-data-server<0.7.0,>=0.6.0 in /usr/local/lib/python3.10/dist-packages (from tensorboard<2.9,>=2.8->tensorflow==2.8.0) (0.6.1)\n",
      "Requirement already satisfied: tensorboard-plugin-wit>=1.6.0 in /usr/local/lib/python3.10/dist-packages (from tensorboard<2.9,>=2.8->tensorflow==2.8.0) (1.8.1)\n",
      "Requirement already satisfied: werkzeug>=0.11.15 in /usr/local/lib/python3.10/dist-packages (from tensorboard<2.9,>=2.8->tensorflow==2.8.0) (3.0.1)\n",
      "Requirement already satisfied: cachetools<6.0,>=2.0.0 in /usr/local/lib/python3.10/dist-packages (from google-auth<3,>=1.6.3->tensorboard<2.9,>=2.8->tensorflow==2.8.0) (5.3.2)\n",
      "Requirement already satisfied: pyasn1-modules>=0.2.1 in /usr/local/lib/python3.10/dist-packages (from google-auth<3,>=1.6.3->tensorboard<2.9,>=2.8->tensorflow==2.8.0) (0.3.0)\n",
      "Requirement already satisfied: rsa<5,>=3.1.4 in /usr/local/lib/python3.10/dist-packages (from google-auth<3,>=1.6.3->tensorboard<2.9,>=2.8->tensorflow==2.8.0) (4.9)\n",
      "Requirement already satisfied: requests-oauthlib>=0.7.0 in /usr/local/lib/python3.10/dist-packages (from google-auth-oauthlib<0.5,>=0.4.1->tensorboard<2.9,>=2.8->tensorflow==2.8.0) (1.3.1)\n",
      "Requirement already satisfied: charset-normalizer<4,>=2 in /usr/local/lib/python3.10/dist-packages (from requests<3,>=2.21.0->tensorboard<2.9,>=2.8->tensorflow==2.8.0) (3.3.2)\n",
      "Requirement already satisfied: idna<4,>=2.5 in /usr/local/lib/python3.10/dist-packages (from requests<3,>=2.21.0->tensorboard<2.9,>=2.8->tensorflow==2.8.0) (3.4)\n",
      "Requirement already satisfied: urllib3<3,>=1.21.1 in /usr/local/lib/python3.10/dist-packages (from requests<3,>=2.21.0->tensorboard<2.9,>=2.8->tensorflow==2.8.0) (2.0.7)\n",
      "Requirement already satisfied: certifi>=2017.4.17 in /usr/local/lib/python3.10/dist-packages (from requests<3,>=2.21.0->tensorboard<2.9,>=2.8->tensorflow==2.8.0) (2023.7.22)\n",
      "Requirement already satisfied: MarkupSafe>=2.1.1 in /usr/local/lib/python3.10/dist-packages (from werkzeug>=0.11.15->tensorboard<2.9,>=2.8->tensorflow==2.8.0) (2.1.3)\n",
      "Requirement already satisfied: pyasn1<0.6.0,>=0.4.6 in /usr/local/lib/python3.10/dist-packages (from pyasn1-modules>=0.2.1->google-auth<3,>=1.6.3->tensorboard<2.9,>=2.8->tensorflow==2.8.0) (0.5.0)\n",
      "Requirement already satisfied: oauthlib>=3.0.0 in /usr/local/lib/python3.10/dist-packages (from requests-oauthlib>=0.7.0->google-auth-oauthlib<0.5,>=0.4.1->tensorboard<2.9,>=2.8->tensorflow==2.8.0) (3.2.2)\n"
     ]
    }
   ],
   "source": [
    "# !pip3 install tensorflow==2.8.0"
   ]
  },
  {
   "cell_type": "code",
   "execution_count": 1,
   "metadata": {
    "executionInfo": {
     "elapsed": 4967,
     "status": "ok",
     "timestamp": 1700367133236,
     "user": {
      "displayName": "yihim",
      "userId": "08839180769355818284"
     },
     "user_tz": -480
    },
    "id": "0evL-SMYfCII"
   },
   "outputs": [],
   "source": [
    "import tensorflow as tf"
   ]
  },
  {
   "cell_type": "code",
   "execution_count": 2,
   "metadata": {
    "colab": {
     "base_uri": "https://localhost:8080/"
    },
    "executionInfo": {
     "elapsed": 12,
     "status": "ok",
     "timestamp": 1700367133237,
     "user": {
      "displayName": "yihim",
      "userId": "08839180769355818284"
     },
     "user_tz": -480
    },
    "id": "t6VRMIO3g5-r",
    "outputId": "a8b2bbc8-7f65-4345-ee02-bd4f502d49c5"
   },
   "outputs": [
    {
     "name": "stdout",
     "output_type": "stream",
     "text": [
      "2.8.0\n"
     ]
    }
   ],
   "source": [
    "print(tf.__version__)"
   ]
  },
  {
   "cell_type": "code",
   "execution_count": 3,
   "metadata": {
    "colab": {
     "base_uri": "https://localhost:8080/"
    },
    "executionInfo": {
     "elapsed": 7,
     "status": "ok",
     "timestamp": 1700367133237,
     "user": {
      "displayName": "yihim",
      "userId": "08839180769355818284"
     },
     "user_tz": -480
    },
    "id": "4x0sqgi3gcWA",
    "outputId": "78bcba37-0580-42d3-fea7-4c6095cc30db"
   },
   "outputs": [
    {
     "data": {
      "text/plain": [
       "PhysicalDevice(name='/physical_device:GPU:0', device_type='GPU')"
      ]
     },
     "execution_count": 3,
     "metadata": {},
     "output_type": "execute_result"
    }
   ],
   "source": [
    "tf.config.list_physical_devices('GPU')[0]"
   ]
  },
  {
   "cell_type": "code",
   "execution_count": 4,
   "metadata": {
    "executionInfo": {
     "elapsed": 5,
     "status": "ok",
     "timestamp": 1700367133237,
     "user": {
      "displayName": "yihim",
      "userId": "08839180769355818284"
     },
     "user_tz": -480
    },
    "id": "I8GJ8bGlfdqk"
   },
   "outputs": [],
   "source": [
    "tf.config.experimental.set_memory_growth(tf.config.list_physical_devices('GPU')[0], True)"
   ]
  },
  {
   "cell_type": "code",
   "execution_count": 5,
   "metadata": {
    "executionInfo": {
     "elapsed": 5,
     "status": "ok",
     "timestamp": 1700367133237,
     "user": {
      "displayName": "yihim",
      "userId": "08839180769355818284"
     },
     "user_tz": -480
    },
    "id": "v9h8FgFDgeKi"
   },
   "outputs": [],
   "source": [
    "import tensorflow_hub as hub"
   ]
  },
  {
   "cell_type": "markdown",
   "metadata": {
    "id": "STh_UpIFm8KN"
   },
   "source": [
    "## Getting the data\n",
    "\n",
    "* PubMed 200k RCT"
   ]
  },
  {
   "cell_type": "code",
   "execution_count": 9,
   "metadata": {
    "colab": {
     "base_uri": "https://localhost:8080/"
    },
    "executionInfo": {
     "elapsed": 865,
     "status": "ok",
     "timestamp": 1700367134098,
     "user": {
      "displayName": "yihim",
      "userId": "08839180769355818284"
     },
     "user_tz": -480
    },
    "id": "o4GcKMDYojwP",
    "outputId": "e3d4ebcd-4cc3-439c-c744-f1bb20d12dd8"
   },
   "outputs": [
    {
     "name": "stderr",
     "output_type": "stream",
     "text": [
      "'ls' is not recognized as an internal or external command,\n",
      "operable program or batch file.\n"
     ]
    }
   ],
   "source": [
    "# !git clone https://github.com/Franck-Dernoncourt/pubmed-rct\n",
    "!ls 'pubmed-rct'"
   ]
  },
  {
   "cell_type": "code",
   "execution_count": 8,
   "metadata": {
    "colab": {
     "base_uri": "https://localhost:8080/"
    },
    "executionInfo": {
     "elapsed": 13,
     "status": "ok",
     "timestamp": 1700367134098,
     "user": {
      "displayName": "yihim",
      "userId": "08839180769355818284"
     },
     "user_tz": -480
    },
    "id": "O0FDjriQo8UI",
    "outputId": "abd9026a-40ec-4d64-fe59-baffe90cf3f4"
   },
   "outputs": [
    {
     "name": "stdout",
     "output_type": "stream",
     "text": [
      "dev.txt  test.txt  train.txt\n"
     ]
    }
   ],
   "source": [
    "!ls pubmed-rct/PubMed_20k_RCT_numbers_replaced_with_at_sign/"
   ]
  },
  {
   "cell_type": "code",
   "execution_count": 10,
   "metadata": {
    "executionInfo": {
     "elapsed": 11,
     "status": "ok",
     "timestamp": 1700367134098,
     "user": {
      "displayName": "yihim",
      "userId": "08839180769355818284"
     },
     "user_tz": -480
    },
    "id": "3hAJMJ-5pe8b"
   },
   "outputs": [],
   "source": [
    "data_dir = \"pubmed-rct/PubMed_20k_RCT_numbers_replaced_with_at_sign\""
   ]
  },
  {
   "cell_type": "code",
   "execution_count": 12,
   "metadata": {
    "colab": {
     "base_uri": "https://localhost:8080/"
    },
    "executionInfo": {
     "elapsed": 12,
     "status": "ok",
     "timestamp": 1700367134099,
     "user": {
      "displayName": "yihim",
      "userId": "08839180769355818284"
     },
     "user_tz": -480
    },
    "id": "6McA7G-iqqkC",
    "outputId": "0d03a2f1-f6cb-4665-ac88-6c78df0c198b"
   },
   "outputs": [
    {
     "data": {
      "text/plain": [
       "['pubmed-rct/PubMed_20k_RCT_numbers_replaced_with_at_sign/dev.txt',\n",
       " 'pubmed-rct/PubMed_20k_RCT_numbers_replaced_with_at_sign/test.txt',\n",
       " 'pubmed-rct/PubMed_20k_RCT_numbers_replaced_with_at_sign/train.txt']"
      ]
     },
     "execution_count": 12,
     "metadata": {},
     "output_type": "execute_result"
    }
   ],
   "source": [
    "import os\n",
    "filenames = [data_dir + \"/\" + filename for filename in os.listdir(\"pubmed-rct/PubMed_20k_RCT_numbers_replaced_with_at_sign\")]\n",
    "filenames"
   ]
  },
  {
   "cell_type": "markdown",
   "metadata": {
    "id": "xGyGqoK2q35o"
   },
   "source": [
    "## Preprocess data"
   ]
  },
  {
   "cell_type": "code",
   "execution_count": 13,
   "metadata": {
    "executionInfo": {
     "elapsed": 10,
     "status": "ok",
     "timestamp": 1700367134099,
     "user": {
      "displayName": "yihim",
      "userId": "08839180769355818284"
     },
     "user_tz": -480
    },
    "id": "o8yH3-RvrW8E"
   },
   "outputs": [],
   "source": [
    "# Create function to read the lines of a document\n",
    "def get_lines(filename):\n",
    "  \"\"\"\n",
    "  Reads filename (a text filename) and returns the lines of text as a list.\n",
    "  \"\"\"\n",
    "  with open(filename, \"r\") as f:\n",
    "    return f.readlines()"
   ]
  },
  {
   "cell_type": "code",
   "execution_count": 14,
   "metadata": {
    "colab": {
     "base_uri": "https://localhost:8080/"
    },
    "executionInfo": {
     "elapsed": 10,
     "status": "ok",
     "timestamp": 1700367134099,
     "user": {
      "displayName": "yihim",
      "userId": "08839180769355818284"
     },
     "user_tz": -480
    },
    "id": "ntvYvBeFsKSa",
    "outputId": "2ab08841-a032-47cb-87ba-91d156468a59"
   },
   "outputs": [
    {
     "data": {
      "text/plain": [
       "['###24293578\\n',\n",
       " 'OBJECTIVE\\tTo investigate the efficacy of @ weeks of daily low-dose oral prednisolone in improving pain , mobility , and systemic low-grade inflammation in the short term and whether the effect would be sustained at @ weeks in older adults with moderate to severe knee osteoarthritis ( OA ) .\\n',\n",
       " 'METHODS\\tA total of @ patients with primary knee OA were randomized @:@ ; @ received @ mg/day of prednisolone and @ received placebo for @ weeks .\\n',\n",
       " 'METHODS\\tOutcome measures included pain reduction and improvement in function scores and systemic inflammation markers .\\n',\n",
       " 'METHODS\\tPain was assessed using the visual analog pain scale ( @-@ mm ) .\\n',\n",
       " 'METHODS\\tSecondary outcome measures included the Western Ontario and McMaster Universities Osteoarthritis Index scores , patient global assessment ( PGA ) of the severity of knee OA , and @-min walk distance ( @MWD ) .\\n',\n",
       " 'METHODS\\tSerum levels of interleukin @ ( IL-@ ) , IL-@ , tumor necrosis factor ( TNF ) - , and high-sensitivity C-reactive protein ( hsCRP ) were measured .\\n',\n",
       " 'RESULTS\\tThere was a clinically relevant reduction in the intervention group compared to the placebo group for knee pain , physical function , PGA , and @MWD at @ weeks .\\n',\n",
       " 'RESULTS\\tThe mean difference between treatment arms ( @ % CI ) was @ ( @-@ @ ) , p < @ ; @ ( @-@ @ ) , p < @ ; @ ( @-@ @ ) , p < @ ; and @ ( @-@ @ ) , p < @ , respectively .\\n',\n",
       " 'RESULTS\\tFurther , there was a clinically relevant reduction in the serum levels of IL-@ , IL-@ , TNF - , and hsCRP at @ weeks in the intervention group when compared to the placebo group .\\n',\n",
       " 'RESULTS\\tThese differences remained significant at @ weeks .\\n',\n",
       " 'RESULTS\\tThe Outcome Measures in Rheumatology Clinical Trials-Osteoarthritis Research Society International responder rate was @ % in the intervention group and @ % in the placebo group ( p < @ ) .\\n',\n",
       " 'CONCLUSIONS\\tLow-dose oral prednisolone had both a short-term and a longer sustained effect resulting in less knee pain , better physical function , and attenuation of systemic inflammation in older patients with knee OA ( ClinicalTrials.gov identifier NCT@ ) .\\n',\n",
       " '\\n',\n",
       " '###24854809\\n',\n",
       " 'BACKGROUND\\tEmotional eating is associated with overeating and the development of obesity .\\n',\n",
       " 'BACKGROUND\\tYet , empirical evidence for individual ( trait ) differences in emotional eating and cognitive mechanisms that contribute to eating during sad mood remain equivocal .\\n',\n",
       " 'OBJECTIVE\\tThe aim of this study was to test if attention bias for food moderates the effect of self-reported emotional eating during sad mood ( vs neutral mood ) on actual food intake .\\n',\n",
       " 'OBJECTIVE\\tIt was expected that emotional eating is predictive of elevated attention for food and higher food intake after an experimentally induced sad mood and that attentional maintenance on food predicts food intake during a sad versus a neutral mood .\\n',\n",
       " 'METHODS\\tParticipants ( N = @ ) were randomly assigned to one of the two experimental mood induction conditions ( sad/neutral ) .\\n']"
      ]
     },
     "execution_count": 14,
     "metadata": {},
     "output_type": "execute_result"
    }
   ],
   "source": [
    "train_lines = get_lines(filenames[2])\n",
    "train_lines[:20]"
   ]
  },
  {
   "cell_type": "code",
   "execution_count": 15,
   "metadata": {
    "colab": {
     "base_uri": "https://localhost:8080/"
    },
    "executionInfo": {
     "elapsed": 7,
     "status": "ok",
     "timestamp": 1700367134099,
     "user": {
      "displayName": "yihim",
      "userId": "08839180769355818284"
     },
     "user_tz": -480
    },
    "id": "tF4WGb0lsXxj",
    "outputId": "ceb0b9c9-2962-4eaf-b2f9-eca78f8f9424"
   },
   "outputs": [
    {
     "data": {
      "text/plain": [
       "210040"
      ]
     },
     "execution_count": 15,
     "metadata": {},
     "output_type": "execute_result"
    }
   ],
   "source": [
    "len(train_lines)"
   ]
  },
  {
   "cell_type": "code",
   "execution_count": 16,
   "metadata": {
    "executionInfo": {
     "elapsed": 5,
     "status": "ok",
     "timestamp": 1700367134099,
     "user": {
      "displayName": "yihim",
      "userId": "08839180769355818284"
     },
     "user_tz": -480
    },
    "id": "GkASV78du0A5"
   },
   "outputs": [],
   "source": [
    "val_lines = get_lines(filenames[0])\n",
    "test_lines = get_lines(filenames[1])"
   ]
  },
  {
   "cell_type": "markdown",
   "metadata": {
    "id": "tAvCgGsast7J"
   },
   "source": [
    "```\n",
    "[{'line_number': 0,\n",
    "   'target': 'BACKGROUND',\n",
    "   'text': 'Emotional eating is associated with overeating and the development of obesity .\\n'\n",
    "   'total_lines': 11},\n",
    "   ...]\n",
    "```"
   ]
  },
  {
   "cell_type": "code",
   "execution_count": 17,
   "metadata": {
    "executionInfo": {
     "elapsed": 5,
     "status": "ok",
     "timestamp": 1700367134099,
     "user": {
      "displayName": "yihim",
      "userId": "08839180769355818284"
     },
     "user_tz": -480
    },
    "id": "bfV_-J_8uPeU"
   },
   "outputs": [],
   "source": [
    "def preprocess_text_with_line_numbers(filename):\n",
    "  \"\"\"\n",
    "  Return a list of dictionaries of abstract line data.\n",
    "  \"\"\"\n",
    "  input_lines = get_lines(filename) # get all lunes from filename\n",
    "  absctract_lines = \"\" # create an empty abstract\n",
    "  abstract_samples = [] # create an empty list of abstracts\n",
    "\n",
    "  # loop through each line in the target file\n",
    "  for line in input_lines:\n",
    "    if line.startswith(\"###\"): # check to see if its the ID line\n",
    "      abstract_id = line\n",
    "      abstract_lines = \"\" # reset the abstract string if the line is an ID line\n",
    "\n",
    "    elif line.isspace(): # check to see if line is a new line\n",
    "      abstract_line_split = abstract_lines.splitlines() # split abstract into separate line\n",
    "\n",
    "      # Iterate through each line in a single abstract and count them at the same time\n",
    "      for abstract_line_number, abstract_line in enumerate(abstract_line_split):\n",
    "        line_data = {}\n",
    "        target_text_split = abstract_line.split(\"\\t\")\n",
    "        line_data[\"target\"] = target_text_split[0]\n",
    "        line_data[\"text\"] = target_text_split[1].lower()\n",
    "        line_data[\"line_number\"] = abstract_line_number\n",
    "        line_data[\"total_lines\"] = len(abstract_line_split) -1\n",
    "        abstract_samples.append(line_data)\n",
    "\n",
    "    else:\n",
    "        abstract_lines += line\n",
    "\n",
    "  return abstract_samples"
   ]
  },
  {
   "cell_type": "code",
   "execution_count": 19,
   "metadata": {
    "colab": {
     "base_uri": "https://localhost:8080/"
    },
    "executionInfo": {
     "elapsed": 778,
     "status": "ok",
     "timestamp": 1700367134873,
     "user": {
      "displayName": "yihim",
      "userId": "08839180769355818284"
     },
     "user_tz": -480
    },
    "id": "oBLzARDyzow3",
    "outputId": "adcf1685-231b-4786-a81c-7a259987e2be"
   },
   "outputs": [
    {
     "name": "stdout",
     "output_type": "stream",
     "text": [
      "180040 30212 30135\n"
     ]
    }
   ],
   "source": [
    "# Get data from file and preprocess it\n",
    "# %%time\n",
    "train_samples = preprocess_text_with_line_numbers(filenames[2])\n",
    "val_samples = preprocess_text_with_line_numbers(filenames[0])\n",
    "test_samples = preprocess_text_with_line_numbers(filenames[1])\n",
    "print(len(train_samples), len(val_samples), len(test_samples))"
   ]
  },
  {
   "cell_type": "code",
   "execution_count": 20,
   "metadata": {
    "colab": {
     "base_uri": "https://localhost:8080/"
    },
    "executionInfo": {
     "elapsed": 11,
     "status": "ok",
     "timestamp": 1700367134873,
     "user": {
      "displayName": "yihim",
      "userId": "08839180769355818284"
     },
     "user_tz": -480
    },
    "id": "vx92esYCz8Xk",
    "outputId": "7c6d53df-bfd4-4f92-bf7c-08996b463462"
   },
   "outputs": [
    {
     "data": {
      "text/plain": [
       "[{'target': 'OBJECTIVE',\n",
       "  'text': 'to investigate the efficacy of @ weeks of daily low-dose oral prednisolone in improving pain , mobility , and systemic low-grade inflammation in the short term and whether the effect would be sustained at @ weeks in older adults with moderate to severe knee osteoarthritis ( oa ) .',\n",
       "  'line_number': 0,\n",
       "  'total_lines': 11},\n",
       " {'target': 'METHODS',\n",
       "  'text': 'a total of @ patients with primary knee oa were randomized @:@ ; @ received @ mg/day of prednisolone and @ received placebo for @ weeks .',\n",
       "  'line_number': 1,\n",
       "  'total_lines': 11},\n",
       " {'target': 'METHODS',\n",
       "  'text': 'outcome measures included pain reduction and improvement in function scores and systemic inflammation markers .',\n",
       "  'line_number': 2,\n",
       "  'total_lines': 11},\n",
       " {'target': 'METHODS',\n",
       "  'text': 'pain was assessed using the visual analog pain scale ( @-@ mm ) .',\n",
       "  'line_number': 3,\n",
       "  'total_lines': 11},\n",
       " {'target': 'METHODS',\n",
       "  'text': 'secondary outcome measures included the western ontario and mcmaster universities osteoarthritis index scores , patient global assessment ( pga ) of the severity of knee oa , and @-min walk distance ( @mwd ) .',\n",
       "  'line_number': 4,\n",
       "  'total_lines': 11},\n",
       " {'target': 'METHODS',\n",
       "  'text': 'serum levels of interleukin @ ( il-@ ) , il-@ , tumor necrosis factor ( tnf ) - , and high-sensitivity c-reactive protein ( hscrp ) were measured .',\n",
       "  'line_number': 5,\n",
       "  'total_lines': 11},\n",
       " {'target': 'RESULTS',\n",
       "  'text': 'there was a clinically relevant reduction in the intervention group compared to the placebo group for knee pain , physical function , pga , and @mwd at @ weeks .',\n",
       "  'line_number': 6,\n",
       "  'total_lines': 11},\n",
       " {'target': 'RESULTS',\n",
       "  'text': 'the mean difference between treatment arms ( @ % ci ) was @ ( @-@ @ ) , p < @ ; @ ( @-@ @ ) , p < @ ; @ ( @-@ @ ) , p < @ ; and @ ( @-@ @ ) , p < @ , respectively .',\n",
       "  'line_number': 7,\n",
       "  'total_lines': 11},\n",
       " {'target': 'RESULTS',\n",
       "  'text': 'further , there was a clinically relevant reduction in the serum levels of il-@ , il-@ , tnf - , and hscrp at @ weeks in the intervention group when compared to the placebo group .',\n",
       "  'line_number': 8,\n",
       "  'total_lines': 11},\n",
       " {'target': 'RESULTS',\n",
       "  'text': 'these differences remained significant at @ weeks .',\n",
       "  'line_number': 9,\n",
       "  'total_lines': 11},\n",
       " {'target': 'RESULTS',\n",
       "  'text': 'the outcome measures in rheumatology clinical trials-osteoarthritis research society international responder rate was @ % in the intervention group and @ % in the placebo group ( p < @ ) .',\n",
       "  'line_number': 10,\n",
       "  'total_lines': 11},\n",
       " {'target': 'CONCLUSIONS',\n",
       "  'text': 'low-dose oral prednisolone had both a short-term and a longer sustained effect resulting in less knee pain , better physical function , and attenuation of systemic inflammation in older patients with knee oa ( clinicaltrials.gov identifier nct@ ) .',\n",
       "  'line_number': 11,\n",
       "  'total_lines': 11}]"
      ]
     },
     "execution_count": 20,
     "metadata": {},
     "output_type": "execute_result"
    }
   ],
   "source": [
    "train_samples[:12]"
   ]
  },
  {
   "cell_type": "code",
   "execution_count": 21,
   "metadata": {
    "executionInfo": {
     "elapsed": 10,
     "status": "ok",
     "timestamp": 1700367134874,
     "user": {
      "displayName": "yihim",
      "userId": "08839180769355818284"
     },
     "user_tz": -480
    },
    "id": "7Mo0fO6f37yS"
   },
   "outputs": [],
   "source": [
    "import pandas as pd"
   ]
  },
  {
   "cell_type": "code",
   "execution_count": 22,
   "metadata": {
    "executionInfo": {
     "elapsed": 10,
     "status": "ok",
     "timestamp": 1700367134874,
     "user": {
      "displayName": "yihim",
      "userId": "08839180769355818284"
     },
     "user_tz": -480
    },
    "id": "Jn5BO6Dh5EIN"
   },
   "outputs": [],
   "source": [
    "train_df = pd.DataFrame(train_samples)\n",
    "val_df = pd.DataFrame(val_samples)\n",
    "test_df = pd.DataFrame(test_samples)"
   ]
  },
  {
   "cell_type": "code",
   "execution_count": 23,
   "metadata": {
    "colab": {
     "base_uri": "https://localhost:8080/",
     "height": 677
    },
    "executionInfo": {
     "elapsed": 10,
     "status": "ok",
     "timestamp": 1700367134874,
     "user": {
      "displayName": "yihim",
      "userId": "08839180769355818284"
     },
     "user_tz": -480
    },
    "id": "EsWPDH-v5Ulz",
    "outputId": "98dbb12c-c93d-4f53-ac2f-2e5271f24c40"
   },
   "outputs": [
    {
     "data": {
      "text/html": [
       "<div>\n",
       "<style scoped>\n",
       "    .dataframe tbody tr th:only-of-type {\n",
       "        vertical-align: middle;\n",
       "    }\n",
       "\n",
       "    .dataframe tbody tr th {\n",
       "        vertical-align: top;\n",
       "    }\n",
       "\n",
       "    .dataframe thead th {\n",
       "        text-align: right;\n",
       "    }\n",
       "</style>\n",
       "<table border=\"1\" class=\"dataframe\">\n",
       "  <thead>\n",
       "    <tr style=\"text-align: right;\">\n",
       "      <th></th>\n",
       "      <th>target</th>\n",
       "      <th>text</th>\n",
       "      <th>line_number</th>\n",
       "      <th>total_lines</th>\n",
       "    </tr>\n",
       "  </thead>\n",
       "  <tbody>\n",
       "    <tr>\n",
       "      <th>0</th>\n",
       "      <td>OBJECTIVE</td>\n",
       "      <td>to investigate the efficacy of @ weeks of dail...</td>\n",
       "      <td>0</td>\n",
       "      <td>11</td>\n",
       "    </tr>\n",
       "    <tr>\n",
       "      <th>1</th>\n",
       "      <td>METHODS</td>\n",
       "      <td>a total of @ patients with primary knee oa wer...</td>\n",
       "      <td>1</td>\n",
       "      <td>11</td>\n",
       "    </tr>\n",
       "    <tr>\n",
       "      <th>2</th>\n",
       "      <td>METHODS</td>\n",
       "      <td>outcome measures included pain reduction and i...</td>\n",
       "      <td>2</td>\n",
       "      <td>11</td>\n",
       "    </tr>\n",
       "    <tr>\n",
       "      <th>3</th>\n",
       "      <td>METHODS</td>\n",
       "      <td>pain was assessed using the visual analog pain...</td>\n",
       "      <td>3</td>\n",
       "      <td>11</td>\n",
       "    </tr>\n",
       "    <tr>\n",
       "      <th>4</th>\n",
       "      <td>METHODS</td>\n",
       "      <td>secondary outcome measures included the wester...</td>\n",
       "      <td>4</td>\n",
       "      <td>11</td>\n",
       "    </tr>\n",
       "    <tr>\n",
       "      <th>5</th>\n",
       "      <td>METHODS</td>\n",
       "      <td>serum levels of interleukin @ ( il-@ ) , il-@ ...</td>\n",
       "      <td>5</td>\n",
       "      <td>11</td>\n",
       "    </tr>\n",
       "    <tr>\n",
       "      <th>6</th>\n",
       "      <td>RESULTS</td>\n",
       "      <td>there was a clinically relevant reduction in t...</td>\n",
       "      <td>6</td>\n",
       "      <td>11</td>\n",
       "    </tr>\n",
       "    <tr>\n",
       "      <th>7</th>\n",
       "      <td>RESULTS</td>\n",
       "      <td>the mean difference between treatment arms ( @...</td>\n",
       "      <td>7</td>\n",
       "      <td>11</td>\n",
       "    </tr>\n",
       "    <tr>\n",
       "      <th>8</th>\n",
       "      <td>RESULTS</td>\n",
       "      <td>further , there was a clinically relevant redu...</td>\n",
       "      <td>8</td>\n",
       "      <td>11</td>\n",
       "    </tr>\n",
       "    <tr>\n",
       "      <th>9</th>\n",
       "      <td>RESULTS</td>\n",
       "      <td>these differences remained significant at @ we...</td>\n",
       "      <td>9</td>\n",
       "      <td>11</td>\n",
       "    </tr>\n",
       "    <tr>\n",
       "      <th>10</th>\n",
       "      <td>RESULTS</td>\n",
       "      <td>the outcome measures in rheumatology clinical ...</td>\n",
       "      <td>10</td>\n",
       "      <td>11</td>\n",
       "    </tr>\n",
       "    <tr>\n",
       "      <th>11</th>\n",
       "      <td>CONCLUSIONS</td>\n",
       "      <td>low-dose oral prednisolone had both a short-te...</td>\n",
       "      <td>11</td>\n",
       "      <td>11</td>\n",
       "    </tr>\n",
       "    <tr>\n",
       "      <th>12</th>\n",
       "      <td>BACKGROUND</td>\n",
       "      <td>emotional eating is associated with overeating...</td>\n",
       "      <td>0</td>\n",
       "      <td>10</td>\n",
       "    </tr>\n",
       "    <tr>\n",
       "      <th>13</th>\n",
       "      <td>BACKGROUND</td>\n",
       "      <td>yet , empirical evidence for individual ( trai...</td>\n",
       "      <td>1</td>\n",
       "      <td>10</td>\n",
       "    </tr>\n",
       "    <tr>\n",
       "      <th>14</th>\n",
       "      <td>OBJECTIVE</td>\n",
       "      <td>the aim of this study was to test if attention...</td>\n",
       "      <td>2</td>\n",
       "      <td>10</td>\n",
       "    </tr>\n",
       "    <tr>\n",
       "      <th>15</th>\n",
       "      <td>OBJECTIVE</td>\n",
       "      <td>it was expected that emotional eating is predi...</td>\n",
       "      <td>3</td>\n",
       "      <td>10</td>\n",
       "    </tr>\n",
       "    <tr>\n",
       "      <th>16</th>\n",
       "      <td>METHODS</td>\n",
       "      <td>participants ( n = @ ) were randomly assigned ...</td>\n",
       "      <td>4</td>\n",
       "      <td>10</td>\n",
       "    </tr>\n",
       "    <tr>\n",
       "      <th>17</th>\n",
       "      <td>METHODS</td>\n",
       "      <td>attentional biases for high caloric foods were...</td>\n",
       "      <td>5</td>\n",
       "      <td>10</td>\n",
       "    </tr>\n",
       "    <tr>\n",
       "      <th>18</th>\n",
       "      <td>METHODS</td>\n",
       "      <td>self-reported emotional eating was assessed wi...</td>\n",
       "      <td>6</td>\n",
       "      <td>10</td>\n",
       "    </tr>\n",
       "    <tr>\n",
       "      <th>19</th>\n",
       "      <td>RESULTS</td>\n",
       "      <td>hierarchical multivariate regression modeling ...</td>\n",
       "      <td>7</td>\n",
       "      <td>10</td>\n",
       "    </tr>\n",
       "  </tbody>\n",
       "</table>\n",
       "</div>"
      ],
      "text/plain": [
       "         target                                               text  \\\n",
       "0     OBJECTIVE  to investigate the efficacy of @ weeks of dail...   \n",
       "1       METHODS  a total of @ patients with primary knee oa wer...   \n",
       "2       METHODS  outcome measures included pain reduction and i...   \n",
       "3       METHODS  pain was assessed using the visual analog pain...   \n",
       "4       METHODS  secondary outcome measures included the wester...   \n",
       "5       METHODS  serum levels of interleukin @ ( il-@ ) , il-@ ...   \n",
       "6       RESULTS  there was a clinically relevant reduction in t...   \n",
       "7       RESULTS  the mean difference between treatment arms ( @...   \n",
       "8       RESULTS  further , there was a clinically relevant redu...   \n",
       "9       RESULTS  these differences remained significant at @ we...   \n",
       "10      RESULTS  the outcome measures in rheumatology clinical ...   \n",
       "11  CONCLUSIONS  low-dose oral prednisolone had both a short-te...   \n",
       "12   BACKGROUND  emotional eating is associated with overeating...   \n",
       "13   BACKGROUND  yet , empirical evidence for individual ( trai...   \n",
       "14    OBJECTIVE  the aim of this study was to test if attention...   \n",
       "15    OBJECTIVE  it was expected that emotional eating is predi...   \n",
       "16      METHODS  participants ( n = @ ) were randomly assigned ...   \n",
       "17      METHODS  attentional biases for high caloric foods were...   \n",
       "18      METHODS  self-reported emotional eating was assessed wi...   \n",
       "19      RESULTS  hierarchical multivariate regression modeling ...   \n",
       "\n",
       "    line_number  total_lines  \n",
       "0             0           11  \n",
       "1             1           11  \n",
       "2             2           11  \n",
       "3             3           11  \n",
       "4             4           11  \n",
       "5             5           11  \n",
       "6             6           11  \n",
       "7             7           11  \n",
       "8             8           11  \n",
       "9             9           11  \n",
       "10           10           11  \n",
       "11           11           11  \n",
       "12            0           10  \n",
       "13            1           10  \n",
       "14            2           10  \n",
       "15            3           10  \n",
       "16            4           10  \n",
       "17            5           10  \n",
       "18            6           10  \n",
       "19            7           10  "
      ]
     },
     "execution_count": 23,
     "metadata": {},
     "output_type": "execute_result"
    }
   ],
   "source": [
    "train_df.head(20)"
   ]
  },
  {
   "cell_type": "code",
   "execution_count": 24,
   "metadata": {
    "colab": {
     "base_uri": "https://localhost:8080/"
    },
    "executionInfo": {
     "elapsed": 9,
     "status": "ok",
     "timestamp": 1700367134874,
     "user": {
      "displayName": "yihim",
      "userId": "08839180769355818284"
     },
     "user_tz": -480
    },
    "id": "cdXL6Hyy6H3J",
    "outputId": "9c545e8d-bd03-46cb-efef-7946139279e0"
   },
   "outputs": [
    {
     "data": {
      "text/plain": [
       "target\n",
       "METHODS        59353\n",
       "RESULTS        57953\n",
       "CONCLUSIONS    27168\n",
       "BACKGROUND     21727\n",
       "OBJECTIVE      13839\n",
       "Name: count, dtype: int64"
      ]
     },
     "execution_count": 24,
     "metadata": {},
     "output_type": "execute_result"
    }
   ],
   "source": [
    "train_df[\"target\"].value_counts()"
   ]
  },
  {
   "cell_type": "code",
   "execution_count": 25,
   "metadata": {
    "colab": {
     "base_uri": "https://localhost:8080/",
     "height": 448
    },
    "executionInfo": {
     "elapsed": 1442,
     "status": "ok",
     "timestamp": 1700367136310,
     "user": {
      "displayName": "yihim",
      "userId": "08839180769355818284"
     },
     "user_tz": -480
    },
    "id": "Rw8looNy6uKS",
    "outputId": "12dfe552-ee9c-4ea9-caf5-42f22d1ec037"
   },
   "outputs": [
    {
     "data": {
      "text/plain": [
       "<Axes: ylabel='Frequency'>"
      ]
     },
     "execution_count": 25,
     "metadata": {},
     "output_type": "execute_result"
    },
    {
     "data": {
      "image/png": "[encoded data removed]",
      "text/plain": [
       "<Figure size 640x480 with 1 Axes>"
      ]
     },
     "metadata": {},
     "output_type": "display_data"
    }
   ],
   "source": [
    "train_df[\"total_lines\"].plot.hist()"
   ]
  },
  {
   "cell_type": "markdown",
   "metadata": {
    "id": "jlUW01bl69eI"
   },
   "source": [
    "## Get lists of sentences"
   ]
  },
  {
   "cell_type": "code",
   "execution_count": 26,
   "metadata": {
    "colab": {
     "base_uri": "https://localhost:8080/"
    },
    "executionInfo": {
     "elapsed": 9,
     "status": "ok",
     "timestamp": 1700367136310,
     "user": {
      "displayName": "yihim",
      "userId": "08839180769355818284"
     },
     "user_tz": -480
    },
    "id": "_OEKpE1_7HAQ",
    "outputId": "dd1c2b25-7b15-40e8-9d6b-f23bb7bb9ca0"
   },
   "outputs": [
    {
     "data": {
      "text/plain": [
       "(180040, 30212, 30135)"
      ]
     },
     "execution_count": 26,
     "metadata": {},
     "output_type": "execute_result"
    }
   ],
   "source": [
    "train_sentences = train_df[\"text\"].to_list()\n",
    "val_sentences = val_df[\"text\"].to_list()\n",
    "test_sentences = test_df[\"text\"].to_list()\n",
    "len(train_sentences), len(val_sentences), len(test_sentences)"
   ]
  },
  {
   "cell_type": "code",
   "execution_count": 27,
   "metadata": {
    "colab": {
     "base_uri": "https://localhost:8080/"
    },
    "executionInfo": {
     "elapsed": 7,
     "status": "ok",
     "timestamp": 1700367136310,
     "user": {
      "displayName": "yihim",
      "userId": "08839180769355818284"
     },
     "user_tz": -480
    },
    "id": "rzK2_tCP7Pyy",
    "outputId": "a1f5fb76-ddb0-4c93-b521-88e2e3c5947e"
   },
   "outputs": [
    {
     "data": {
      "text/plain": [
       "['to investigate the efficacy of @ weeks of daily low-dose oral prednisolone in improving pain , mobility , and systemic low-grade inflammation in the short term and whether the effect would be sustained at @ weeks in older adults with moderate to severe knee osteoarthritis ( oa ) .',\n",
       " 'a total of @ patients with primary knee oa were randomized @:@ ; @ received @ mg/day of prednisolone and @ received placebo for @ weeks .',\n",
       " 'outcome measures included pain reduction and improvement in function scores and systemic inflammation markers .',\n",
       " 'pain was assessed using the visual analog pain scale ( @-@ mm ) .',\n",
       " 'secondary outcome measures included the western ontario and mcmaster universities osteoarthritis index scores , patient global assessment ( pga ) of the severity of knee oa , and @-min walk distance ( @mwd ) .',\n",
       " 'serum levels of interleukin @ ( il-@ ) , il-@ , tumor necrosis factor ( tnf ) - , and high-sensitivity c-reactive protein ( hscrp ) were measured .',\n",
       " 'there was a clinically relevant reduction in the intervention group compared to the placebo group for knee pain , physical function , pga , and @mwd at @ weeks .',\n",
       " 'the mean difference between treatment arms ( @ % ci ) was @ ( @-@ @ ) , p < @ ; @ ( @-@ @ ) , p < @ ; @ ( @-@ @ ) , p < @ ; and @ ( @-@ @ ) , p < @ , respectively .',\n",
       " 'further , there was a clinically relevant reduction in the serum levels of il-@ , il-@ , tnf - , and hscrp at @ weeks in the intervention group when compared to the placebo group .',\n",
       " 'these differences remained significant at @ weeks .']"
      ]
     },
     "execution_count": 27,
     "metadata": {},
     "output_type": "execute_result"
    }
   ],
   "source": [
    "train_sentences[:10]"
   ]
  },
  {
   "cell_type": "markdown",
   "metadata": {
    "id": "FXhj8qYD7oD6"
   },
   "source": [
    "## Make numeric labels"
   ]
  },
  {
   "cell_type": "code",
   "execution_count": 28,
   "metadata": {
    "colab": {
     "base_uri": "https://localhost:8080/"
    },
    "executionInfo": {
     "elapsed": 6,
     "status": "ok",
     "timestamp": 1700367136310,
     "user": {
      "displayName": "yihim",
      "userId": "08839180769355818284"
     },
     "user_tz": -480
    },
    "id": "YUhSPO6K8hlv",
    "outputId": "368259c1-4c74-4c8c-a34c-60a3d84119ff"
   },
   "outputs": [
    {
     "name": "stderr",
     "output_type": "stream",
     "text": [
      "C:\\Users\\yihim\\anaconda3\\envs\\mldl\\lib\\site-packages\\sklearn\\preprocessing\\_encoders.py:975: FutureWarning: `sparse` was renamed to `sparse_output` in version 1.2 and will be removed in 1.4. `sparse_output` is ignored unless you leave `sparse` to its default value.\n",
      "  warnings.warn(\n"
     ]
    }
   ],
   "source": [
    "# One hot encode labels\n",
    "from sklearn.preprocessing import OneHotEncoder\n",
    "from sklearn.preprocessing import LabelEncoder\n",
    "\n",
    "one_hot_encoder = OneHotEncoder(sparse=False)\n",
    "train_labels_one_hot = one_hot_encoder.fit_transform(train_df[\"target\"].to_numpy().reshape(-1,1))"
   ]
  },
  {
   "cell_type": "code",
   "execution_count": 29,
   "metadata": {
    "executionInfo": {
     "elapsed": 5,
     "status": "ok",
     "timestamp": 1700367136311,
     "user": {
      "displayName": "yihim",
      "userId": "08839180769355818284"
     },
     "user_tz": -480
    },
    "id": "p7E0Of4_90ox"
   },
   "outputs": [],
   "source": [
    "val_labels_one_hot = one_hot_encoder.transform(val_df[\"target\"].to_numpy().reshape(-1, 1))\n",
    "test_labels_one_hot = one_hot_encoder.transform(test_df[\"target\"].to_numpy().reshape(-1, 1))"
   ]
  },
  {
   "cell_type": "code",
   "execution_count": 30,
   "metadata": {
    "executionInfo": {
     "elapsed": 8,
     "status": "ok",
     "timestamp": 1700367137272,
     "user": {
      "displayName": "yihim",
      "userId": "08839180769355818284"
     },
     "user_tz": -480
    },
    "id": "OE5_tr80-gZo"
   },
   "outputs": [],
   "source": [
    "# label encode labels\n",
    "label_encoder = LabelEncoder()\n",
    "train_labels_encoded = label_encoder.fit_transform(train_df[\"target\"].to_numpy())\n",
    "val_labels_encoded = label_encoder.transform(val_df[\"target\"].to_numpy())\n",
    "test_labels_encoded = label_encoder.transform(test_df[\"target\"].to_numpy())"
   ]
  },
  {
   "cell_type": "code",
   "execution_count": 31,
   "metadata": {
    "colab": {
     "base_uri": "https://localhost:8080/"
    },
    "executionInfo": {
     "elapsed": 7,
     "status": "ok",
     "timestamp": 1700367137272,
     "user": {
      "displayName": "yihim",
      "userId": "08839180769355818284"
     },
     "user_tz": -480
    },
    "id": "5ECzeYVRbd9V",
    "outputId": "11367dfb-0c41-4cee-8233-d4ca61b77f87"
   },
   "outputs": [
    {
     "data": {
      "text/plain": [
       "array([0, 0, 3, ..., 4, 1, 1])"
      ]
     },
     "execution_count": 31,
     "metadata": {},
     "output_type": "execute_result"
    }
   ],
   "source": [
    "val_labels_encoded"
   ]
  },
  {
   "cell_type": "markdown",
   "metadata": {
    "id": "hr6F0lII_bVl"
   },
   "source": [
    "## Get the target names"
   ]
  },
  {
   "cell_type": "code",
   "execution_count": 32,
   "metadata": {
    "colab": {
     "base_uri": "https://localhost:8080/"
    },
    "executionInfo": {
     "elapsed": 4,
     "status": "ok",
     "timestamp": 1700367137272,
     "user": {
      "displayName": "yihim",
      "userId": "08839180769355818284"
     },
     "user_tz": -480
    },
    "id": "pbZaJkXg_vv_",
    "outputId": "46ea18c5-011d-4939-b664-2dc8c477f0f5"
   },
   "outputs": [
    {
     "data": {
      "text/plain": [
       "(5,\n",
       " array(['BACKGROUND', 'CONCLUSIONS', 'METHODS', 'OBJECTIVE', 'RESULTS'],\n",
       "       dtype=object))"
      ]
     },
     "execution_count": 32,
     "metadata": {},
     "output_type": "execute_result"
    }
   ],
   "source": [
    "num_classes = len(label_encoder.classes_)\n",
    "class_names = label_encoder.classes_\n",
    "num_classes, class_names"
   ]
  },
  {
   "cell_type": "markdown",
   "metadata": {
    "id": "-KG75qSFBiWr"
   },
   "source": [
    "## Model 0: Baseline"
   ]
  },
  {
   "cell_type": "code",
   "execution_count": 33,
   "metadata": {
    "colab": {
     "base_uri": "https://localhost:8080/",
     "height": 126
    },
    "executionInfo": {
     "elapsed": 1973,
     "status": "ok",
     "timestamp": 1700367139242,
     "user": {
      "displayName": "yihim",
      "userId": "08839180769355818284"
     },
     "user_tz": -480
    },
    "id": "RUM3elWRAlPL",
    "outputId": "7ccbc375-3b17-46f1-d9d7-386011c3f356"
   },
   "outputs": [
    {
     "data": {
      "text/html": [
       "<style>#sk-container-id-1 {color: black;}#sk-container-id-1 pre{padding: 0;}#sk-container-id-1 div.sk-toggleable {background-color: white;}#sk-container-id-1 label.sk-toggleable__label {cursor: pointer;display: block;width: 100%;margin-bottom: 0;padding: 0.3em;box-sizing: border-box;text-align: center;}#sk-container-id-1 label.sk-toggleable__label-arrow:before {content: \"▸\";float: left;margin-right: 0.25em;color: #696969;}#sk-container-id-1 label.sk-toggleable__label-arrow:hover:before {color: black;}#sk-container-id-1 div.sk-estimator:hover label.sk-toggleable__label-arrow:before {color: black;}#sk-container-id-1 div.sk-toggleable__content {max-height: 0;max-width: 0;overflow: hidden;text-align: left;background-color: #f0f8ff;}#sk-container-id-1 div.sk-toggleable__content pre {margin: 0.2em;color: black;border-radius: 0.25em;background-color: #f0f8ff;}#sk-container-id-1 input.sk-toggleable__control:checked~div.sk-toggleable__content {max-height: 200px;max-width: 100%;overflow: auto;}#sk-container-id-1 input.sk-toggleable__control:checked~label.sk-toggleable__label-arrow:before {content: \"▾\";}#sk-container-id-1 div.sk-estimator input.sk-toggleable__control:checked~label.sk-toggleable__label {background-color: #d4ebff;}#sk-container-id-1 div.sk-label input.sk-toggleable__control:checked~label.sk-toggleable__label {background-color: #d4ebff;}#sk-container-id-1 input.sk-hidden--visually {border: 0;clip: rect(1px 1px 1px 1px);clip: rect(1px, 1px, 1px, 1px);height: 1px;margin: -1px;overflow: hidden;padding: 0;position: absolute;width: 1px;}#sk-container-id-1 div.sk-estimator {font-family: monospace;background-color: #f0f8ff;border: 1px dotted black;border-radius: 0.25em;box-sizing: border-box;margin-bottom: 0.5em;}#sk-container-id-1 div.sk-estimator:hover {background-color: #d4ebff;}#sk-container-id-1 div.sk-parallel-item::after {content: \"\";width: 100%;border-bottom: 1px solid gray;flex-grow: 1;}#sk-container-id-1 div.sk-label:hover label.sk-toggleable__label {background-color: #d4ebff;}#sk-container-id-1 div.sk-serial::before {content: \"\";position: absolute;border-left: 1px solid gray;box-sizing: border-box;top: 0;bottom: 0;left: 50%;z-index: 0;}#sk-container-id-1 div.sk-serial {display: flex;flex-direction: column;align-items: center;background-color: white;padding-right: 0.2em;padding-left: 0.2em;position: relative;}#sk-container-id-1 div.sk-item {position: relative;z-index: 1;}#sk-container-id-1 div.sk-parallel {display: flex;align-items: stretch;justify-content: center;background-color: white;position: relative;}#sk-container-id-1 div.sk-item::before, #sk-container-id-1 div.sk-parallel-item::before {content: \"\";position: absolute;border-left: 1px solid gray;box-sizing: border-box;top: 0;bottom: 0;left: 50%;z-index: -1;}#sk-container-id-1 div.sk-parallel-item {display: flex;flex-direction: column;z-index: 1;position: relative;background-color: white;}#sk-container-id-1 div.sk-parallel-item:first-child::after {align-self: flex-end;width: 50%;}#sk-container-id-1 div.sk-parallel-item:last-child::after {align-self: flex-start;width: 50%;}#sk-container-id-1 div.sk-parallel-item:only-child::after {width: 0;}#sk-container-id-1 div.sk-dashed-wrapped {border: 1px dashed gray;margin: 0 0.4em 0.5em 0.4em;box-sizing: border-box;padding-bottom: 0.4em;background-color: white;}#sk-container-id-1 div.sk-label label {font-family: monospace;font-weight: bold;display: inline-block;line-height: 1.2em;}#sk-container-id-1 div.sk-label-container {text-align: center;}#sk-container-id-1 div.sk-container {/* jupyter's `normalize.less` sets `[hidden] { display: none; }` but bootstrap.min.css set `[hidden] { display: none !important; }` so we also need the `!important` here to be able to override the default hidden behavior on the sphinx rendered scikit-learn.org. See: https://github.com/scikit-learn/scikit-learn/issues/21755 */display: inline-block !important;position: relative;}#sk-container-id-1 div.sk-text-repr-fallback {display: none;}</style><div id=\"sk-container-id-1\" class=\"sk-top-container\"><div class=\"sk-text-repr-fallback\"><pre>Pipeline(steps=[(&#x27;tfid&#x27;, TfidfVectorizer()), (&#x27;cld&#x27;, MultinomialNB())])</pre><b>In a Jupyter environment, please rerun this cell to show the HTML representation or trust the notebook. <br />On GitHub, the HTML representation is unable to render, please try loading this page with nbviewer.org.</b></div><div class=\"sk-container\" hidden><div class=\"sk-item sk-dashed-wrapped\"><div class=\"sk-label-container\"><div class=\"sk-label sk-toggleable\"><input class=\"sk-toggleable__control sk-hidden--visually\" id=\"sk-estimator-id-1\" type=\"checkbox\" ><label for=\"sk-estimator-id-1\" class=\"sk-toggleable__label sk-toggleable__label-arrow\">Pipeline</label><div class=\"sk-toggleable__content\"><pre>Pipeline(steps=[(&#x27;tfid&#x27;, TfidfVectorizer()), (&#x27;cld&#x27;, MultinomialNB())])</pre></div></div></div><div class=\"sk-serial\"><div class=\"sk-item\"><div class=\"sk-estimator sk-toggleable\"><input class=\"sk-toggleable__control sk-hidden--visually\" id=\"sk-estimator-id-2\" type=\"checkbox\" ><label for=\"sk-estimator-id-2\" class=\"sk-toggleable__label sk-toggleable__label-arrow\">TfidfVectorizer</label><div class=\"sk-toggleable__content\"><pre>TfidfVectorizer()</pre></div></div></div><div class=\"sk-item\"><div class=\"sk-estimator sk-toggleable\"><input class=\"sk-toggleable__control sk-hidden--visually\" id=\"sk-estimator-id-3\" type=\"checkbox\" ><label for=\"sk-estimator-id-3\" class=\"sk-toggleable__label sk-toggleable__label-arrow\">MultinomialNB</label><div class=\"sk-toggleable__content\"><pre>MultinomialNB()</pre></div></div></div></div></div></div></div>"
      ],
      "text/plain": [
       "Pipeline(steps=[('tfid', TfidfVectorizer()), ('cld', MultinomialNB())])"
      ]
     },
     "execution_count": 33,
     "metadata": {},
     "output_type": "execute_result"
    }
   ],
   "source": [
    "from sklearn.naive_bayes import MultinomialNB\n",
    "from sklearn.feature_extraction.text import TfidfVectorizer\n",
    "from sklearn.pipeline import Pipeline\n",
    "\n",
    "model_0 = Pipeline([\n",
    "    (\"tfid\", TfidfVectorizer()),\n",
    "    (\"cld\", MultinomialNB())\n",
    "])\n",
    "\n",
    "model_0.fit(X=train_sentences,\n",
    "            y=train_labels_encoded)"
   ]
  },
  {
   "cell_type": "code",
   "execution_count": 34,
   "metadata": {
    "colab": {
     "base_uri": "https://localhost:8080/"
    },
    "executionInfo": {
     "elapsed": 5045,
     "status": "ok",
     "timestamp": 1700367144282,
     "user": {
      "displayName": "yihim",
      "userId": "08839180769355818284"
     },
     "user_tz": -480
    },
    "id": "IOLeQVhFB6A0",
    "outputId": "6165c9a3-c060-43b7-a355-1844dcd1e1d0"
   },
   "outputs": [
    {
     "data": {
      "text/plain": [
       "0.7218323844829869"
      ]
     },
     "execution_count": 34,
     "metadata": {},
     "output_type": "execute_result"
    }
   ],
   "source": [
    "model_0.score(X=val_sentences,\n",
    "              y=val_labels_encoded)"
   ]
  },
  {
   "cell_type": "code",
   "execution_count": 35,
   "metadata": {
    "colab": {
     "base_uri": "https://localhost:8080/"
    },
    "executionInfo": {
     "elapsed": 20,
     "status": "ok",
     "timestamp": 1700367144282,
     "user": {
      "displayName": "yihim",
      "userId": "08839180769355818284"
     },
     "user_tz": -480
    },
    "id": "gWSJRqqLCBYQ",
    "outputId": "945ba2b3-0678-4e5b-eeaa-18b06e66b79f"
   },
   "outputs": [
    {
     "data": {
      "text/plain": [
       "array([4, 1, 3, ..., 4, 4, 1])"
      ]
     },
     "execution_count": 35,
     "metadata": {},
     "output_type": "execute_result"
    }
   ],
   "source": [
    "baseline_preds = model_0.predict(val_sentences)\n",
    "baseline_preds"
   ]
  },
  {
   "cell_type": "code",
   "execution_count": 36,
   "metadata": {
    "colab": {
     "base_uri": "https://localhost:8080/"
    },
    "executionInfo": {
     "elapsed": 16,
     "status": "ok",
     "timestamp": 1700367144282,
     "user": {
      "displayName": "yihim",
      "userId": "08839180769355818284"
     },
     "user_tz": -480
    },
    "id": "x3UvWCiDCRPF",
    "outputId": "3093be74-43a3-4b20-cbaf-8bf0b71aef37"
   },
   "outputs": [
    {
     "data": {
      "text/plain": [
       "array([0, 0, 3, ..., 4, 1, 1])"
      ]
     },
     "execution_count": 36,
     "metadata": {},
     "output_type": "execute_result"
    }
   ],
   "source": [
    "val_labels_encoded"
   ]
  },
  {
   "cell_type": "code",
   "execution_count": 37,
   "metadata": {
    "executionInfo": {
     "elapsed": 14,
     "status": "ok",
     "timestamp": 1700367144282,
     "user": {
      "displayName": "yihim",
      "userId": "08839180769355818284"
     },
     "user_tz": -480
    },
    "id": "Mja0wjBnCUPf"
   },
   "outputs": [],
   "source": [
    "from sklearn.metrics import accuracy_score, precision_recall_fscore_support, classification_report, confusion_matrix\n",
    "import seaborn as sns\n",
    "\n",
    "def model_evaluation_metrics(y_true, y_preds):\n",
    "  results = {}\n",
    "  pre, rec, f1, _ = precision_recall_fscore_support(y_true, y_preds, average=\"weighted\")\n",
    "  results[\"Accuracy\"] = accuracy_score(y_true, y_preds)\n",
    "  results[\"Precision\"] = pre\n",
    "  results[\"Recall\"] = rec\n",
    "  results[\"f1-score\"] = f1\n",
    "  return results"
   ]
  },
  {
   "cell_type": "code",
   "execution_count": 38,
   "metadata": {
    "colab": {
     "base_uri": "https://localhost:8080/"
    },
    "executionInfo": {
     "elapsed": 15,
     "status": "ok",
     "timestamp": 1700367144283,
     "user": {
      "displayName": "yihim",
      "userId": "08839180769355818284"
     },
     "user_tz": -480
    },
    "id": "lhitY_45DYw0",
    "outputId": "25d4c8b4-062b-47af-93f2-3786feec1170"
   },
   "outputs": [
    {
     "data": {
      "text/plain": [
       "{'Accuracy': 0.7218323844829869,\n",
       " 'Precision': 0.7186466952323352,\n",
       " 'Recall': 0.7218323844829869,\n",
       " 'f1-score': 0.6989250353450294}"
      ]
     },
     "execution_count": 38,
     "metadata": {},
     "output_type": "execute_result"
    }
   ],
   "source": [
    "baseline_results = model_evaluation_metrics(y_true=val_labels_encoded, y_preds=baseline_preds)\n",
    "baseline_results"
   ]
  },
  {
   "cell_type": "markdown",
   "metadata": {
    "id": "wN6JbzOIEEHn"
   },
   "source": [
    "## Model 1: Conv1D with token embedding"
   ]
  },
  {
   "cell_type": "code",
   "execution_count": 39,
   "metadata": {
    "executionInfo": {
     "elapsed": 13,
     "status": "ok",
     "timestamp": 1700367144283,
     "user": {
      "displayName": "yihim",
      "userId": "08839180769355818284"
     },
     "user_tz": -480
    },
    "id": "D5c2ZMk-HC_a"
   },
   "outputs": [],
   "source": [
    "from tensorflow.keras.layers import TextVectorization, Embedding\n",
    "import numpy as np"
   ]
  },
  {
   "cell_type": "code",
   "execution_count": 40,
   "metadata": {
    "executionInfo": {
     "elapsed": 13,
     "status": "ok",
     "timestamp": 1700367144283,
     "user": {
      "displayName": "yihim",
      "userId": "08839180769355818284"
     },
     "user_tz": -480
    },
    "id": "eqYgI9PxHOjn"
   },
   "outputs": [],
   "source": [
    "# How long is each sentence on average ?\n",
    "avg_sent_len = sum([len(sentence.split()) for sentence in train_sentences])/len(train_sentences)"
   ]
  },
  {
   "cell_type": "code",
   "execution_count": 41,
   "metadata": {
    "colab": {
     "base_uri": "https://localhost:8080/"
    },
    "executionInfo": {
     "elapsed": 12,
     "status": "ok",
     "timestamp": 1700367144283,
     "user": {
      "displayName": "yihim",
      "userId": "08839180769355818284"
     },
     "user_tz": -480
    },
    "id": "bS9gyBTpICkg",
    "outputId": "1d3cd1a9-1bcb-4ff7-e5dc-fb5102366694"
   },
   "outputs": [
    {
     "data": {
      "text/plain": [
       "26.338269273494777"
      ]
     },
     "execution_count": 41,
     "metadata": {},
     "output_type": "execute_result"
    }
   ],
   "source": [
    "avg_sent_len"
   ]
  },
  {
   "cell_type": "code",
   "execution_count": 42,
   "metadata": {
    "colab": {
     "base_uri": "https://localhost:8080/",
     "height": 569
    },
    "executionInfo": {
     "elapsed": 11,
     "status": "ok",
     "timestamp": 1700367144283,
     "user": {
      "displayName": "yihim",
      "userId": "08839180769355818284"
     },
     "user_tz": -480
    },
    "id": "KxqgszAsIazr",
    "outputId": "57e87601-c312-4425-c3e0-ef09043026bd"
   },
   "outputs": [
    {
     "data": {
      "text/plain": [
       "(array([4.2075e+04, 8.3771e+04, 3.6877e+04, 1.0945e+04, 3.9310e+03,\n",
       "        1.4450e+03, 5.6000e+02, 2.2600e+02, 1.0100e+02, 4.5000e+01,\n",
       "        2.0000e+01, 1.2000e+01, 9.0000e+00, 1.0000e+01, 6.0000e+00,\n",
       "        2.0000e+00, 3.0000e+00, 0.0000e+00, 1.0000e+00, 1.0000e+00]),\n",
       " array([  1.  ,  15.75,  30.5 ,  45.25,  60.  ,  74.75,  89.5 , 104.25,\n",
       "        119.  , 133.75, 148.5 , 163.25, 178.  , 192.75, 207.5 , 222.25,\n",
       "        237.  , 251.75, 266.5 , 281.25, 296.  ]),\n",
       " <BarContainer object of 20 artists>)"
      ]
     },
     "execution_count": 42,
     "metadata": {},
     "output_type": "execute_result"
    },
    {
     "data": {
      "image/png": "[encoded data removed]",
      "text/plain": [
       "<Figure size 640x480 with 1 Axes>"
      ]
     },
     "metadata": {},
     "output_type": "display_data"
    }
   ],
   "source": [
    "import matplotlib.pyplot as plt\n",
    "plt.hist([len(sentence.split()) for sentence in train_sentences], bins=20)"
   ]
  },
  {
   "cell_type": "code",
   "execution_count": 43,
   "metadata": {
    "colab": {
     "base_uri": "https://localhost:8080/"
    },
    "executionInfo": {
     "elapsed": 9,
     "status": "ok",
     "timestamp": 1700367144283,
     "user": {
      "displayName": "yihim",
      "userId": "08839180769355818284"
     },
     "user_tz": -480
    },
    "id": "PXPiUXTOJJWV",
    "outputId": "a39fe545-1669-4963-c601-0e6d538f7c5d"
   },
   "outputs": [
    {
     "data": {
      "text/plain": [
       "55"
      ]
     },
     "execution_count": 43,
     "metadata": {},
     "output_type": "execute_result"
    }
   ],
   "source": [
    "# How long of a sentence length covers 95% of the samples ?\n",
    "output_seq_len = int(np.percentile([len(sentence.split()) for sentence in train_sentences], 95))\n",
    "output_seq_len"
   ]
  },
  {
   "cell_type": "code",
   "execution_count": 44,
   "metadata": {
    "colab": {
     "base_uri": "https://localhost:8080/"
    },
    "executionInfo": {
     "elapsed": 7,
     "status": "ok",
     "timestamp": 1700367144283,
     "user": {
      "displayName": "yihim",
      "userId": "08839180769355818284"
     },
     "user_tz": -480
    },
    "id": "a3Q3ylmmJ4Ye",
    "outputId": "6eb756ab-163c-4154-d240-deb3eaa6a46f"
   },
   "outputs": [
    {
     "data": {
      "text/plain": [
       "296"
      ]
     },
     "execution_count": 44,
     "metadata": {},
     "output_type": "execute_result"
    }
   ],
   "source": [
    "max([len(sentence.split()) for sentence in train_sentences])"
   ]
  },
  {
   "cell_type": "code",
   "execution_count": 45,
   "metadata": {
    "executionInfo": {
     "elapsed": 5,
     "status": "ok",
     "timestamp": 1700367144283,
     "user": {
      "displayName": "yihim",
      "userId": "08839180769355818284"
     },
     "user_tz": -480
    },
    "id": "EnAxgID6KGGu"
   },
   "outputs": [],
   "source": [
    "max_vocab_size = 68000\n",
    "text_vectorizer = TextVectorization(max_tokens=max_vocab_size,\n",
    "                                    output_sequence_length=output_seq_len,\n",
    "                                    output_mode=\"int\")"
   ]
  },
  {
   "cell_type": "code",
   "execution_count": 46,
   "metadata": {
    "executionInfo": {
     "elapsed": 43331,
     "status": "ok",
     "timestamp": 1700367187609,
     "user": {
      "displayName": "yihim",
      "userId": "08839180769355818284"
     },
     "user_tz": -480
    },
    "id": "D9UoIxQhLP_y"
   },
   "outputs": [],
   "source": [
    "text_vectorizer.adapt(train_sentences)"
   ]
  },
  {
   "cell_type": "code",
   "execution_count": 47,
   "metadata": {
    "colab": {
     "base_uri": "https://localhost:8080/"
    },
    "executionInfo": {
     "elapsed": 31,
     "status": "ok",
     "timestamp": 1700367187609,
     "user": {
      "displayName": "yihim",
      "userId": "08839180769355818284"
     },
     "user_tz": -480
    },
    "id": "WbFdoBS8LUXm",
    "outputId": "ff12053f-8523-4afe-a815-768c2f2c63f3"
   },
   "outputs": [
    {
     "data": {
      "text/plain": [
       "64841"
      ]
     },
     "execution_count": 47,
     "metadata": {},
     "output_type": "execute_result"
    }
   ],
   "source": [
    "text_vectorizer.vocabulary_size()"
   ]
  },
  {
   "cell_type": "code",
   "execution_count": 48,
   "metadata": {
    "colab": {
     "base_uri": "https://localhost:8080/"
    },
    "executionInfo": {
     "elapsed": 21,
     "status": "ok",
     "timestamp": 1700367187610,
     "user": {
      "displayName": "yihim",
      "userId": "08839180769355818284"
     },
     "user_tz": -480
    },
    "id": "Vkgif2BLLvRa",
    "outputId": "08611ca9-112c-452e-8d8a-0831c9b5b4f5"
   },
   "outputs": [
    {
     "name": "stdout",
     "output_type": "stream",
     "text": [
      "Text:\n",
      "prior studies adjusting self-reported measures of alcohol intake for drink size and ethanol ( etoh ) content have relied on single-point assessments .\n",
      "\n",
      "Length of text: 23\n",
      "\n",
      "Vectorized text: [[  452   202  1515   799   213     4   461   399    11  2244   375     3\n",
      "   3531 10364  1014    99 13737    18 45463   657     0     0     0     0\n",
      "      0     0     0     0     0     0     0     0     0     0     0     0\n",
      "      0     0     0     0     0     0     0     0     0     0     0     0\n",
      "      0     0     0     0     0     0     0]]\n"
     ]
    }
   ],
   "source": [
    "import random\n",
    "target_sentence = random.choice(train_sentences)\n",
    "print(f\"Text:\\n{target_sentence}\\n\")\n",
    "print(f\"Length of text: {len(target_sentence.split())}\\n\")\n",
    "print(f\"Vectorized text: {text_vectorizer([target_sentence])}\")"
   ]
  },
  {
   "cell_type": "code",
   "execution_count": 49,
   "metadata": {
    "executionInfo": {
     "elapsed": 18,
     "status": "ok",
     "timestamp": 1700367187610,
     "user": {
      "displayName": "yihim",
      "userId": "08839180769355818284"
     },
     "user_tz": -480
    },
    "id": "zxtPSMy2MxPz"
   },
   "outputs": [],
   "source": [
    "vocabalary = text_vectorizer.get_vocabulary()"
   ]
  },
  {
   "cell_type": "code",
   "execution_count": 50,
   "metadata": {
    "colab": {
     "base_uri": "https://localhost:8080/"
    },
    "executionInfo": {
     "elapsed": 18,
     "status": "ok",
     "timestamp": 1700367187610,
     "user": {
      "displayName": "yihim",
      "userId": "08839180769355818284"
     },
     "user_tz": -480
    },
    "id": "and_GC0jOKsA",
    "outputId": "7584b1df-898d-4814-aef8-a72206e86578"
   },
   "outputs": [
    {
     "data": {
      "text/plain": [
       "64841"
      ]
     },
     "execution_count": 50,
     "metadata": {},
     "output_type": "execute_result"
    }
   ],
   "source": [
    "len(vocabalary)"
   ]
  },
  {
   "cell_type": "code",
   "execution_count": 51,
   "metadata": {
    "colab": {
     "base_uri": "https://localhost:8080/"
    },
    "executionInfo": {
     "elapsed": 16,
     "status": "ok",
     "timestamp": 1700367187610,
     "user": {
      "displayName": "yihim",
      "userId": "08839180769355818284"
     },
     "user_tz": -480
    },
    "id": "5OvZzjRaNAgS",
    "outputId": "2e5364f9-de8f-4c64-c230-354015eaa296"
   },
   "outputs": [
    {
     "data": {
      "text/plain": [
       "['', '[UNK]', 'the', 'and', 'of', 'in', 'to', 'with', 'a', 'were']"
      ]
     },
     "execution_count": 51,
     "metadata": {},
     "output_type": "execute_result"
    }
   ],
   "source": [
    "vocabalary[:10]"
   ]
  },
  {
   "cell_type": "code",
   "execution_count": 52,
   "metadata": {
    "colab": {
     "base_uri": "https://localhost:8080/"
    },
    "executionInfo": {
     "elapsed": 15,
     "status": "ok",
     "timestamp": 1700367187610,
     "user": {
      "displayName": "yihim",
      "userId": "08839180769355818284"
     },
     "user_tz": -480
    },
    "id": "M2FI5Xv3NIwx",
    "outputId": "03521cfa-a7f2-4797-cb15-a6a74ec972a1"
   },
   "outputs": [
    {
     "data": {
      "text/plain": [
       "['aarm',\n",
       " 'aaqol',\n",
       " 'aaq',\n",
       " 'aanhui',\n",
       " 'aana',\n",
       " 'aainduced',\n",
       " 'aaigroup',\n",
       " 'aachener',\n",
       " 'aachen',\n",
       " 'aaacp']"
      ]
     },
     "execution_count": 52,
     "metadata": {},
     "output_type": "execute_result"
    }
   ],
   "source": [
    "vocabalary[-10:]"
   ]
  },
  {
   "cell_type": "code",
   "execution_count": 53,
   "metadata": {
    "colab": {
     "base_uri": "https://localhost:8080/"
    },
    "executionInfo": {
     "elapsed": 13,
     "status": "ok",
     "timestamp": 1700367187610,
     "user": {
      "displayName": "yihim",
      "userId": "08839180769355818284"
     },
     "user_tz": -480
    },
    "id": "ZMaZh3JYNKy8",
    "outputId": "adcd4c55-7aa1-4a4e-d58d-37404eac4c86"
   },
   "outputs": [
    {
     "data": {
      "text/plain": [
       "{'name': 'text_vectorization',\n",
       " 'trainable': True,\n",
       " 'batch_input_shape': (None,),\n",
       " 'dtype': 'string',\n",
       " 'max_tokens': 68000,\n",
       " 'standardize': 'lower_and_strip_punctuation',\n",
       " 'split': 'whitespace',\n",
       " 'ngrams': None,\n",
       " 'output_mode': 'int',\n",
       " 'output_sequence_length': 55,\n",
       " 'pad_to_max_tokens': False,\n",
       " 'sparse': False,\n",
       " 'ragged': False,\n",
       " 'vocabulary': None,\n",
       " 'idf_weights': None}"
      ]
     },
     "execution_count": 53,
     "metadata": {},
     "output_type": "execute_result"
    }
   ],
   "source": [
    "text_vectorizer.get_config()"
   ]
  },
  {
   "cell_type": "code",
   "execution_count": 54,
   "metadata": {
    "executionInfo": {
     "elapsed": 11,
     "status": "ok",
     "timestamp": 1700367187610,
     "user": {
      "displayName": "yihim",
      "userId": "08839180769355818284"
     },
     "user_tz": -480
    },
    "id": "439DKSleNmkF"
   },
   "outputs": [],
   "source": [
    "token_embed = Embedding(input_dim=len(vocabalary),\n",
    "                        output_dim=128,\n",
    "                        input_length=output_seq_len,\n",
    "                        mask_zero=True,\n",
    "                        name=\"token_embedding\")"
   ]
  },
  {
   "cell_type": "code",
   "execution_count": 55,
   "metadata": {
    "colab": {
     "base_uri": "https://localhost:8080/"
    },
    "executionInfo": {
     "elapsed": 11,
     "status": "ok",
     "timestamp": 1700367187610,
     "user": {
      "displayName": "yihim",
      "userId": "08839180769355818284"
     },
     "user_tz": -480
    },
    "id": "i-_XBIGSOUEc",
    "outputId": "1afe045c-b90d-4e6c-aabe-e29751d6060f"
   },
   "outputs": [
    {
     "name": "stdout",
     "output_type": "stream",
     "text": [
      "Sentence before vectorization:\n",
      "prior studies adjusting self-reported measures of alcohol intake for drink size and ethanol ( etoh ) content have relied on single-point assessments .\n",
      "\n",
      "Sentence after vectorization:\n",
      "[[  452   202  1515   799   213     4   461   399    11  2244   375     3\n",
      "   3531 10364  1014    99 13737    18 45463   657     0     0     0     0\n",
      "      0     0     0     0     0     0     0     0     0     0     0     0\n",
      "      0     0     0     0     0     0     0     0     0     0     0     0\n",
      "      0     0     0     0     0     0     0]]\n",
      "\n",
      "Sentence after vectorization shape:\n",
      "(1, 55)\n",
      "\n",
      "Embedding with masking zero:\n",
      "[[[ 0.00349252  0.04418749  0.0019707  ... -0.0176341   0.0007522\n",
      "    0.03568797]\n",
      "  [-0.0304403   0.03988066 -0.01936331 ... -0.00284885  0.01096997\n",
      "   -0.04786394]\n",
      "  [ 0.04252445  0.00632143  0.03624294 ...  0.01884295  0.00798404\n",
      "    0.01848098]\n",
      "  ...\n",
      "  [-0.00010793  0.00082121  0.04784396 ...  0.03796575  0.04726887\n",
      "   -0.02557969]\n",
      "  [-0.00010793  0.00082121  0.04784396 ...  0.03796575  0.04726887\n",
      "   -0.02557969]\n",
      "  [-0.00010793  0.00082121  0.04784396 ...  0.03796575  0.04726887\n",
      "   -0.02557969]]]\n",
      "\n",
      "Embedding shape:\n",
      "(1, 55, 128)\n",
      "\n"
     ]
    }
   ],
   "source": [
    "print(f\"Sentence before vectorization:\\n{target_sentence}\\n\")\n",
    "print(f\"Sentence after vectorization:\\n{text_vectorizer([target_sentence])}\\n\")\n",
    "print(f\"Sentence after vectorization shape:\\n{text_vectorizer([target_sentence]).shape}\\n\")\n",
    "print(f\"Embedding with masking zero:\\n{token_embed(text_vectorizer([target_sentence]))}\\n\")\n",
    "print(f\"Embedding shape:\\n{token_embed(text_vectorizer([target_sentence])).shape}\\n\")"
   ]
  },
  {
   "cell_type": "code",
   "execution_count": 56,
   "metadata": {
    "executionInfo": {
     "elapsed": 9,
     "status": "ok",
     "timestamp": 1700367187610,
     "user": {
      "displayName": "yihim",
      "userId": "08839180769355818284"
     },
     "user_tz": -480
    },
    "id": "P_EdEgVGQYx1"
   },
   "outputs": [],
   "source": [
    "def create_tensor_dataset(X, y):\n",
    "  return tf.data.Dataset.from_tensor_slices((tf.constant(X), tf.constant(y))).batch(batch_size=32).prefetch(buffer_size=tf.data.AUTOTUNE)"
   ]
  },
  {
   "cell_type": "code",
   "execution_count": 57,
   "metadata": {
    "executionInfo": {
     "elapsed": 9,
     "status": "ok",
     "timestamp": 1700367187610,
     "user": {
      "displayName": "yihim",
      "userId": "08839180769355818284"
     },
     "user_tz": -480
    },
    "id": "Ec25rRTqSKMD"
   },
   "outputs": [],
   "source": [
    "train_dataset = create_tensor_dataset(X=train_sentences, y=train_labels_one_hot)\n",
    "valid_dataset = create_tensor_dataset(X=val_sentences, y=val_labels_one_hot)\n",
    "test_dataset = create_tensor_dataset(X=test_sentences, y=test_labels_one_hot)"
   ]
  },
  {
   "cell_type": "code",
   "execution_count": 58,
   "metadata": {
    "colab": {
     "base_uri": "https://localhost:8080/"
    },
    "executionInfo": {
     "elapsed": 10,
     "status": "ok",
     "timestamp": 1700367187611,
     "user": {
      "displayName": "yihim",
      "userId": "08839180769355818284"
     },
     "user_tz": -480
    },
    "id": "q19gBJwfTTSg",
    "outputId": "67605581-c073-40fb-d3e0-0ddff4aa038a"
   },
   "outputs": [
    {
     "data": {
      "text/plain": [
       "<PrefetchDataset element_spec=(TensorSpec(shape=(None,), dtype=tf.string, name=None), TensorSpec(shape=(None, 5), dtype=tf.float64, name=None))>"
      ]
     },
     "execution_count": 58,
     "metadata": {},
     "output_type": "execute_result"
    }
   ],
   "source": [
    "train_dataset"
   ]
  },
  {
   "cell_type": "code",
   "execution_count": 59,
   "metadata": {
    "executionInfo": {
     "elapsed": 8,
     "status": "ok",
     "timestamp": 1700367187611,
     "user": {
      "displayName": "yihim",
      "userId": "08839180769355818284"
     },
     "user_tz": -480
    },
    "id": "LnMfa_2iWiN8"
   },
   "outputs": [],
   "source": [
    "from tensorflow.keras import layers\n",
    "\n",
    "inputs = layers.Input(shape=(1,), dtype=tf.string)\n",
    "x = text_vectorizer(inputs)\n",
    "x = token_embed(x)\n",
    "x = layers.Conv1D(64, 5, padding=\"same\", activation=\"relu\")(x)\n",
    "x = layers.GlobalAveragePooling1D()(x)\n",
    "outputs = layers.Dense(num_classes, activation=\"softmax\")(x)\n",
    "\n",
    "model_1 = tf.keras.Model(inputs, outputs)"
   ]
  },
  {
   "cell_type": "code",
   "execution_count": 60,
   "metadata": {
    "colab": {
     "base_uri": "https://localhost:8080/"
    },
    "executionInfo": {
     "elapsed": 694,
     "status": "ok",
     "timestamp": 1700367188298,
     "user": {
      "displayName": "yihim",
      "userId": "08839180769355818284"
     },
     "user_tz": -480
    },
    "id": "k0tZjAIgYWOp",
    "outputId": "b0b0d082-5e4e-4c0e-fc32-a3c800b05fcc"
   },
   "outputs": [
    {
     "name": "stdout",
     "output_type": "stream",
     "text": [
      "Model: \"model\"\n",
      "_________________________________________________________________\n",
      " Layer (type)                Output Shape              Param #   \n",
      "=================================================================\n",
      " input_1 (InputLayer)        [(None, 1)]               0         \n",
      "                                                                 \n",
      " text_vectorization (TextVec  (None, 55)               0         \n",
      " torization)                                                     \n",
      "                                                                 \n",
      " token_embedding (Embedding)  (None, 55, 128)          8299648   \n",
      "                                                                 \n",
      " conv1d (Conv1D)             (None, 55, 64)            41024     \n",
      "                                                                 \n",
      " global_average_pooling1d (G  (None, 64)               0         \n",
      " lobalAveragePooling1D)                                          \n",
      "                                                                 \n",
      " dense (Dense)               (None, 5)                 325       \n",
      "                                                                 \n",
      "=================================================================\n",
      "Total params: 8,340,997\n",
      "Trainable params: 8,340,997\n",
      "Non-trainable params: 0\n",
      "_________________________________________________________________\n"
     ]
    }
   ],
   "source": [
    "model_1.summary()"
   ]
  },
  {
   "cell_type": "code",
   "execution_count": 61,
   "metadata": {
    "executionInfo": {
     "elapsed": 6,
     "status": "ok",
     "timestamp": 1700367188299,
     "user": {
      "displayName": "yihim",
      "userId": "08839180769355818284"
     },
     "user_tz": -480
    },
    "id": "u_l6U7LdYdr8"
   },
   "outputs": [],
   "source": [
    "model_1.compile(loss=\"categorical_crossentropy\",\n",
    "                optimizer=tf.keras.optimizers.Adam(),\n",
    "                metrics=[\"accuracy\"])"
   ]
  },
  {
   "cell_type": "code",
   "execution_count": 62,
   "metadata": {
    "colab": {
     "base_uri": "https://localhost:8080/"
    },
    "executionInfo": {
     "elapsed": 18290,
     "status": "ok",
     "timestamp": 1700367206585,
     "user": {
      "displayName": "yihim",
      "userId": "08839180769355818284"
     },
     "user_tz": -480
    },
    "id": "8RuQl3UcYwXF",
    "outputId": "7e2c8f12-443e-4198-a308-39bc59d12021"
   },
   "outputs": [
    {
     "name": "stdout",
     "output_type": "stream",
     "text": [
      "Epoch 1/3\n",
      "562/562 [==============================] - 15s 13ms/step - loss: 0.9148 - accuracy: 0.6381 - val_loss: 0.6825 - val_accuracy: 0.7387\n",
      "Epoch 2/3\n",
      "562/562 [==============================] - 7s 13ms/step - loss: 0.6543 - accuracy: 0.7589 - val_loss: 0.6340 - val_accuracy: 0.7713\n",
      "Epoch 3/3\n",
      "562/562 [==============================] - 7s 13ms/step - loss: 0.6145 - accuracy: 0.7753 - val_loss: 0.5949 - val_accuracy: 0.7872\n"
     ]
    }
   ],
   "source": [
    "model_1_history = model_1.fit(train_dataset,\n",
    "                              validation_data=valid_dataset,\n",
    "                              steps_per_epoch=int(0.1 * len(train_dataset)),\n",
    "                              validation_steps=int(0.1 * len(valid_dataset)),\n",
    "                              epochs=3)"
   ]
  },
  {
   "cell_type": "code",
   "execution_count": 63,
   "metadata": {
    "colab": {
     "base_uri": "https://localhost:8080/"
    },
    "executionInfo": {
     "elapsed": 5434,
     "status": "ok",
     "timestamp": 1700367212005,
     "user": {
      "displayName": "yihim",
      "userId": "08839180769355818284"
     },
     "user_tz": -480
    },
    "id": "5mAzHHhCZwUS",
    "outputId": "fee95ca5-f466-46f9-c6d6-9f2bb45561fd"
   },
   "outputs": [
    {
     "name": "stdout",
     "output_type": "stream",
     "text": [
      "945/945 [==============================] - 4s 4ms/step - loss: 0.5949 - accuracy: 0.7885\n"
     ]
    },
    {
     "data": {
      "text/plain": [
       "[0.5949124097824097, 0.7885277271270752]"
      ]
     },
     "execution_count": 63,
     "metadata": {},
     "output_type": "execute_result"
    }
   ],
   "source": [
    "model_1.evaluate(valid_dataset)"
   ]
  },
  {
   "cell_type": "code",
   "execution_count": 64,
   "metadata": {
    "colab": {
     "base_uri": "https://localhost:8080/"
    },
    "executionInfo": {
     "elapsed": 5333,
     "status": "ok",
     "timestamp": 1700367217327,
     "user": {
      "displayName": "yihim",
      "userId": "08839180769355818284"
     },
     "user_tz": -480
    },
    "id": "uv_DuPOoaZsw",
    "outputId": "5521266c-bf49-474c-a090-8c27864a03fb"
   },
   "outputs": [
    {
     "data": {
      "text/plain": [
       "array([[4.7640353e-01, 1.5101318e-01, 5.8894616e-02, 2.8891337e-01,\n",
       "        2.4775276e-02],\n",
       "       [3.9569217e-01, 3.3984730e-01, 1.2580516e-02, 2.4161062e-01,\n",
       "        1.0269435e-02],\n",
       "       [1.4837055e-01, 6.6102338e-03, 1.6642211e-03, 8.4332627e-01,\n",
       "        2.8696068e-05],\n",
       "       ...,\n",
       "       [1.1862968e-05, 8.6803996e-04, 8.9318445e-04, 7.0527208e-06,\n",
       "        9.9821979e-01],\n",
       "       [4.3432847e-02, 4.5163506e-01, 9.3876354e-02, 4.6269260e-02,\n",
       "        3.6478648e-01],\n",
       "       [1.4402403e-01, 7.2653008e-01, 4.6418395e-02, 4.2808678e-02,\n",
       "        4.0218797e-02]], dtype=float32)"
      ]
     },
     "execution_count": 64,
     "metadata": {},
     "output_type": "execute_result"
    }
   ],
   "source": [
    "model_1_pred_probs = model_1.predict(valid_dataset)\n",
    "model_1_pred_probs"
   ]
  },
  {
   "cell_type": "code",
   "execution_count": 65,
   "metadata": {
    "colab": {
     "base_uri": "https://localhost:8080/"
    },
    "executionInfo": {
     "elapsed": 20,
     "status": "ok",
     "timestamp": 1700367217327,
     "user": {
      "displayName": "yihim",
      "userId": "08839180769355818284"
     },
     "user_tz": -480
    },
    "id": "0cQ0_-_JamC3",
    "outputId": "1b1301fd-76ae-4248-f4a0-d8fa48892b08"
   },
   "outputs": [
    {
     "data": {
      "text/plain": [
       "(30212, 5)"
      ]
     },
     "execution_count": 65,
     "metadata": {},
     "output_type": "execute_result"
    }
   ],
   "source": [
    "model_1_pred_probs.shape"
   ]
  },
  {
   "cell_type": "code",
   "execution_count": 66,
   "metadata": {
    "colab": {
     "base_uri": "https://localhost:8080/"
    },
    "executionInfo": {
     "elapsed": 19,
     "status": "ok",
     "timestamp": 1700367217327,
     "user": {
      "displayName": "yihim",
      "userId": "08839180769355818284"
     },
     "user_tz": -480
    },
    "id": "VA07ERPxar47",
    "outputId": "20e2a01e-239a-498a-eb13-69cbbd402556"
   },
   "outputs": [
    {
     "data": {
      "text/plain": [
       "<tf.Tensor: shape=(30212,), dtype=int64, numpy=array([0, 0, 3, ..., 4, 1, 1], dtype=int64)>"
      ]
     },
     "execution_count": 66,
     "metadata": {},
     "output_type": "execute_result"
    }
   ],
   "source": [
    "model_1_preds = tf.argmax(model_1_pred_probs, axis=1)\n",
    "model_1_preds"
   ]
  },
  {
   "cell_type": "code",
   "execution_count": 67,
   "metadata": {
    "colab": {
     "base_uri": "https://localhost:8080/"
    },
    "executionInfo": {
     "elapsed": 16,
     "status": "ok",
     "timestamp": 1700367217327,
     "user": {
      "displayName": "yihim",
      "userId": "08839180769355818284"
     },
     "user_tz": -480
    },
    "id": "WQhfNSa8a-oB",
    "outputId": "e1544a12-a396-4b0b-94c4-6bb3cd46c061"
   },
   "outputs": [
    {
     "data": {
      "text/plain": [
       "array(['BACKGROUND', 'CONCLUSIONS', 'METHODS', 'OBJECTIVE', 'RESULTS'],\n",
       "      dtype=object)"
      ]
     },
     "execution_count": 67,
     "metadata": {},
     "output_type": "execute_result"
    }
   ],
   "source": [
    "class_names"
   ]
  },
  {
   "cell_type": "code",
   "execution_count": 68,
   "metadata": {
    "colab": {
     "base_uri": "https://localhost:8080/"
    },
    "executionInfo": {
     "elapsed": 15,
     "status": "ok",
     "timestamp": 1700367217328,
     "user": {
      "displayName": "yihim",
      "userId": "08839180769355818284"
     },
     "user_tz": -480
    },
    "id": "md3aDbtybCMj",
    "outputId": "6c7f9533-14e0-4509-e8b4-bb19555df0cb"
   },
   "outputs": [
    {
     "data": {
      "text/plain": [
       "{'Accuracy': 0.788527737322918,\n",
       " 'Precision': 0.7859343922179475,\n",
       " 'Recall': 0.788527737322918,\n",
       " 'f1-score': 0.7864668765893221}"
      ]
     },
     "execution_count": 68,
     "metadata": {},
     "output_type": "execute_result"
    }
   ],
   "source": [
    "model_1_results = model_evaluation_metrics(val_labels_encoded,\n",
    "                                           model_1_preds)\n",
    "model_1_results"
   ]
  },
  {
   "cell_type": "markdown",
   "metadata": {
    "id": "yKhiJ6s4bSlJ"
   },
   "source": [
    "## Model 2: TensorFlow Hub Pretrained Feature Extractor"
   ]
  },
  {
   "cell_type": "code",
   "execution_count": 69,
   "metadata": {
    "executionInfo": {
     "elapsed": 13,
     "status": "ok",
     "timestamp": 1700367217328,
     "user": {
      "displayName": "yihim",
      "userId": "08839180769355818284"
     },
     "user_tz": -480
    },
    "id": "u7-rKqnRb5-8"
   },
   "outputs": [],
   "source": [
    "import tensorflow_hub as hub"
   ]
  },
  {
   "cell_type": "code",
   "execution_count": 70,
   "metadata": {
    "executionInfo": {
     "elapsed": 14527,
     "status": "ok",
     "timestamp": 1700367231842,
     "user": {
      "displayName": "yihim",
      "userId": "08839180769355818284"
     },
     "user_tz": -480
    },
    "id": "TzeCEnfZcY43"
   },
   "outputs": [],
   "source": [
    "tf_hub_embedding_layer = hub.KerasLayer(\"https://www.kaggle.com/models/google/universal-sentence-encoder/frameworks/TensorFlow2/variations/universal-sentence-encoder/versions/2\",\n",
    "                                        trainable=False,\n",
    "                                        name=\"universal_sentence_encoder\")"
   ]
  },
  {
   "cell_type": "code",
   "execution_count": 71,
   "metadata": {
    "colab": {
     "base_uri": "https://localhost:8080/"
    },
    "executionInfo": {
     "elapsed": 15,
     "status": "ok",
     "timestamp": 1700367231843,
     "user": {
      "displayName": "yihim",
      "userId": "08839180769355818284"
     },
     "user_tz": -480
    },
    "id": "FbE3Ej4udzAc",
    "outputId": "ae8478d4-b5e5-40be-d189-b9b92753856c"
   },
   "outputs": [
    {
     "name": "stdout",
     "output_type": "stream",
     "text": [
      "Random sentence: the davunetide and placebo groups did not differ in the change from baseline in psprs ( median @ -lsb- @ % ci @ to @ -rsb- vs @ -lsb- @ to @ -rsb- , respectively , p = @ ) or seadl ( -@ -lsb- -@ to -@ -rsb- vs -@ -lsb- -@ to -@ -rsb- , respectively , p = @ ) .\n",
      "\n",
      "Embedded: [[-0.03095305 -0.076246   -0.03838537 -0.06829777  0.04361402 -0.06665874\n",
      "  -0.00058512 -0.04531023 -0.05052149  0.07069986  0.0399209  -0.04857618\n",
      "   0.02328208  0.0513426   0.03956111  0.04164748 -0.06373548 -0.03578052\n",
      "   0.04661255 -0.0523167   0.07724126  0.00714873 -0.00898258 -0.01655172\n",
      "   0.02296347  0.0212946   0.05412969  0.06468442 -0.01050705 -0.00645795\n",
      "   0.03480773  0.06627116 -0.00882016  0.0156003  -0.03513832  0.04864448\n",
      "   0.05376981  0.02790495 -0.01981813 -0.03689225  0.06025481  0.05569817\n",
      "   0.0020547  -0.04328506  0.06388196 -0.0147876   0.01183379 -0.03165405\n",
      "  -0.0254566  -0.00302624 -0.05068223 -0.03154301 -0.05879248 -0.07435116\n",
      "   0.0628856   0.04231813 -0.04285903  0.00042676 -0.05231177 -0.06278255\n",
      "  -0.02119083 -0.01161101  0.05940199  0.0199703  -0.03071162 -0.00014239\n",
      "   0.0070585   0.05874189  0.04519951 -0.06019685  0.03346065  0.04530657\n",
      "  -0.03329983  0.05828888 -0.0155676   0.05417128 -0.04144252  0.04658375\n",
      "   0.01906351  0.00650825  0.00674418  0.01811798 -0.02352619  0.03570974\n",
      "  -0.00177472  0.02107841  0.02842219  0.0474855  -0.03974415  0.00306984\n",
      "  -0.01074861  0.03343248 -0.06021992 -0.03400887  0.05976392 -0.00162998\n",
      "   0.00586689 -0.05377603 -0.00712819 -0.07114986  0.03924109  0.07161485\n",
      "   0.07649855  0.03058762  0.01738296 -0.02708572  0.00883995  0.0531888\n",
      "  -0.00283236 -0.03039753  0.03682825 -0.02082882  0.06322838 -0.03078894\n",
      "   0.02870708  0.00440712 -0.03196586  0.05726745  0.03557507  0.03907188\n",
      "  -0.04709374 -0.01856606  0.04920536  0.03518564  0.02955044 -0.05271229\n",
      "  -0.01222632 -0.0517044  -0.01626897 -0.04568302 -0.03106952 -0.00398845\n",
      "   0.07233436 -0.04681878 -0.02749636  0.0442737   0.03779087  0.06196148\n",
      "  -0.05067306 -0.06261549 -0.02450336  0.07587758  0.03584049 -0.03776066\n",
      "   0.01794457 -0.05176074 -0.00090632 -0.02477342 -0.02112685 -0.03271219\n",
      "   0.06455254  0.05358777 -0.0702504  -0.00503331 -0.00991379  0.06614847\n",
      "  -0.01026244  0.00252766 -0.04637375  0.04986892 -0.0458437   0.00020449\n",
      "  -0.06978569  0.02602794 -0.00662194 -0.029475   -0.01969849 -0.00663942\n",
      "   0.03366787  0.07233388 -0.03529363 -0.01916021 -0.06313894 -0.00553045\n",
      "   0.04257208 -0.06191044  0.00904908  0.05486681  0.0108927   0.02413836\n",
      "   0.03091278 -0.0558625  -0.00103261  0.04367614 -0.02094661 -0.00112209\n",
      "  -0.01942906  0.06936975  0.03959635 -0.03462362  0.07007329 -0.04718824\n",
      "   0.04766078  0.04572086  0.05323542  0.07523032 -0.00957054  0.06991068\n",
      "   0.04278224 -0.05095218 -0.0729549   0.00916587 -0.07070956  0.04283848\n",
      "  -0.06227155  0.01173806 -0.06343113  0.02410594 -0.05769275 -0.01777729\n",
      "  -0.05948634 -0.04942754 -0.0679364  -0.00129395 -0.06716153  0.04765682\n",
      "   0.05018376 -0.04061215 -0.02764033 -0.04375207  0.00743654  0.04951724\n",
      "  -0.00742889 -0.03211969  0.06367084  0.06603974  0.01726598  0.03325147\n",
      "  -0.04066777  0.05870074  0.04251883  0.07101443 -0.00615535 -0.07708444\n",
      "   0.06942312 -0.01504689  0.04927681 -0.0620563  -0.00312194  0.07010058\n",
      "   0.03211208 -0.03018723 -0.07780926  0.04597775  0.02328295 -0.05553657\n",
      "   0.01064206  0.02589207 -0.00701657 -0.04482047 -0.05954278  0.00048905\n",
      "   0.03310348 -0.07318279 -0.02165861  0.00876728 -0.05982754  0.06276433\n",
      "  -0.05931729  0.02728618 -0.0011096  -0.06607133  0.01588411  0.00506075\n",
      "   0.03340479  0.04178811  0.05607716  0.07195356  0.00563381  0.03368065\n",
      "   0.00626449  0.06861493  0.07700794 -0.01152247  0.00997459  0.02812454\n",
      "  -0.0387082  -0.00792982  0.07229452 -0.00917572 -0.04159932  0.0081688\n",
      "  -0.04682221  0.01164455  0.04107737 -0.06644232  0.04200344  0.02258312\n",
      "  -0.02415868 -0.05002521  0.06818556  0.00106892 -0.03178161 -0.02316114\n",
      "  -0.06939856  0.00948695 -0.00648359  0.03244549  0.05881567  0.00155622\n",
      "  -0.03256483 -0.05284091 -0.03830686 -0.0582921  -0.07024771 -0.02541458\n",
      "   0.04211047 -0.04624413 -0.05097974  0.06116936  0.02535485 -0.02580984\n",
      "  -0.01707872  0.06666005 -0.03701646  0.06376132 -0.03729676  0.03992035\n",
      "   0.06346374 -0.07627106 -0.011223   -0.06804074  0.0407466  -0.01768195\n",
      "  -0.04681803 -0.02074359 -0.04053247 -0.04927221 -0.07618821 -0.02528467\n",
      "   0.01133749 -0.01811359  0.03232705  0.07698331 -0.03479709 -0.03636754\n",
      "   0.04067077 -0.03080028  0.01105439  0.03766543 -0.01831405  0.06366403\n",
      "   0.06423091  0.06141787 -0.07798317  0.04213177  0.02133012 -0.01639452\n",
      "   0.03563498 -0.05159422 -0.01528748 -0.0080046   0.02171169  0.00280661\n",
      "  -0.00384568  0.04631888 -0.0739546   0.01835835  0.0487597  -0.07298098\n",
      "   0.02004156  0.01355622 -0.0639292  -0.06610152  0.06501674  0.04807032\n",
      "   0.05851885  0.03364838 -0.02343675  0.04734005  0.05265154  0.04664244\n",
      "   0.01589951 -0.06409512  0.07176806  0.02514304  0.05704334  0.00025525\n",
      "   0.05261226 -0.07572837 -0.07316566 -0.02397103  0.02931309  0.02365725\n",
      "   0.06361047 -0.00896246 -0.04389491  0.03633967  0.0317756  -0.0402045\n",
      "   0.06246283  0.01977022 -0.0765433  -0.04577455 -0.01510176 -0.01650202\n",
      "  -0.03792859  0.0674826  -0.00190058 -0.05396039  0.0768462   0.01790945\n",
      "  -0.0666238   0.04403707  0.00729344 -0.01232374  0.05643711  0.01638209\n",
      "   0.00066557 -0.02980288 -0.07316025  0.05711626  0.06240425 -0.00505849\n",
      "  -0.05870635 -0.0456453  -0.01954121  0.0436211   0.01076651  0.0573235\n",
      "   0.00435445  0.02065491  0.00027132 -0.05647989  0.05806478 -0.03074982\n",
      "  -0.00389438  0.02510187 -0.05967206 -0.04421817 -0.02441217  0.01663977\n",
      "  -0.04472129 -0.06215657  0.05685825 -0.02925005  0.01268486 -0.00873133\n",
      "  -0.03737133  0.06262857  0.04640071 -0.01251866 -0.04874747  0.06600283\n",
      "   0.04713522 -0.01238793 -0.06062556 -0.04596092 -0.06055124  0.04106019\n",
      "   0.01769492 -0.02982247  0.03279038  0.05533119 -0.0565654  -0.07586655\n",
      "  -0.00167136  0.03053365  0.05533172  0.07290181 -0.02151888  0.00027731\n",
      "   0.06471534 -0.06196013 -0.02326058 -0.06918451 -0.02070496 -0.04122644\n",
      "   0.01107444 -0.0363951   0.06889039 -0.00720407  0.04025434 -0.02499085\n",
      "   0.06732962  0.02008352 -0.06843277 -0.05837071 -0.03864516 -0.06373908\n",
      "   0.04723107  0.00739207 -0.04316672 -0.02193687  0.06784797  0.02654792\n",
      "  -0.06884699 -0.07675096  0.03481166 -0.03998868 -0.02582034  0.02981451\n",
      "   0.00339811 -0.06873609  0.00104597 -0.07291242  0.05329936 -0.05287801\n",
      "   0.03264019  0.03618889  0.05535221 -0.02894785  0.03717554 -0.076193\n",
      "   0.0341442  -0.06430139  0.02269911  0.022802    0.05001632  0.03728829\n",
      "  -0.01630146 -0.06362309]]\n",
      "\n",
      "Embedded shape: (1, 512)\n",
      "\n"
     ]
    }
   ],
   "source": [
    "# Test out the pretrained embedding on a random sentence\n",
    "random_sentence = random.choice(train_sentences)\n",
    "print(f\"Random sentence: {random_sentence}\\n\")\n",
    "print(f\"Embedded: {tf_hub_embedding_layer([random_sentence])}\\n\")\n",
    "print(f\"Embedded shape: {tf_hub_embedding_layer([random_sentence]).shape}\\n\")"
   ]
  },
  {
   "cell_type": "code",
   "execution_count": 72,
   "metadata": {
    "executionInfo": {
     "elapsed": 992,
     "status": "ok",
     "timestamp": 1700367232832,
     "user": {
      "displayName": "yihim",
      "userId": "08839180769355818284"
     },
     "user_tz": -480
    },
    "id": "igqM7jV4f0q2"
   },
   "outputs": [],
   "source": [
    "inputs = layers.Input(shape=[], dtype=tf.string)\n",
    "x = tf_hub_embedding_layer(inputs) # tokenize text and create embedding of each sequence (512)\n",
    "x = layers.Dense(128, activation=\"relu\")(x)\n",
    "outputs = layers.Dense(5, activation=\"softmax\")(x)\n",
    "\n",
    "model_2 = tf.keras.Model(inputs, outputs)"
   ]
  },
  {
   "cell_type": "code",
   "execution_count": 73,
   "metadata": {
    "colab": {
     "base_uri": "https://localhost:8080/"
    },
    "executionInfo": {
     "elapsed": 9,
     "status": "ok",
     "timestamp": 1700367232832,
     "user": {
      "displayName": "yihim",
      "userId": "08839180769355818284"
     },
     "user_tz": -480
    },
    "id": "pxKhVADGhCTp",
    "outputId": "c8613295-d057-46cd-ada7-3173723d2bab"
   },
   "outputs": [
    {
     "name": "stdout",
     "output_type": "stream",
     "text": [
      "Model: \"model_1\"\n",
      "_________________________________________________________________\n",
      " Layer (type)                Output Shape              Param #   \n",
      "=================================================================\n",
      " input_2 (InputLayer)        [(None,)]                 0         \n",
      "                                                                 \n",
      " universal_sentence_encoder   (None, 512)              256797824 \n",
      " (KerasLayer)                                                    \n",
      "                                                                 \n",
      " dense_1 (Dense)             (None, 128)               65664     \n",
      "                                                                 \n",
      " dense_2 (Dense)             (None, 5)                 645       \n",
      "                                                                 \n",
      "=================================================================\n",
      "Total params: 256,864,133\n",
      "Trainable params: 66,309\n",
      "Non-trainable params: 256,797,824\n",
      "_________________________________________________________________\n"
     ]
    }
   ],
   "source": [
    "model_2.summary()"
   ]
  },
  {
   "cell_type": "code",
   "execution_count": 74,
   "metadata": {
    "executionInfo": {
     "elapsed": 5,
     "status": "ok",
     "timestamp": 1700367232832,
     "user": {
      "displayName": "yihim",
      "userId": "08839180769355818284"
     },
     "user_tz": -480
    },
    "id": "dRGYhg6Ih5v5"
   },
   "outputs": [],
   "source": [
    "model_2.compile(loss=\"categorical_crossentropy\",\n",
    "                optimizer=tf.keras.optimizers.Adam(),\n",
    "                metrics=[\"accuracy\"])"
   ]
  },
  {
   "cell_type": "code",
   "execution_count": 75,
   "metadata": {
    "colab": {
     "base_uri": "https://localhost:8080/"
    },
    "executionInfo": {
     "elapsed": 31638,
     "status": "ok",
     "timestamp": 1700367264465,
     "user": {
      "displayName": "yihim",
      "userId": "08839180769355818284"
     },
     "user_tz": -480
    },
    "id": "l-Sq4pEaiU6b",
    "outputId": "c806ca2f-3aa4-40a1-9ea7-c2f76c522678"
   },
   "outputs": [
    {
     "name": "stdout",
     "output_type": "stream",
     "text": [
      "Epoch 1/3\n",
      "562/562 [==============================] - 13s 19ms/step - loss: 0.9222 - accuracy: 0.6481 - val_loss: 0.7980 - val_accuracy: 0.6902\n",
      "Epoch 2/3\n",
      "562/562 [==============================] - 10s 19ms/step - loss: 0.7681 - accuracy: 0.7016 - val_loss: 0.7555 - val_accuracy: 0.7035\n",
      "Epoch 3/3\n",
      "562/562 [==============================] - 11s 19ms/step - loss: 0.7513 - accuracy: 0.7131 - val_loss: 0.7392 - val_accuracy: 0.7111\n"
     ]
    }
   ],
   "source": [
    "model_2_history = model_2.fit(train_dataset,\n",
    "                              validation_data=valid_dataset,\n",
    "                              steps_per_epoch=int(0.1 * len(train_dataset)),\n",
    "                              validation_steps=int(0.1 * len(valid_dataset)),\n",
    "                              epochs=3)"
   ]
  },
  {
   "cell_type": "code",
   "execution_count": 76,
   "metadata": {
    "colab": {
     "base_uri": "https://localhost:8080/"
    },
    "executionInfo": {
     "elapsed": 13608,
     "status": "ok",
     "timestamp": 1700367278056,
     "user": {
      "displayName": "yihim",
      "userId": "08839180769355818284"
     },
     "user_tz": -480
    },
    "id": "bVuDb6aqjY7l",
    "outputId": "4d6b32aa-39dc-4a3e-bc40-fa112adcf4a2"
   },
   "outputs": [
    {
     "name": "stdout",
     "output_type": "stream",
     "text": [
      "945/945 [==============================] - 15s 16ms/step - loss: 0.7408 - accuracy: 0.7139\n"
     ]
    },
    {
     "data": {
      "text/plain": [
       "[0.7407790422439575, 0.7138885259628296]"
      ]
     },
     "execution_count": 76,
     "metadata": {},
     "output_type": "execute_result"
    }
   ],
   "source": [
    "model_2.evaluate(valid_dataset)"
   ]
  },
  {
   "cell_type": "code",
   "execution_count": 77,
   "metadata": {
    "colab": {
     "base_uri": "https://localhost:8080/"
    },
    "executionInfo": {
     "elapsed": 10438,
     "status": "ok",
     "timestamp": 1700367288479,
     "user": {
      "displayName": "yihim",
      "userId": "08839180769355818284"
     },
     "user_tz": -480
    },
    "id": "Eyluz2F0imOb",
    "outputId": "1f54fcc5-714d-477c-d815-816b407993b0"
   },
   "outputs": [
    {
     "data": {
      "text/plain": [
       "array([[4.4206852e-01, 3.7507769e-01, 1.8276911e-03, 1.7363948e-01,\n",
       "        7.3866379e-03],\n",
       "       [3.8706669e-01, 4.4700384e-01, 3.3397879e-03, 1.5991847e-01,\n",
       "        2.6712227e-03],\n",
       "       [2.3171507e-01, 1.5781838e-01, 1.4500990e-02, 5.5768591e-01,\n",
       "        3.8279660e-02],\n",
       "       ...,\n",
       "       [1.7028049e-03, 5.5181007e-03, 5.0117072e-02, 8.1995863e-04,\n",
       "        9.4184208e-01],\n",
       "       [4.4737542e-03, 4.2949338e-02, 2.1861598e-01, 1.7624388e-03,\n",
       "        7.3219854e-01],\n",
       "       [1.9544856e-01, 2.9285908e-01, 4.4861582e-01, 7.6692151e-03,\n",
       "        5.5407327e-02]], dtype=float32)"
      ]
     },
     "execution_count": 77,
     "metadata": {},
     "output_type": "execute_result"
    }
   ],
   "source": [
    "model_2_pred_probs = model_2.predict(valid_dataset)\n",
    "model_2_pred_probs"
   ]
  },
  {
   "cell_type": "code",
   "execution_count": 78,
   "metadata": {
    "colab": {
     "base_uri": "https://localhost:8080/"
    },
    "executionInfo": {
     "elapsed": 27,
     "status": "ok",
     "timestamp": 1700367288479,
     "user": {
      "displayName": "yihim",
      "userId": "08839180769355818284"
     },
     "user_tz": -480
    },
    "id": "pZFFvpCEi30Q",
    "outputId": "47fe84a5-33f8-4b4e-8dc5-642eb62fe3d9"
   },
   "outputs": [
    {
     "data": {
      "text/plain": [
       "{'Accuracy': 0.7138885211174367,\n",
       " 'Precision': 0.713708110075478,\n",
       " 'Recall': 0.7138885211174367,\n",
       " 'f1-score': 0.710812077771951}"
      ]
     },
     "execution_count": 78,
     "metadata": {},
     "output_type": "execute_result"
    }
   ],
   "source": [
    "model_2_preds = tf.argmax(model_2_pred_probs, axis=1)\n",
    "model_2_results = model_evaluation_metrics(val_labels_encoded,\n",
    "                                           model_2_preds)\n",
    "model_2_results"
   ]
  },
  {
   "cell_type": "markdown",
   "metadata": {
    "id": "oqPonHXnjH1R"
   },
   "source": [
    "## Model 3: Conv1D with character embeddings"
   ]
  },
  {
   "cell_type": "markdown",
   "metadata": {
    "id": "gVtfCT5VkfFE"
   },
   "source": [
    "### Creating a character-level tokenizer"
   ]
  },
  {
   "cell_type": "code",
   "execution_count": 79,
   "metadata": {
    "colab": {
     "base_uri": "https://localhost:8080/"
    },
    "executionInfo": {
     "elapsed": 23,
     "status": "ok",
     "timestamp": 1700367288479,
     "user": {
      "displayName": "yihim",
      "userId": "08839180769355818284"
     },
     "user_tz": -480
    },
    "id": "4vRJUkkPlVrq",
    "outputId": "c171816a-5021-4221-de24-920bcd750f63"
   },
   "outputs": [
    {
     "data": {
      "text/plain": [
       "['to investigate the efficacy of @ weeks of daily low-dose oral prednisolone in improving pain , mobility , and systemic low-grade inflammation in the short term and whether the effect would be sustained at @ weeks in older adults with moderate to severe knee osteoarthritis ( oa ) .',\n",
       " 'a total of @ patients with primary knee oa were randomized @:@ ; @ received @ mg/day of prednisolone and @ received placebo for @ weeks .',\n",
       " 'outcome measures included pain reduction and improvement in function scores and systemic inflammation markers .',\n",
       " 'pain was assessed using the visual analog pain scale ( @-@ mm ) .',\n",
       " 'secondary outcome measures included the western ontario and mcmaster universities osteoarthritis index scores , patient global assessment ( pga ) of the severity of knee oa , and @-min walk distance ( @mwd ) .']"
      ]
     },
     "execution_count": 79,
     "metadata": {},
     "output_type": "execute_result"
    }
   ],
   "source": [
    "train_sentences[:5]"
   ]
  },
  {
   "cell_type": "code",
   "execution_count": 80,
   "metadata": {
    "executionInfo": {
     "elapsed": 20,
     "status": "ok",
     "timestamp": 1700367288479,
     "user": {
      "displayName": "yihim",
      "userId": "08839180769355818284"
     },
     "user_tz": -480
    },
    "id": "8m8ZE_OYlYk8"
   },
   "outputs": [],
   "source": [
    "# Make function to split sentences into characters\n",
    "def split_chars(text):\n",
    "  return \" \".join(list(text))"
   ]
  },
  {
   "cell_type": "code",
   "execution_count": 81,
   "metadata": {
    "colab": {
     "base_uri": "https://localhost:8080/",
     "height": 53
    },
    "executionInfo": {
     "elapsed": 20,
     "status": "ok",
     "timestamp": 1700367288479,
     "user": {
      "displayName": "yihim",
      "userId": "08839180769355818284"
     },
     "user_tz": -480
    },
    "id": "mku-O1holml1",
    "outputId": "bcc75324-3cb0-4032-9242-eb70ca50d171"
   },
   "outputs": [
    {
     "data": {
      "text/plain": [
       "'t o   i n v e s t i g a t e   t h e   e f f i c a c y   o f   @   w e e k s   o f   d a i l y   l o w - d o s e   o r a l   p r e d n i s o l o n e   i n   i m p r o v i n g   p a i n   ,   m o b i l i t y   ,   a n d   s y s t e m i c   l o w - g r a d e   i n f l a m m a t i o n   i n   t h e   s h o r t   t e r m   a n d   w h e t h e r   t h e   e f f e c t   w o u l d   b e   s u s t a i n e d   a t   @   w e e k s   i n   o l d e r   a d u l t s   w i t h   m o d e r a t e   t o   s e v e r e   k n e e   o s t e o a r t h r i t i s   (   o a   )   .'"
      ]
     },
     "execution_count": 81,
     "metadata": {},
     "output_type": "execute_result"
    }
   ],
   "source": [
    "\" \".join(list(train_sentences[0]))"
   ]
  },
  {
   "cell_type": "code",
   "execution_count": 82,
   "metadata": {
    "colab": {
     "base_uri": "https://localhost:8080/",
     "height": 35
    },
    "executionInfo": {
     "elapsed": 20,
     "status": "ok",
     "timestamp": 1700367288480,
     "user": {
      "displayName": "yihim",
      "userId": "08839180769355818284"
     },
     "user_tz": -480
    },
    "id": "zq4VZ7t2lq15",
    "outputId": "11f51bbd-f66c-4ef7-ffa0-1ee54ab5c23f"
   },
   "outputs": [
    {
     "data": {
      "text/plain": [
       "'t h e   d a v u n e t i d e   a n d   p l a c e b o   g r o u p s   d i d   n o t   d i f f e r   i n   t h e   c h a n g e   f r o m   b a s e l i n e   i n   p s p r s   (   m e d i a n   @   - l s b -   @   %   c i   @   t o   @   - r s b -   v s   @   - l s b -   @   t o   @   - r s b -   ,   r e s p e c t i v e l y   ,   p   =   @   )   o r   s e a d l   (   - @   - l s b -   - @   t o   - @   - r s b -   v s   - @   - l s b -   - @   t o   - @   - r s b -   ,   r e s p e c t i v e l y   ,   p   =   @   )   .'"
      ]
     },
     "execution_count": 82,
     "metadata": {},
     "output_type": "execute_result"
    }
   ],
   "source": [
    "# Text splitting non-character-level sequence into characters\n",
    "split_chars(random_sentence)"
   ]
  },
  {
   "cell_type": "code",
   "execution_count": 83,
   "metadata": {
    "executionInfo": {
     "elapsed": 714,
     "status": "ok",
     "timestamp": 1700367289175,
     "user": {
      "displayName": "yihim",
      "userId": "08839180769355818284"
     },
     "user_tz": -480
    },
    "id": "7cXC5Fg1mD-N"
   },
   "outputs": [],
   "source": [
    "train_chars = [split_chars(sentence) for sentence in train_sentences]"
   ]
  },
  {
   "cell_type": "code",
   "execution_count": 84,
   "metadata": {
    "executionInfo": {
     "elapsed": 9,
     "status": "ok",
     "timestamp": 1700367289175,
     "user": {
      "displayName": "yihim",
      "userId": "08839180769355818284"
     },
     "user_tz": -480
    },
    "id": "Jd8n2TbRmOd6"
   },
   "outputs": [],
   "source": [
    "val_chars = [split_chars(sentence) for sentence in val_sentences]\n",
    "test_chars = [split_chars(sentence) for sentence in test_sentences]"
   ]
  },
  {
   "cell_type": "code",
   "execution_count": 85,
   "metadata": {
    "colab": {
     "base_uri": "https://localhost:8080/"
    },
    "executionInfo": {
     "elapsed": 8,
     "status": "ok",
     "timestamp": 1700367289175,
     "user": {
      "displayName": "yihim",
      "userId": "08839180769355818284"
     },
     "user_tz": -480
    },
    "id": "QDStVUYHmSsk",
    "outputId": "148b7b14-b745-4b41-b311-49b2077f10a0"
   },
   "outputs": [
    {
     "data": {
      "text/plain": [
       "149.3662574983337"
      ]
     },
     "execution_count": 85,
     "metadata": {},
     "output_type": "execute_result"
    }
   ],
   "source": [
    "# What is the average character length\n",
    "char_len = [len(sentence) for sentence in train_sentences]\n",
    "mean_char_len = np.mean(char_len)\n",
    "mean_char_len"
   ]
  },
  {
   "cell_type": "code",
   "execution_count": 86,
   "metadata": {
    "colab": {
     "base_uri": "https://localhost:8080/"
    },
    "executionInfo": {
     "elapsed": 6,
     "status": "ok",
     "timestamp": 1700367289176,
     "user": {
      "displayName": "yihim",
      "userId": "08839180769355818284"
     },
     "user_tz": -480
    },
    "id": "MSEPqW5Mm2fI",
    "outputId": "58c3b69a-8bfc-43fb-ccf5-83dfc9fca5e5"
   },
   "outputs": [
    {
     "data": {
      "text/plain": [
       "('a   t o t a l   o f   @   p a t i e n t s   w i t h   p r i m a r y   k n e e   o a   w e r e   r a n d o m i z e d   @ : @   ;   @   r e c e i v e d   @   m g / d a y   o f   p r e d n i s o l o n e   a n d   @   r e c e i v e d   p l a c e b o   f o r   @   w e e k s   .',\n",
       " 273,\n",
       " 111)"
      ]
     },
     "execution_count": 86,
     "metadata": {},
     "output_type": "execute_result"
    }
   ],
   "source": [
    "train_chars[1], len(train_chars[1]), len(train_chars[1].split())"
   ]
  },
  {
   "cell_type": "code",
   "execution_count": 87,
   "metadata": {
    "colab": {
     "base_uri": "https://localhost:8080/",
     "height": 517
    },
    "executionInfo": {
     "elapsed": 763,
     "status": "ok",
     "timestamp": 1700367289935,
     "user": {
      "displayName": "yihim",
      "userId": "08839180769355818284"
     },
     "user_tz": -480
    },
    "id": "FwJHkB8enfeg",
    "outputId": "4557a1e0-d77a-4387-8f62-459f94c43ff1"
   },
   "outputs": [
    {
     "data": {
      "text/plain": [
       "(array([1.41175e+05, 3.71110e+04, 1.60000e+03, 1.27000e+02, 2.10000e+01,\n",
       "        5.00000e+00, 1.00000e+00]),\n",
       " array([1.00000000e+00, 1.98857143e+02, 3.96714286e+02, 5.94571429e+02,\n",
       "        7.92428571e+02, 9.90285714e+02, 1.18814286e+03, 1.38600000e+03]),\n",
       " <BarContainer object of 7 artists>)"
      ]
     },
     "execution_count": 87,
     "metadata": {},
     "output_type": "execute_result"
    },
    {
     "data": {
      "image/png": "[encoded data removed]",
      "text/plain": [
       "<Figure size 640x480 with 1 Axes>"
      ]
     },
     "metadata": {},
     "output_type": "display_data"
    }
   ],
   "source": [
    "plt.hist(char_len, bins=7)"
   ]
  },
  {
   "cell_type": "code",
   "execution_count": 88,
   "metadata": {
    "executionInfo": {
     "elapsed": 14,
     "status": "ok",
     "timestamp": 1700367289935,
     "user": {
      "displayName": "yihim",
      "userId": "08839180769355818284"
     },
     "user_tz": -480
    },
    "id": "rZFD4DzJnrDp"
   },
   "outputs": [],
   "source": [
    "output_seq_char_len = int(np.percentile(char_len, 95))"
   ]
  },
  {
   "cell_type": "code",
   "execution_count": 89,
   "metadata": {
    "colab": {
     "base_uri": "https://localhost:8080/"
    },
    "executionInfo": {
     "elapsed": 14,
     "status": "ok",
     "timestamp": 1700367289935,
     "user": {
      "displayName": "yihim",
      "userId": "08839180769355818284"
     },
     "user_tz": -480
    },
    "id": "RxtOv5nun6tl",
    "outputId": "97d2181e-fe76-4a7d-d2de-83a1893a23a4"
   },
   "outputs": [
    {
     "data": {
      "text/plain": [
       "290"
      ]
     },
     "execution_count": 89,
     "metadata": {},
     "output_type": "execute_result"
    }
   ],
   "source": [
    "output_seq_char_len"
   ]
  },
  {
   "cell_type": "code",
   "execution_count": 90,
   "metadata": {
    "colab": {
     "base_uri": "https://localhost:8080/",
     "height": 35
    },
    "executionInfo": {
     "elapsed": 12,
     "status": "ok",
     "timestamp": 1700367289935,
     "user": {
      "displayName": "yihim",
      "userId": "08839180769355818284"
     },
     "user_tz": -480
    },
    "id": "UBS0h_9HoJaN",
    "outputId": "f36bf14e-0997-4f3a-c566-02368f3c3807"
   },
   "outputs": [
    {
     "data": {
      "text/plain": [
       "'abcdefghijklmnopqrstuvwxyz0123456789!\"#$%&\\'()*+,-./:;<=>?@[\\\\]^_`{|}~'"
      ]
     },
     "execution_count": 90,
     "metadata": {},
     "output_type": "execute_result"
    }
   ],
   "source": [
    "# Get all keyboard characters\n",
    "import string\n",
    "alphabet = string.ascii_lowercase + string.digits + string.punctuation\n",
    "alphabet"
   ]
  },
  {
   "cell_type": "code",
   "execution_count": 91,
   "metadata": {
    "executionInfo": {
     "elapsed": 11,
     "status": "ok",
     "timestamp": 1700367289935,
     "user": {
      "displayName": "yihim",
      "userId": "08839180769355818284"
     },
     "user_tz": -480
    },
    "id": "L7aX8aoFo02S"
   },
   "outputs": [],
   "source": [
    "# Create char-level token vectorizer instance\n",
    "NUM_CHAR_TOKENS = len(alphabet) + 2 # add 2 for space and OOV (out of vocab = ['UNK']) token\n",
    "char_vectorizer = TextVectorization(max_tokens=NUM_CHAR_TOKENS,\n",
    "                                    output_sequence_length=output_seq_char_len,\n",
    "                                    standardize=\"lower_and_strip_punctuation\",\n",
    "                                    name=\"char_vectorizer\")"
   ]
  },
  {
   "cell_type": "code",
   "execution_count": 92,
   "metadata": {
    "colab": {
     "base_uri": "https://localhost:8080/"
    },
    "executionInfo": {
     "elapsed": 10,
     "status": "ok",
     "timestamp": 1700367289935,
     "user": {
      "displayName": "yihim",
      "userId": "08839180769355818284"
     },
     "user_tz": -480
    },
    "id": "Q64gHIq3rSS4",
    "outputId": "4652a9aa-0656-46bc-a823-a27324cd2d08"
   },
   "outputs": [
    {
     "data": {
      "text/plain": [
       "70"
      ]
     },
     "execution_count": 92,
     "metadata": {},
     "output_type": "execute_result"
    }
   ],
   "source": [
    "NUM_CHAR_TOKENS"
   ]
  },
  {
   "cell_type": "code",
   "execution_count": 93,
   "metadata": {
    "executionInfo": {
     "elapsed": 23800,
     "status": "ok",
     "timestamp": 1700367313728,
     "user": {
      "displayName": "yihim",
      "userId": "08839180769355818284"
     },
     "user_tz": -480
    },
    "id": "lqgEbj-5pqSg"
   },
   "outputs": [],
   "source": [
    "char_vectorizer.adapt(train_chars)"
   ]
  },
  {
   "cell_type": "code",
   "execution_count": 94,
   "metadata": {
    "executionInfo": {
     "elapsed": 31,
     "status": "ok",
     "timestamp": 1700367313728,
     "user": {
      "displayName": "yihim",
      "userId": "08839180769355818284"
     },
     "user_tz": -480
    },
    "id": "eibjdgrmpxUE"
   },
   "outputs": [],
   "source": [
    "char_vocab = char_vectorizer.get_vocabulary()"
   ]
  },
  {
   "cell_type": "code",
   "execution_count": 95,
   "metadata": {
    "colab": {
     "base_uri": "https://localhost:8080/"
    },
    "executionInfo": {
     "elapsed": 31,
     "status": "ok",
     "timestamp": 1700367313729,
     "user": {
      "displayName": "yihim",
      "userId": "08839180769355818284"
     },
     "user_tz": -480
    },
    "id": "OuUgh8I0p47_",
    "outputId": "42266195-cb47-4482-f2f6-7f4295d066b6"
   },
   "outputs": [
    {
     "data": {
      "text/plain": [
       "28"
      ]
     },
     "execution_count": 95,
     "metadata": {},
     "output_type": "execute_result"
    }
   ],
   "source": [
    "len(char_vocab)"
   ]
  },
  {
   "cell_type": "code",
   "execution_count": 96,
   "metadata": {
    "colab": {
     "base_uri": "https://localhost:8080/"
    },
    "executionInfo": {
     "elapsed": 30,
     "status": "ok",
     "timestamp": 1700367313730,
     "user": {
      "displayName": "yihim",
      "userId": "08839180769355818284"
     },
     "user_tz": -480
    },
    "id": "4NkMbZLxp-qs",
    "outputId": "5ad0e2dd-bdaf-42fb-9841-149d5ef07738"
   },
   "outputs": [
    {
     "data": {
      "text/plain": [
       "['', '[UNK]', 'e', 't', 'i']"
      ]
     },
     "execution_count": 96,
     "metadata": {},
     "output_type": "execute_result"
    }
   ],
   "source": [
    "char_vocab[:5]"
   ]
  },
  {
   "cell_type": "code",
   "execution_count": 97,
   "metadata": {
    "colab": {
     "base_uri": "https://localhost:8080/"
    },
    "executionInfo": {
     "elapsed": 28,
     "status": "ok",
     "timestamp": 1700367313730,
     "user": {
      "displayName": "yihim",
      "userId": "08839180769355818284"
     },
     "user_tz": -480
    },
    "id": "QLwH_o3dqGdz",
    "outputId": "5cc35c68-c71a-46a2-9392-9cabefa26a98"
   },
   "outputs": [
    {
     "data": {
      "text/plain": [
       "['k', 'x', 'z', 'q', 'j']"
      ]
     },
     "execution_count": 97,
     "metadata": {},
     "output_type": "execute_result"
    }
   ],
   "source": [
    "char_vocab[-5:]"
   ]
  },
  {
   "cell_type": "code",
   "execution_count": 98,
   "metadata": {
    "colab": {
     "base_uri": "https://localhost:8080/"
    },
    "executionInfo": {
     "elapsed": 26,
     "status": "ok",
     "timestamp": 1700367313730,
     "user": {
      "displayName": "yihim",
      "userId": "08839180769355818284"
     },
     "user_tz": -480
    },
    "id": "nFmc25rBqIJp",
    "outputId": "ebae79a5-fd7d-4739-a78f-c4b1d11892cf"
   },
   "outputs": [
    {
     "name": "stdout",
     "output_type": "stream",
     "text": [
      "Random train chars:\n",
      "p l a s m a   n i t r a t e   i n c r e a s e d   f r o m   @   @   t o   @   @   m   (   a c u t e   )   a n d   @   @   m   (   c h r o n i c   )   a f t e r   b r   s u p p l e m e n t a t i o n   .\n",
      "\n",
      "Vectorized chars:\n",
      "[[14 12  5  9 15  5  6  4  3  8  5  3  2  4  6 11  8  2  5  9  2 10 17  8\n",
      "   7 15  3  7 15  5 11 16  3  2  5  6 10 15 11 13  8  7  6  4 11  5 17  3\n",
      "   2  8 22  8  9 16 14 14 12  2 15  2  6  3  5  3  4  7  6  0  0  0  0  0\n",
      "   0  0  0  0  0  0  0  0  0  0  0  0  0  0  0  0  0  0  0  0  0  0  0  0\n",
      "   0  0  0  0  0  0  0  0  0  0  0  0  0  0  0  0  0  0  0  0  0  0  0  0\n",
      "   0  0  0  0  0  0  0  0  0  0  0  0  0  0  0  0  0  0  0  0  0  0  0  0\n",
      "   0  0  0  0  0  0  0  0  0  0  0  0  0  0  0  0  0  0  0  0  0  0  0  0\n",
      "   0  0  0  0  0  0  0  0  0  0  0  0  0  0  0  0  0  0  0  0  0  0  0  0\n",
      "   0  0  0  0  0  0  0  0  0  0  0  0  0  0  0  0  0  0  0  0  0  0  0  0\n",
      "   0  0  0  0  0  0  0  0  0  0  0  0  0  0  0  0  0  0  0  0  0  0  0  0\n",
      "   0  0  0  0  0  0  0  0  0  0  0  0  0  0  0  0  0  0  0  0  0  0  0  0\n",
      "   0  0  0  0  0  0  0  0  0  0  0  0  0  0  0  0  0  0  0  0  0  0  0  0\n",
      "   0  0]]\n",
      "\n",
      "Vectorized chars shape:\n",
      "(1, 290)\n",
      "\n"
     ]
    }
   ],
   "source": [
    "# Test out the character vectorizer\n",
    "random_train_chars = random.choice(train_chars)\n",
    "print(f\"Random train chars:\\n{random_train_chars}\\n\")\n",
    "print(f\"Vectorized chars:\\n{char_vectorizer([random_train_chars])}\\n\")\n",
    "print(f\"Vectorized chars shape:\\n{char_vectorizer([random_train_chars]).shape}\\n\")"
   ]
  },
  {
   "cell_type": "code",
   "execution_count": 99,
   "metadata": {
    "executionInfo": {
     "elapsed": 517,
     "status": "ok",
     "timestamp": 1700369977063,
     "user": {
      "displayName": "yihim",
      "userId": "08839180769355818284"
     },
     "user_tz": -480
    },
    "id": "_QHXAOS0q8Ft"
   },
   "outputs": [],
   "source": [
    "char_embedding = Embedding(input_dim=NUM_CHAR_TOKENS,\n",
    "                           output_dim=25,\n",
    "                           mask_zero=True,\n",
    "                           name=\"char_embed\")"
   ]
  },
  {
   "cell_type": "code",
   "execution_count": 100,
   "metadata": {
    "colab": {
     "base_uri": "https://localhost:8080/"
    },
    "executionInfo": {
     "elapsed": 24,
     "status": "ok",
     "timestamp": 1700367313730,
     "user": {
      "displayName": "yihim",
      "userId": "08839180769355818284"
     },
     "user_tz": -480
    },
    "id": "gwtwcRc8tUTg",
    "outputId": "02b30428-fffe-4b75-c815-103a1ce2dc5f"
   },
   "outputs": [
    {
     "name": "stdout",
     "output_type": "stream",
     "text": [
      "Charified text:\n",
      "p l a s m a   n i t r a t e   i n c r e a s e d   f r o m   @   @   t o   @   @   m   (   a c u t e   )   a n d   @   @   m   (   c h r o n i c   )   a f t e r   b r   s u p p l e m e n t a t i o n   .\n",
      "\n",
      "Embedded chars:\n",
      "[[[-0.00182209  0.04608785 -0.01880499 ...  0.03636576  0.01190628\n",
      "    0.01047869]\n",
      "  [ 0.03730759 -0.01076751 -0.01635151 ...  0.04056353 -0.03774755\n",
      "    0.04383221]\n",
      "  [-0.00806471 -0.02026157 -0.01043898 ...  0.02185177 -0.01428711\n",
      "    0.03561968]\n",
      "  ...\n",
      "  [ 0.03692684  0.04423013 -0.02433294 ... -0.03195297 -0.04666797\n",
      "    0.04038895]\n",
      "  [ 0.03692684  0.04423013 -0.02433294 ... -0.03195297 -0.04666797\n",
      "    0.04038895]\n",
      "  [ 0.03692684  0.04423013 -0.02433294 ... -0.03195297 -0.04666797\n",
      "    0.04038895]]]\n",
      "\n",
      "Embedded chars shpae:\n",
      "(1, 290, 25)\n",
      "\n"
     ]
    }
   ],
   "source": [
    "print(f\"Charified text:\\n{random_train_chars}\\n\")\n",
    "char_embed_example = char_embedding(char_vectorizer([random_train_chars]))\n",
    "print(f\"Embedded chars:\\n{char_embed_example}\\n\")\n",
    "print(f\"Embedded chars shpae:\\n{char_embed_example.shape}\\n\")"
   ]
  },
  {
   "cell_type": "code",
   "execution_count": 101,
   "metadata": {
    "executionInfo": {
     "elapsed": 22,
     "status": "ok",
     "timestamp": 1700367313730,
     "user": {
      "displayName": "yihim",
      "userId": "08839180769355818284"
     },
     "user_tz": -480
    },
    "id": "Z3BQ2zFrugz5"
   },
   "outputs": [],
   "source": [
    "inputs = layers.Input(shape=(1,), dtype=tf.string)\n",
    "x = char_vectorizer(inputs)\n",
    "x = char_embedding(x)\n",
    "x = layers.Conv1D(64, 5, activation=\"relu\", padding=\"same\")(x)\n",
    "x = layers.GlobalMaxPooling1D()(x)\n",
    "outputs = layers.Dense(5, activation=\"softmax\")(x)\n",
    "\n",
    "model_3 = tf.keras.Model(inputs, outputs)"
   ]
  },
  {
   "cell_type": "code",
   "execution_count": 102,
   "metadata": {
    "colab": {
     "base_uri": "https://localhost:8080/"
    },
    "executionInfo": {
     "elapsed": 23,
     "status": "ok",
     "timestamp": 1700367313731,
     "user": {
      "displayName": "yihim",
      "userId": "08839180769355818284"
     },
     "user_tz": -480
    },
    "id": "qJBfCNi6lseM",
    "outputId": "7a988129-3878-4664-fdfa-76c05576a8b8"
   },
   "outputs": [
    {
     "name": "stdout",
     "output_type": "stream",
     "text": [
      "Model: \"model_2\"\n",
      "_________________________________________________________________\n",
      " Layer (type)                Output Shape              Param #   \n",
      "=================================================================\n",
      " input_3 (InputLayer)        [(None, 1)]               0         \n",
      "                                                                 \n",
      " char_vectorizer (TextVector  (None, 290)              0         \n",
      " ization)                                                        \n",
      "                                                                 \n",
      " char_embed (Embedding)      (None, 290, 25)           1750      \n",
      "                                                                 \n",
      " conv1d_1 (Conv1D)           (None, 290, 64)           8064      \n",
      "                                                                 \n",
      " global_max_pooling1d (Globa  (None, 64)               0         \n",
      " lMaxPooling1D)                                                  \n",
      "                                                                 \n",
      " dense_3 (Dense)             (None, 5)                 325       \n",
      "                                                                 \n",
      "=================================================================\n",
      "Total params: 10,139\n",
      "Trainable params: 10,139\n",
      "Non-trainable params: 0\n",
      "_________________________________________________________________\n"
     ]
    }
   ],
   "source": [
    "model_3.summary()"
   ]
  },
  {
   "cell_type": "code",
   "execution_count": 103,
   "metadata": {
    "executionInfo": {
     "elapsed": 19,
     "status": "ok",
     "timestamp": 1700367313731,
     "user": {
      "displayName": "yihim",
      "userId": "08839180769355818284"
     },
     "user_tz": -480
    },
    "id": "HUW_Jf_zmWTC"
   },
   "outputs": [],
   "source": [
    "model_3.compile(loss=\"categorical_crossentropy\",\n",
    "                optimizer=tf.keras.optimizers.Adam(),\n",
    "                metrics=[\"accuracy\"])"
   ]
  },
  {
   "cell_type": "code",
   "execution_count": 104,
   "metadata": {
    "executionInfo": {
     "elapsed": 19,
     "status": "ok",
     "timestamp": 1700367313731,
     "user": {
      "displayName": "yihim",
      "userId": "08839180769355818284"
     },
     "user_tz": -480
    },
    "id": "Xf6Yp0JnnMKV"
   },
   "outputs": [],
   "source": [
    "train_char_dataset = create_tensor_dataset(train_chars, train_labels_one_hot)\n",
    "valid_char_dataset = create_tensor_dataset(val_chars, val_labels_one_hot)\n",
    "test_char_dataset = create_tensor_dataset(test_chars, test_labels_one_hot)"
   ]
  },
  {
   "cell_type": "code",
   "execution_count": 105,
   "metadata": {
    "colab": {
     "base_uri": "https://localhost:8080/"
    },
    "executionInfo": {
     "elapsed": 12475,
     "status": "ok",
     "timestamp": 1700367326187,
     "user": {
      "displayName": "yihim",
      "userId": "08839180769355818284"
     },
     "user_tz": -480
    },
    "id": "Y0Q4LEJNoJDS",
    "outputId": "f056e92a-7173-4f55-92e5-93b547b3eab8"
   },
   "outputs": [
    {
     "name": "stdout",
     "output_type": "stream",
     "text": [
      "Epoch 1/3\n",
      "562/562 [==============================] - 6s 8ms/step - loss: 1.2527 - accuracy: 0.4834 - val_loss: 1.0342 - val_accuracy: 0.5904\n",
      "Epoch 2/3\n",
      "562/562 [==============================] - 5s 8ms/step - loss: 0.9973 - accuracy: 0.6037 - val_loss: 0.9337 - val_accuracy: 0.6217\n",
      "Epoch 3/3\n",
      "562/562 [==============================] - 4s 7ms/step - loss: 0.9044 - accuracy: 0.6444 - val_loss: 0.8552 - val_accuracy: 0.6682\n"
     ]
    }
   ],
   "source": [
    "model_3_history = model_3.fit(train_char_dataset,\n",
    "                              validation_data=valid_char_dataset,\n",
    "                              steps_per_epoch=int(0.1 * len(train_char_dataset)),\n",
    "                              validation_steps=int(0.1 * len(valid_char_dataset)),\n",
    "                              epochs=3)"
   ]
  },
  {
   "cell_type": "code",
   "execution_count": 106,
   "metadata": {
    "colab": {
     "base_uri": "https://localhost:8080/"
    },
    "executionInfo": {
     "elapsed": 5514,
     "status": "ok",
     "timestamp": 1700367331689,
     "user": {
      "displayName": "yihim",
      "userId": "08839180769355818284"
     },
     "user_tz": -480
    },
    "id": "Kjfxl7HVodBQ",
    "outputId": "a5bdc1f7-3cb4-4e3a-cce7-8dbe3ef19660"
   },
   "outputs": [
    {
     "name": "stdout",
     "output_type": "stream",
     "text": [
      "945/945 [==============================] - 4s 4ms/step - loss: 0.8676 - accuracy: 0.6623\n"
     ]
    },
    {
     "data": {
      "text/plain": [
       "[0.8675864338874817, 0.6623196005821228]"
      ]
     },
     "execution_count": 106,
     "metadata": {},
     "output_type": "execute_result"
    }
   ],
   "source": [
    "model_3.evaluate(valid_char_dataset)"
   ]
  },
  {
   "cell_type": "code",
   "execution_count": 107,
   "metadata": {
    "colab": {
     "base_uri": "https://localhost:8080/"
    },
    "executionInfo": {
     "elapsed": 2669,
     "status": "ok",
     "timestamp": 1700367334347,
     "user": {
      "displayName": "yihim",
      "userId": "08839180769355818284"
     },
     "user_tz": -480
    },
    "id": "FJMkuia9o8jT",
    "outputId": "05823582-907f-4c64-a0c5-a4a5ac8ff40a"
   },
   "outputs": [
    {
     "data": {
      "text/plain": [
       "<tf.Tensor: shape=(10,), dtype=int64, numpy=array([1, 1, 3, 2, 2, 2, 2, 1, 4, 2], dtype=int64)>"
      ]
     },
     "execution_count": 107,
     "metadata": {},
     "output_type": "execute_result"
    }
   ],
   "source": [
    "model_3_pred_probs = model_3.predict(valid_char_dataset)\n",
    "model_3_preds = tf.argmax(model_3_pred_probs, axis = 1)\n",
    "model_3_preds[:10]"
   ]
  },
  {
   "cell_type": "code",
   "execution_count": 108,
   "metadata": {
    "colab": {
     "base_uri": "https://localhost:8080/"
    },
    "executionInfo": {
     "elapsed": 19,
     "status": "ok",
     "timestamp": 1700367334347,
     "user": {
      "displayName": "yihim",
      "userId": "08839180769355818284"
     },
     "user_tz": -480
    },
    "id": "h2BJWG5zpO4M",
    "outputId": "2af89494-9cb5-4bd0-bc4c-8775aec4a0ce"
   },
   "outputs": [
    {
     "data": {
      "text/plain": [
       "{'Accuracy': 0.6623196081027406,\n",
       " 'Precision': 0.6577862849357532,\n",
       " 'Recall': 0.6623196081027406,\n",
       " 'f1-score': 0.6542609126750079}"
      ]
     },
     "execution_count": 108,
     "metadata": {},
     "output_type": "execute_result"
    }
   ],
   "source": [
    "model_3_results = model_evaluation_metrics(val_labels_encoded, model_3_preds)\n",
    "model_3_results"
   ]
  },
  {
   "cell_type": "markdown",
   "metadata": {
    "id": "3xIBog-LpZNh"
   },
   "source": [
    "## Model 4: Pretrained token embeddings + character embeddings"
   ]
  },
  {
   "cell_type": "code",
   "execution_count": 109,
   "metadata": {
    "executionInfo": {
     "elapsed": 2546,
     "status": "ok",
     "timestamp": 1700367336878,
     "user": {
      "displayName": "yihim",
      "userId": "08839180769355818284"
     },
     "user_tz": -480
    },
    "id": "EZYfptZBqkLP"
   },
   "outputs": [],
   "source": [
    "# Setup token inputs/model\n",
    "token_inputs = layers.Input(shape=[], dtype=tf.string, name=\"token_input\") # using shape=[] is because we are using a pretrained model from hub\n",
    "token_embeddings = tf_hub_embedding_layer(token_inputs)\n",
    "token_outputs = layers.Dense(128, activation=\"relu\")(token_embeddings)\n",
    "token_model = tf.keras.Model(inputs=token_inputs,\n",
    "                             outputs=token_outputs)\n",
    "\n",
    "# Setup char inputs/model\n",
    "char_inputs = layers.Input(shape=(1,), dtype=tf.string, name=\"char_input\")\n",
    "char_vectors = char_vectorizer(char_inputs)\n",
    "char_embeddings = char_embedding(char_vectors)\n",
    "char_bi_lstm = layers.Bidirectional(layers.LSTM(24))(char_embeddings) # bi-LSTM\n",
    "char_model = tf.keras.Model(inputs=char_inputs,\n",
    "                            outputs=char_bi_lstm)\n",
    "\n",
    "# Concatenante token and char inputs - hybrid token embedding\n",
    "token_char_concat = layers.Concatenate(name=\"token_char_hybrid\")([token_model.output, char_model.output])\n",
    "\n",
    "# Create output layers - adding in Dropout\n",
    "combined_dropout = layers.Dropout(0.5)(token_char_concat)\n",
    "combined_dense = layers.Dense(128, activation=\"relu\")(combined_dropout)\n",
    "final_dropout = layers.Dropout(0.5)(combined_dense)\n",
    "output_layer = layers.Dense(5, activation=\"softmax\")(final_dropout)\n",
    "\n",
    "# Construct model with char and token inputs\n",
    "model_4 = tf.keras.Model(inputs=[token_model.input, char_model.input], outputs=output_layer)\n"
   ]
  },
  {
   "cell_type": "code",
   "execution_count": 110,
   "metadata": {
    "colab": {
     "base_uri": "https://localhost:8080/"
    },
    "executionInfo": {
     "elapsed": 15,
     "status": "ok",
     "timestamp": 1700367336878,
     "user": {
      "displayName": "yihim",
      "userId": "08839180769355818284"
     },
     "user_tz": -480
    },
    "id": "mdOL-iWAwSdt",
    "outputId": "d7ca6083-6c2d-4205-8797-f22fbd98d50f"
   },
   "outputs": [
    {
     "name": "stdout",
     "output_type": "stream",
     "text": [
      "Model: \"model_5\"\n",
      "__________________________________________________________________________________________________\n",
      " Layer (type)                   Output Shape         Param #     Connected to                     \n",
      "==================================================================================================\n",
      " char_input (InputLayer)        [(None, 1)]          0           []                               \n",
      "                                                                                                  \n",
      " token_input (InputLayer)       [(None,)]            0           []                               \n",
      "                                                                                                  \n",
      " char_vectorizer (TextVectoriza  (None, 290)         0           ['char_input[0][0]']             \n",
      " tion)                                                                                            \n",
      "                                                                                                  \n",
      " universal_sentence_encoder (Ke  (None, 512)         256797824   ['token_input[0][0]']            \n",
      " rasLayer)                                                                                        \n",
      "                                                                                                  \n",
      " char_embed (Embedding)         (None, 290, 25)      1750        ['char_vectorizer[1][0]']        \n",
      "                                                                                                  \n",
      " dense_4 (Dense)                (None, 128)          65664       ['universal_sentence_encoder[1][0\n",
      "                                                                 ]']                              \n",
      "                                                                                                  \n",
      " bidirectional (Bidirectional)  (None, 48)           9600        ['char_embed[1][0]']             \n",
      "                                                                                                  \n",
      " token_char_hybrid (Concatenate  (None, 176)         0           ['dense_4[0][0]',                \n",
      " )                                                                'bidirectional[0][0]']          \n",
      "                                                                                                  \n",
      " dropout (Dropout)              (None, 176)          0           ['token_char_hybrid[0][0]']      \n",
      "                                                                                                  \n",
      " dense_5 (Dense)                (None, 128)          22656       ['dropout[0][0]']                \n",
      "                                                                                                  \n",
      " dropout_1 (Dropout)            (None, 128)          0           ['dense_5[0][0]']                \n",
      "                                                                                                  \n",
      " dense_6 (Dense)                (None, 5)            645         ['dropout_1[0][0]']              \n",
      "                                                                                                  \n",
      "==================================================================================================\n",
      "Total params: 256,898,139\n",
      "Trainable params: 100,315\n",
      "Non-trainable params: 256,797,824\n",
      "__________________________________________________________________________________________________\n"
     ]
    }
   ],
   "source": [
    "model_4.summary()"
   ]
  },
  {
   "cell_type": "code",
   "execution_count": 111,
   "metadata": {
    "executionInfo": {
     "elapsed": 7,
     "status": "ok",
     "timestamp": 1700367336878,
     "user": {
      "displayName": "yihim",
      "userId": "08839180769355818284"
     },
     "user_tz": -480
    },
    "id": "foQi3-sU0dMR"
   },
   "outputs": [],
   "source": [
    "from tensorflow.keras.utils import plot_model"
   ]
  },
  {
   "cell_type": "code",
   "execution_count": 112,
   "metadata": {
    "colab": {
     "base_uri": "https://localhost:8080/",
     "height": 976
    },
    "executionInfo": {
     "elapsed": 8,
     "status": "ok",
     "timestamp": 1700367336879,
     "user": {
      "displayName": "yihim",
      "userId": "08839180769355818284"
     },
     "user_tz": -480
    },
    "id": "i1ycXb8K0ty6",
    "outputId": "a94e2131-5e1f-46b7-aac0-94e3c787086c"
   },
   "outputs": [
    {
     "name": "stdout",
     "output_type": "stream",
     "text": [
      "You must install pydot (`pip install pydot`) and install graphviz (see instructions at https://graphviz.gitlab.io/download/) for plot_model/model_to_dot to work.\n"
     ]
    }
   ],
   "source": [
    "plot_model(model_4, show_shapes=True)"
   ]
  },
  {
   "cell_type": "code",
   "execution_count": 113,
   "metadata": {
    "executionInfo": {
     "elapsed": 6,
     "status": "ok",
     "timestamp": 1700367336879,
     "user": {
      "displayName": "yihim",
      "userId": "08839180769355818284"
     },
     "user_tz": -480
    },
    "id": "ycmh9gjm0z-Y"
   },
   "outputs": [],
   "source": [
    "# Compile\n",
    "model_4.compile(loss=\"categorical_crossentropy\",\n",
    "                optimizer=tf.keras.optimizers.Adam(),\n",
    "                metrics=[\"accuracy\"])"
   ]
  },
  {
   "cell_type": "code",
   "execution_count": 114,
   "metadata": {
    "executionInfo": {
     "elapsed": 521,
     "status": "ok",
     "timestamp": 1700367337394,
     "user": {
      "displayName": "yihim",
      "userId": "08839180769355818284"
     },
     "user_tz": -480
    },
    "id": "LseQXWnX2zK7"
   },
   "outputs": [],
   "source": [
    "# Combining token and char data\n",
    "train_token_char_data = tf.data.Dataset.from_tensor_slices((train_sentences, train_chars))\n",
    "train_token_char_labels = tf.data.Dataset.from_tensor_slices((train_labels_one_hot))\n",
    "train_token_char_dataset = tf.data.Dataset.zip((train_token_char_data, train_token_char_labels))\n",
    "\n",
    "train_token_char_dataset = train_token_char_dataset.batch(32).prefetch(tf.data.AUTOTUNE)"
   ]
  },
  {
   "cell_type": "code",
   "execution_count": 115,
   "metadata": {
    "executionInfo": {
     "elapsed": 635,
     "status": "ok",
     "timestamp": 1700367338027,
     "user": {
      "displayName": "yihim",
      "userId": "08839180769355818284"
     },
     "user_tz": -480
    },
    "id": "RTBX3Kb44DfJ"
   },
   "outputs": [],
   "source": [
    "val_token_char_data = tf.data.Dataset.from_tensor_slices((val_sentences, val_chars))\n",
    "val_token_char_labels = tf.data.Dataset.from_tensor_slices((val_labels_one_hot))\n",
    "val_token_char_dataset = tf.data.Dataset.zip((val_token_char_data, val_token_char_labels))\n",
    "\n",
    "val_token_char_dataset = val_token_char_dataset.batch(32).prefetch(tf.data.AUTOTUNE)"
   ]
  },
  {
   "cell_type": "code",
   "execution_count": 116,
   "metadata": {
    "colab": {
     "base_uri": "https://localhost:8080/"
    },
    "executionInfo": {
     "elapsed": 8,
     "status": "ok",
     "timestamp": 1700367338027,
     "user": {
      "displayName": "yihim",
      "userId": "08839180769355818284"
     },
     "user_tz": -480
    },
    "id": "3C27QNKU4wjr",
    "outputId": "73e15e0c-2a78-432f-8570-6383be61b859"
   },
   "outputs": [
    {
     "data": {
      "text/plain": [
       "(<PrefetchDataset element_spec=((TensorSpec(shape=(None,), dtype=tf.string, name=None), TensorSpec(shape=(None,), dtype=tf.string, name=None)), TensorSpec(shape=(None, 5), dtype=tf.float64, name=None))>,\n",
       " <PrefetchDataset element_spec=((TensorSpec(shape=(None,), dtype=tf.string, name=None), TensorSpec(shape=(None,), dtype=tf.string, name=None)), TensorSpec(shape=(None, 5), dtype=tf.float64, name=None))>)"
      ]
     },
     "execution_count": 116,
     "metadata": {},
     "output_type": "execute_result"
    }
   ],
   "source": [
    "train_token_char_dataset, val_token_char_dataset"
   ]
  },
  {
   "cell_type": "markdown",
   "metadata": {
    "id": "SW8h0QxVv18k"
   },
   "source": [
    "<PrefetchDataset element_spec=(TensorSpec(shape=(None,), dtype=tf.string, name=None), TensorSpec(shape=(None, 5), dtype=tf.float64, name=None))>"
   ]
  },
  {
   "cell_type": "code",
   "execution_count": 117,
   "metadata": {
    "colab": {
     "base_uri": "https://localhost:8080/"
    },
    "executionInfo": {
     "elapsed": 150576,
     "status": "ok",
     "timestamp": 1700367488597,
     "user": {
      "displayName": "yihim",
      "userId": "08839180769355818284"
     },
     "user_tz": -480
    },
    "id": "_o6hm4nZ2VoT",
    "outputId": "11102d11-0106-4e9b-8676-aee45ee516cd"
   },
   "outputs": [
    {
     "name": "stdout",
     "output_type": "stream",
     "text": [
      "Epoch 1/3\n",
      "562/562 [==============================] - 68s 104ms/step - loss: 0.9856 - accuracy: 0.6068 - val_loss: 0.7835 - val_accuracy: 0.6935\n",
      "Epoch 2/3\n",
      "562/562 [==============================] - 56s 99ms/step - loss: 0.8020 - accuracy: 0.6887 - val_loss: 0.7149 - val_accuracy: 0.7281\n",
      "Epoch 3/3\n",
      "562/562 [==============================] - 52s 92ms/step - loss: 0.7743 - accuracy: 0.7033 - val_loss: 0.6927 - val_accuracy: 0.7420\n"
     ]
    }
   ],
   "source": [
    "model_4_history = model_4.fit(train_token_char_dataset,\n",
    "                              validation_data=val_token_char_dataset,\n",
    "                              steps_per_epoch=int(0.1 * len(train_token_char_dataset)),\n",
    "                              validation_steps=int(0.1 * len(val_token_char_dataset)),\n",
    "                              epochs=3)"
   ]
  },
  {
   "cell_type": "code",
   "execution_count": 118,
   "metadata": {
    "colab": {
     "base_uri": "https://localhost:8080/"
    },
    "executionInfo": {
     "elapsed": 23612,
     "status": "ok",
     "timestamp": 1700367512195,
     "user": {
      "displayName": "yihim",
      "userId": "08839180769355818284"
     },
     "user_tz": -480
    },
    "id": "W-JvWyzm50h-",
    "outputId": "1bc4dfec-a6b1-4d9a-8bb1-b360f07a26a6"
   },
   "outputs": [
    {
     "name": "stdout",
     "output_type": "stream",
     "text": [
      "945/945 [==============================] - 39s 41ms/step - loss: 0.6983 - accuracy: 0.7374\n"
     ]
    },
    {
     "data": {
      "text/plain": [
       "[0.6982585191726685, 0.7374222278594971]"
      ]
     },
     "execution_count": 118,
     "metadata": {},
     "output_type": "execute_result"
    }
   ],
   "source": [
    "model_4.evaluate(val_token_char_dataset)"
   ]
  },
  {
   "cell_type": "code",
   "execution_count": 119,
   "metadata": {
    "colab": {
     "base_uri": "https://localhost:8080/"
    },
    "executionInfo": {
     "elapsed": 23255,
     "status": "ok",
     "timestamp": 1700367535438,
     "user": {
      "displayName": "yihim",
      "userId": "08839180769355818284"
     },
     "user_tz": -480
    },
    "id": "Fmtigl-_6gWa",
    "outputId": "f2880d0f-acca-4049-c56b-ed22939e366c"
   },
   "outputs": [
    {
     "data": {
      "text/plain": [
       "{'Accuracy': 0.737422216337879,\n",
       " 'Precision': 0.7374992210905073,\n",
       " 'Recall': 0.737422216337879,\n",
       " 'f1-score': 0.7352409727832856}"
      ]
     },
     "execution_count": 119,
     "metadata": {},
     "output_type": "execute_result"
    }
   ],
   "source": [
    "model_4_pred_probs = model_4.predict(val_token_char_dataset)\n",
    "model_4_preds = tf.argmax(model_4_pred_probs, axis = 1)\n",
    "model_4_results = model_evaluation_metrics(val_labels_encoded, model_4_preds)\n",
    "model_4_results"
   ]
  },
  {
   "cell_type": "markdown",
   "metadata": {
    "id": "BSuMvnnO6yJO"
   },
   "source": [
    "## Model 5: Pretrained token embedding + character embedding + positional embedding"
   ]
  },
  {
   "cell_type": "code",
   "execution_count": 120,
   "metadata": {
    "colab": {
     "base_uri": "https://localhost:8080/",
     "height": 206
    },
    "executionInfo": {
     "elapsed": 28,
     "status": "ok",
     "timestamp": 1700367535438,
     "user": {
      "displayName": "yihim",
      "userId": "08839180769355818284"
     },
     "user_tz": -480
    },
    "id": "-fT7yD11vU4S",
    "outputId": "bdf9e98a-339b-4662-e490-e29e1fafef26"
   },
   "outputs": [
    {
     "data": {
      "text/html": [
       "<div>\n",
       "<style scoped>\n",
       "    .dataframe tbody tr th:only-of-type {\n",
       "        vertical-align: middle;\n",
       "    }\n",
       "\n",
       "    .dataframe tbody tr th {\n",
       "        vertical-align: top;\n",
       "    }\n",
       "\n",
       "    .dataframe thead th {\n",
       "        text-align: right;\n",
       "    }\n",
       "</style>\n",
       "<table border=\"1\" class=\"dataframe\">\n",
       "  <thead>\n",
       "    <tr style=\"text-align: right;\">\n",
       "      <th></th>\n",
       "      <th>target</th>\n",
       "      <th>text</th>\n",
       "      <th>line_number</th>\n",
       "      <th>total_lines</th>\n",
       "    </tr>\n",
       "  </thead>\n",
       "  <tbody>\n",
       "    <tr>\n",
       "      <th>0</th>\n",
       "      <td>OBJECTIVE</td>\n",
       "      <td>to investigate the efficacy of @ weeks of dail...</td>\n",
       "      <td>0</td>\n",
       "      <td>11</td>\n",
       "    </tr>\n",
       "    <tr>\n",
       "      <th>1</th>\n",
       "      <td>METHODS</td>\n",
       "      <td>a total of @ patients with primary knee oa wer...</td>\n",
       "      <td>1</td>\n",
       "      <td>11</td>\n",
       "    </tr>\n",
       "    <tr>\n",
       "      <th>2</th>\n",
       "      <td>METHODS</td>\n",
       "      <td>outcome measures included pain reduction and i...</td>\n",
       "      <td>2</td>\n",
       "      <td>11</td>\n",
       "    </tr>\n",
       "    <tr>\n",
       "      <th>3</th>\n",
       "      <td>METHODS</td>\n",
       "      <td>pain was assessed using the visual analog pain...</td>\n",
       "      <td>3</td>\n",
       "      <td>11</td>\n",
       "    </tr>\n",
       "    <tr>\n",
       "      <th>4</th>\n",
       "      <td>METHODS</td>\n",
       "      <td>secondary outcome measures included the wester...</td>\n",
       "      <td>4</td>\n",
       "      <td>11</td>\n",
       "    </tr>\n",
       "  </tbody>\n",
       "</table>\n",
       "</div>"
      ],
      "text/plain": [
       "      target                                               text  line_number  \\\n",
       "0  OBJECTIVE  to investigate the efficacy of @ weeks of dail...            0   \n",
       "1    METHODS  a total of @ patients with primary knee oa wer...            1   \n",
       "2    METHODS  outcome measures included pain reduction and i...            2   \n",
       "3    METHODS  pain was assessed using the visual analog pain...            3   \n",
       "4    METHODS  secondary outcome measures included the wester...            4   \n",
       "\n",
       "   total_lines  \n",
       "0           11  \n",
       "1           11  \n",
       "2           11  \n",
       "3           11  \n",
       "4           11  "
      ]
     },
     "execution_count": 120,
     "metadata": {},
     "output_type": "execute_result"
    }
   ],
   "source": [
    "train_df.head()"
   ]
  },
  {
   "cell_type": "markdown",
   "metadata": {
    "id": "CQQGTH1oxOJ6"
   },
   "source": [
    "Any engineered features used to train a model need to be available at test time, in this case, line numbers and total lines are available"
   ]
  },
  {
   "cell_type": "markdown",
   "metadata": {
    "id": "gDqFeCjQyego"
   },
   "source": [
    "### Creating positional embeddings"
   ]
  },
  {
   "cell_type": "code",
   "execution_count": 121,
   "metadata": {
    "colab": {
     "base_uri": "https://localhost:8080/"
    },
    "executionInfo": {
     "elapsed": 27,
     "status": "ok",
     "timestamp": 1700367535438,
     "user": {
      "displayName": "yihim",
      "userId": "08839180769355818284"
     },
     "user_tz": -480
    },
    "id": "zIPtGHSNyvF_",
    "outputId": "43d6ea9e-56aa-4230-f09c-d7398938412a"
   },
   "outputs": [
    {
     "data": {
      "text/plain": [
       "line_number\n",
       "0     15000\n",
       "1     15000\n",
       "2     15000\n",
       "3     15000\n",
       "4     14992\n",
       "5     14949\n",
       "6     14758\n",
       "7     14279\n",
       "8     13346\n",
       "9     11981\n",
       "10    10041\n",
       "11     7892\n",
       "12     5853\n",
       "13     4152\n",
       "14     2835\n",
       "15     1861\n",
       "16     1188\n",
       "17      751\n",
       "18      462\n",
       "19      286\n",
       "20      162\n",
       "21      101\n",
       "22       66\n",
       "23       33\n",
       "24       22\n",
       "25       14\n",
       "26        7\n",
       "27        4\n",
       "28        3\n",
       "29        1\n",
       "30        1\n",
       "Name: count, dtype: int64"
      ]
     },
     "execution_count": 121,
     "metadata": {},
     "output_type": "execute_result"
    }
   ],
   "source": [
    "train_df[\"line_number\"].value_counts()"
   ]
  },
  {
   "cell_type": "code",
   "execution_count": 122,
   "metadata": {
    "colab": {
     "base_uri": "https://localhost:8080/",
     "height": 447
    },
    "executionInfo": {
     "elapsed": 24,
     "status": "ok",
     "timestamp": 1700367535438,
     "user": {
      "displayName": "yihim",
      "userId": "08839180769355818284"
     },
     "user_tz": -480
    },
    "id": "NGkV4pwOy1c0",
    "outputId": "64e6d249-539d-4b0b-ae2e-bef53774eec1"
   },
   "outputs": [
    {
     "data": {
      "text/plain": [
       "<Axes: ylabel='Frequency'>"
      ]
     },
     "execution_count": 122,
     "metadata": {},
     "output_type": "execute_result"
    },
    {
     "data": {
      "image/png": "[encoded data removed]",
      "text/plain": [
       "<Figure size 640x480 with 1 Axes>"
      ]
     },
     "metadata": {},
     "output_type": "display_data"
    }
   ],
   "source": [
    "# Check the distribution of \"line_number\"\n",
    "train_df.line_number.plot.hist()"
   ]
  },
  {
   "cell_type": "code",
   "execution_count": 123,
   "metadata": {
    "colab": {
     "base_uri": "https://localhost:8080/"
    },
    "executionInfo": {
     "elapsed": 22,
     "status": "ok",
     "timestamp": 1700367535438,
     "user": {
      "displayName": "yihim",
      "userId": "08839180769355818284"
     },
     "user_tz": -480
    },
    "id": "U7h6qPWHzXR2",
    "outputId": "9c34eec4-076a-45b3-f381-da007aef4529"
   },
   "outputs": [
    {
     "data": {
      "text/plain": [
       "15.0"
      ]
     },
     "execution_count": 123,
     "metadata": {},
     "output_type": "execute_result"
    }
   ],
   "source": [
    "np.percentile(train_df.line_number, 98)"
   ]
  },
  {
   "cell_type": "code",
   "execution_count": 124,
   "metadata": {
    "colab": {
     "base_uri": "https://localhost:8080/"
    },
    "executionInfo": {
     "elapsed": 18,
     "status": "ok",
     "timestamp": 1700367535438,
     "user": {
      "displayName": "yihim",
      "userId": "08839180769355818284"
     },
     "user_tz": -480
    },
    "id": "qvAq2UEEzd4s",
    "outputId": "424b3753-829f-4b8f-a630-194fe6a3559b"
   },
   "outputs": [
    {
     "data": {
      "text/plain": [
       "(<tf.Tensor: shape=(10, 15), dtype=float32, numpy=\n",
       " array([[1., 0., 0., 0., 0., 0., 0., 0., 0., 0., 0., 0., 0., 0., 0.],\n",
       "        [0., 1., 0., 0., 0., 0., 0., 0., 0., 0., 0., 0., 0., 0., 0.],\n",
       "        [0., 0., 1., 0., 0., 0., 0., 0., 0., 0., 0., 0., 0., 0., 0.],\n",
       "        [0., 0., 0., 1., 0., 0., 0., 0., 0., 0., 0., 0., 0., 0., 0.],\n",
       "        [0., 0., 0., 0., 1., 0., 0., 0., 0., 0., 0., 0., 0., 0., 0.],\n",
       "        [0., 0., 0., 0., 0., 1., 0., 0., 0., 0., 0., 0., 0., 0., 0.],\n",
       "        [0., 0., 0., 0., 0., 0., 1., 0., 0., 0., 0., 0., 0., 0., 0.],\n",
       "        [0., 0., 0., 0., 0., 0., 0., 1., 0., 0., 0., 0., 0., 0., 0.],\n",
       "        [0., 0., 0., 0., 0., 0., 0., 0., 1., 0., 0., 0., 0., 0., 0.],\n",
       "        [0., 0., 0., 0., 0., 0., 0., 0., 0., 1., 0., 0., 0., 0., 0.]],\n",
       "       dtype=float32)>,\n",
       " TensorShape([180040, 15]))"
      ]
     },
     "execution_count": 124,
     "metadata": {},
     "output_type": "execute_result"
    }
   ],
   "source": [
    "# Use TensorFlow to create one-hot-encoded tensors of the \"line_number\" column\n",
    "train_line_numbers_one_hot = tf.one_hot(train_df[\"line_number\"].to_numpy(), depth=15)\n",
    "val_line_numbers_one_hot = tf.one_hot(val_df[\"line_number\"].to_numpy(), depth=15)\n",
    "test_line_numbers_one_hot = tf.one_hot(test_df[\"line_number\"].to_numpy(), depth=15)\n",
    "train_line_numbers_one_hot[:10], train_line_numbers_one_hot.shape"
   ]
  },
  {
   "cell_type": "code",
   "execution_count": 125,
   "metadata": {
    "colab": {
     "base_uri": "https://localhost:8080/"
    },
    "executionInfo": {
     "elapsed": 775,
     "status": "ok",
     "timestamp": 1700367536197,
     "user": {
      "displayName": "yihim",
      "userId": "08839180769355818284"
     },
     "user_tz": -480
    },
    "id": "7uY8CUMO0ICD",
    "outputId": "f1efb8ce-5f99-4723-9311-c60fec26ac38"
   },
   "outputs": [
    {
     "data": {
      "text/plain": [
       "total_lines\n",
       "11    24468\n",
       "10    23639\n",
       "12    22113\n",
       "9     19400\n",
       "13    18438\n",
       "14    14610\n",
       "8     12285\n",
       "15    10768\n",
       "7      7464\n",
       "16     7429\n",
       "17     5202\n",
       "6      3353\n",
       "18     3344\n",
       "19     2480\n",
       "20     1281\n",
       "5      1146\n",
       "21      770\n",
       "22      759\n",
       "23      264\n",
       "4       215\n",
       "24      200\n",
       "25      182\n",
       "26       81\n",
       "28       58\n",
       "3        32\n",
       "30       31\n",
       "27       28\n",
       "Name: count, dtype: int64"
      ]
     },
     "execution_count": 125,
     "metadata": {},
     "output_type": "execute_result"
    }
   ],
   "source": [
    "train_df.total_lines.value_counts()"
   ]
  },
  {
   "cell_type": "code",
   "execution_count": 126,
   "metadata": {
    "colab": {
     "base_uri": "https://localhost:8080/",
     "height": 448
    },
    "executionInfo": {
     "elapsed": 9,
     "status": "ok",
     "timestamp": 1700367536198,
     "user": {
      "displayName": "yihim",
      "userId": "08839180769355818284"
     },
     "user_tz": -480
    },
    "id": "UcokvpB21JvI",
    "outputId": "9bce5d78-2b6e-4835-fcbf-500c36a35518"
   },
   "outputs": [
    {
     "data": {
      "text/plain": [
       "<Axes: ylabel='Frequency'>"
      ]
     },
     "execution_count": 126,
     "metadata": {},
     "output_type": "execute_result"
    },
    {
     "data": {
      "image/png": "[encoded data removed]",
      "text/plain": [
       "<Figure size 640x480 with 1 Axes>"
      ]
     },
     "metadata": {},
     "output_type": "display_data"
    }
   ],
   "source": [
    "train_df.total_lines.plot.hist()"
   ]
  },
  {
   "cell_type": "code",
   "execution_count": 127,
   "metadata": {
    "colab": {
     "base_uri": "https://localhost:8080/"
    },
    "executionInfo": {
     "elapsed": 7,
     "status": "ok",
     "timestamp": 1700367536198,
     "user": {
      "displayName": "yihim",
      "userId": "08839180769355818284"
     },
     "user_tz": -480
    },
    "id": "Vkebbqzb1NeC",
    "outputId": "102b75e6-9a49-432b-83ea-4f3eb5274b7d"
   },
   "outputs": [
    {
     "data": {
      "text/plain": [
       "20.0"
      ]
     },
     "execution_count": 127,
     "metadata": {},
     "output_type": "execute_result"
    }
   ],
   "source": [
    "np.percentile(train_df.total_lines, 98)"
   ]
  },
  {
   "cell_type": "code",
   "execution_count": 128,
   "metadata": {
    "executionInfo": {
     "elapsed": 5,
     "status": "ok",
     "timestamp": 1700367536198,
     "user": {
      "displayName": "yihim",
      "userId": "08839180769355818284"
     },
     "user_tz": -480
    },
    "id": "5kTnDLla1Tci"
   },
   "outputs": [],
   "source": [
    "train_total_lines_one_hot = tf.one_hot(train_df[\"total_lines\"].to_numpy(), depth=20)\n",
    "val_total_lines_one_hot = tf.one_hot(val_df[\"total_lines\"].to_numpy(), depth=20)\n",
    "test_total_lines_one_hot = tf.one_hot(test_df[\"total_lines\"].to_numpy(), depth=20)"
   ]
  },
  {
   "cell_type": "code",
   "execution_count": 129,
   "metadata": {
    "colab": {
     "base_uri": "https://localhost:8080/"
    },
    "executionInfo": {
     "elapsed": 5,
     "status": "ok",
     "timestamp": 1700367536198,
     "user": {
      "displayName": "yihim",
      "userId": "08839180769355818284"
     },
     "user_tz": -480
    },
    "id": "-riv8byU2ZcJ",
    "outputId": "50677020-150a-4cb3-9203-726a2920ca23"
   },
   "outputs": [
    {
     "data": {
      "text/plain": [
       "<tf.Tensor: shape=(20,), dtype=float32, numpy=\n",
       "array([0., 0., 0., 0., 0., 0., 0., 0., 0., 0., 0., 1., 0., 0., 0., 0., 0.,\n",
       "       0., 0., 0.], dtype=float32)>"
      ]
     },
     "execution_count": 129,
     "metadata": {},
     "output_type": "execute_result"
    }
   ],
   "source": [
    "train_total_lines_one_hot[0]"
   ]
  },
  {
   "cell_type": "code",
   "execution_count": 130,
   "metadata": {
    "executionInfo": {
     "elapsed": 3012,
     "status": "ok",
     "timestamp": 1700372465585,
     "user": {
      "displayName": "yihim",
      "userId": "08839180769355818284"
     },
     "user_tz": -480
    },
    "id": "8tILF7ib21Ur"
   },
   "outputs": [],
   "source": [
    "# Building a tribrid embedding model\n",
    "# Create a token-level model\n",
    "token_inputs = layers.Input(shape=[], dtype=tf.string, name=\"token_inputs\")\n",
    "token_embedding = tf_hub_embedding_layer(token_inputs)\n",
    "token_outputs = layers.Dense(128, activation=\"relu\")(token_embedding)\n",
    "token_model = tf.keras.Model(inputs=token_inputs,\n",
    "                             outputs=token_outputs)\n",
    "\n",
    "# Create a character-level model\n",
    "char_inputs = layers.Input(shape=(1,), dtype=tf.string, name=\"char_inputs\")\n",
    "char_vectors = char_vectorizer(char_inputs)\n",
    "char_embeddings = char_embedding(char_vectors)\n",
    "char_bi_lstm = layers.Bidirectional(layers.LSTM(24))(char_embeddings)\n",
    "char_model = tf.keras.Model(inputs=char_inputs,\n",
    "                            outputs=char_bi_lstm)\n",
    "\n",
    "\n",
    "# Create a model for the \"line_number\" feature\n",
    "ln_inputs = layers.Input(shape=(15,), dtype=tf.float32, name=\"line_number_inputs\")\n",
    "ln_outputs = layers.Dense(32, activation=\"relu\")(ln_inputs)\n",
    "ln_model = tf.keras.Model(inputs=ln_inputs,\n",
    "                          outputs=ln_outputs)\n",
    "\n",
    "# Create a model for the \"total_lines\" feature\n",
    "tl_inputs = layers.Input(shape=(20,), dtype=tf.float32, name=\"total_lines_inputs\")\n",
    "tl_outputs = layers.Dense(32, activation=\"relu\")(tl_inputs)\n",
    "tl_model = tf.keras.Model(inputs=tl_inputs,\n",
    "                          outputs=tl_outputs)\n",
    "\n",
    "# Combine the ouputs of token and character model\n",
    "combined_embeddings = layers.Concatenate(name=\"token_char_hybrid_embedding\")([token_model.output,\n",
    "                                                                              char_model.output])\n",
    "x = layers.Dense(256, activation=\"relu\")(combined_embeddings)\n",
    "x = layers.Dropout(0.5)(x)\n",
    "\n",
    "# Combine the outputs of line_number, total_lines and both token and character models\n",
    "tribrid_embeddings = layers.Concatenate(name=\"token_char_positional_embedding\")([ln_model.output,\n",
    "                                                                                tl_model.output,\n",
    "                                                                                x])\n",
    "\n",
    "# Create an output layer to accept the tribried embedding and output label probabilities\n",
    "output_layer = layers.Dense(5, activation=\"softmax\", name=\"output_layer\")(tribrid_embeddings)\n",
    "\n",
    "# Combine the inputs of all models and outputs of the output layer\n",
    "model_5 = tf.keras.Model(inputs=[ln_model.input,\n",
    "                                 tl_model.input,\n",
    "                                 token_model.input,\n",
    "                                 char_model.input],\n",
    "                         outputs=output_layer)"
   ]
  },
  {
   "cell_type": "code",
   "execution_count": 131,
   "metadata": {
    "colab": {
     "base_uri": "https://localhost:8080/",
     "height": 976
    },
    "executionInfo": {
     "elapsed": 14,
     "status": "ok",
     "timestamp": 1700367539380,
     "user": {
      "displayName": "yihim",
      "userId": "08839180769355818284"
     },
     "user_tz": -480
    },
    "id": "As7aYZ_z8_OD",
    "outputId": "58eaa6d3-6841-4fd2-a61d-4b380bb72a74"
   },
   "outputs": [
    {
     "name": "stdout",
     "output_type": "stream",
     "text": [
      "You must install pydot (`pip install pydot`) and install graphviz (see instructions at https://graphviz.gitlab.io/download/) for plot_model/model_to_dot to work.\n"
     ]
    }
   ],
   "source": [
    "plot_model(model_5, show_shapes=True)"
   ]
  },
  {
   "cell_type": "code",
   "execution_count": 132,
   "metadata": {
    "colab": {
     "base_uri": "https://localhost:8080/"
    },
    "executionInfo": {
     "elapsed": 12,
     "status": "ok",
     "timestamp": 1700367539380,
     "user": {
      "displayName": "yihim",
      "userId": "08839180769355818284"
     },
     "user_tz": -480
    },
    "id": "BdPK2jvi9I8o",
    "outputId": "b10437ec-c8e8-4b58-cbf5-f32fe9ccc3d6"
   },
   "outputs": [
    {
     "name": "stdout",
     "output_type": "stream",
     "text": [
      "Model: \"model_10\"\n",
      "__________________________________________________________________________________________________\n",
      " Layer (type)                   Output Shape         Param #     Connected to                     \n",
      "==================================================================================================\n",
      " char_inputs (InputLayer)       [(None, 1)]          0           []                               \n",
      "                                                                                                  \n",
      " token_inputs (InputLayer)      [(None,)]            0           []                               \n",
      "                                                                                                  \n",
      " char_vectorizer (TextVectoriza  (None, 290)         0           ['char_inputs[0][0]']            \n",
      " tion)                                                                                            \n",
      "                                                                                                  \n",
      " universal_sentence_encoder (Ke  (None, 512)         256797824   ['token_inputs[0][0]']           \n",
      " rasLayer)                                                                                        \n",
      "                                                                                                  \n",
      " char_embed (Embedding)         (None, 290, 25)      1750        ['char_vectorizer[2][0]']        \n",
      "                                                                                                  \n",
      " dense_7 (Dense)                (None, 128)          65664       ['universal_sentence_encoder[2][0\n",
      "                                                                 ]']                              \n",
      "                                                                                                  \n",
      " bidirectional_1 (Bidirectional  (None, 48)          9600        ['char_embed[2][0]']             \n",
      " )                                                                                                \n",
      "                                                                                                  \n",
      " token_char_hybrid_embedding (C  (None, 176)         0           ['dense_7[0][0]',                \n",
      " oncatenate)                                                      'bidirectional_1[0][0]']        \n",
      "                                                                                                  \n",
      " line_number_inputs (InputLayer  [(None, 15)]        0           []                               \n",
      " )                                                                                                \n",
      "                                                                                                  \n",
      " total_lines_inputs (InputLayer  [(None, 20)]        0           []                               \n",
      " )                                                                                                \n",
      "                                                                                                  \n",
      " dense_10 (Dense)               (None, 256)          45312       ['token_char_hybrid_embedding[0][\n",
      "                                                                 0]']                             \n",
      "                                                                                                  \n",
      " dense_8 (Dense)                (None, 32)           512         ['line_number_inputs[0][0]']     \n",
      "                                                                                                  \n",
      " dense_9 (Dense)                (None, 32)           672         ['total_lines_inputs[0][0]']     \n",
      "                                                                                                  \n",
      " dropout_2 (Dropout)            (None, 256)          0           ['dense_10[0][0]']               \n",
      "                                                                                                  \n",
      " token_char_positional_embeddin  (None, 320)         0           ['dense_8[0][0]',                \n",
      " g (Concatenate)                                                  'dense_9[0][0]',                \n",
      "                                                                  'dropout_2[0][0]']              \n",
      "                                                                                                  \n",
      " output_layer (Dense)           (None, 5)            1605        ['token_char_positional_embedding\n",
      "                                                                 [0][0]']                         \n",
      "                                                                                                  \n",
      "==================================================================================================\n",
      "Total params: 256,922,939\n",
      "Trainable params: 125,115\n",
      "Non-trainable params: 256,797,824\n",
      "__________________________________________________________________________________________________\n"
     ]
    }
   ],
   "source": [
    "model_5.summary()"
   ]
  },
  {
   "cell_type": "code",
   "execution_count": 133,
   "metadata": {
    "executionInfo": {
     "elapsed": 507,
     "status": "ok",
     "timestamp": 1700372510746,
     "user": {
      "displayName": "yihim",
      "userId": "08839180769355818284"
     },
     "user_tz": -480
    },
    "id": "E7qfO8sJ9ZxM"
   },
   "outputs": [],
   "source": [
    "# Compile token, char and positional model\n",
    "model_5.compile(loss=tf.keras.losses.CategoricalCrossentropy(label_smoothing=0.2), # helps to prevent overfitting\n",
    "                optimizer=tf.keras.optimizers.Adam(),\n",
    "                metrics=[\"accuracy\"])"
   ]
  },
  {
   "cell_type": "code",
   "execution_count": 134,
   "metadata": {
    "executionInfo": {
     "elapsed": 1405,
     "status": "ok",
     "timestamp": 1700367540781,
     "user": {
      "displayName": "yihim",
      "userId": "08839180769355818284"
     },
     "user_tz": -480
    },
    "id": "KYAiet8V_jK9"
   },
   "outputs": [],
   "source": [
    "train_ln_tl_token_char_data = tf.data.Dataset.from_tensor_slices((train_line_numbers_one_hot,\n",
    "                                                                  train_total_lines_one_hot,\n",
    "                                                                  train_sentences,\n",
    "                                                                  train_chars))\n",
    "\n",
    "train_ln_tl_token_char_labels = tf.data.Dataset.from_tensor_slices((train_labels_one_hot))\n",
    "train_ln_tl_token_char_dataset = tf.data.Dataset.zip((train_ln_tl_token_char_data, train_ln_tl_token_char_labels))\n",
    "train_ln_tl_token_char_dataset = train_ln_tl_token_char_dataset.batch(32).prefetch(tf.data.AUTOTUNE)\n",
    "\n",
    "val_ln_tl_token_char_data = tf.data.Dataset.from_tensor_slices((val_line_numbers_one_hot,\n",
    "                                                                  val_total_lines_one_hot,\n",
    "                                                                  val_sentences,\n",
    "                                                                  val_chars))\n",
    "\n",
    "val_ln_tl_token_char_labels = tf.data.Dataset.from_tensor_slices((val_labels_one_hot))\n",
    "val_ln_tl_token_char_dataset = tf.data.Dataset.zip((val_ln_tl_token_char_data, val_ln_tl_token_char_labels))\n",
    "val_ln_tl_token_char_dataset = val_ln_tl_token_char_dataset.batch(32).prefetch(tf.data.AUTOTUNE)\n",
    "\n",
    "test_ln_tl_token_char_data = tf.data.Dataset.from_tensor_slices((test_line_numbers_one_hot,\n",
    "                                                                  test_total_lines_one_hot,\n",
    "                                                                  test_sentences,\n",
    "                                                                  test_chars))\n",
    "\n",
    "test_ln_tl_token_char_labels = tf.data.Dataset.from_tensor_slices((test_labels_one_hot))\n",
    "test_ln_tl_token_char_dataset = tf.data.Dataset.zip((test_ln_tl_token_char_data, test_ln_tl_token_char_labels))\n",
    "test_ln_tl_token_char_dataset = test_ln_tl_token_char_dataset.batch(32).prefetch(tf.data.AUTOTUNE)"
   ]
  },
  {
   "cell_type": "code",
   "execution_count": 135,
   "metadata": {
    "colab": {
     "base_uri": "https://localhost:8080/"
    },
    "executionInfo": {
     "elapsed": 5,
     "status": "ok",
     "timestamp": 1700367540781,
     "user": {
      "displayName": "yihim",
      "userId": "08839180769355818284"
     },
     "user_tz": -480
    },
    "id": "JsYGFUhlBiQ0",
    "outputId": "94d7fc1c-8389-476e-b54b-faa5f44b3319"
   },
   "outputs": [
    {
     "data": {
      "text/plain": [
       "(<PrefetchDataset element_spec=((TensorSpec(shape=(None, 15), dtype=tf.float32, name=None), TensorSpec(shape=(None, 20), dtype=tf.float32, name=None), TensorSpec(shape=(None,), dtype=tf.string, name=None), TensorSpec(shape=(None,), dtype=tf.string, name=None)), TensorSpec(shape=(None, 5), dtype=tf.float64, name=None))>,\n",
       " <PrefetchDataset element_spec=((TensorSpec(shape=(None, 15), dtype=tf.float32, name=None), TensorSpec(shape=(None, 20), dtype=tf.float32, name=None), TensorSpec(shape=(None,), dtype=tf.string, name=None), TensorSpec(shape=(None,), dtype=tf.string, name=None)), TensorSpec(shape=(None, 5), dtype=tf.float64, name=None))>,\n",
       " <PrefetchDataset element_spec=((TensorSpec(shape=(None, 15), dtype=tf.float32, name=None), TensorSpec(shape=(None, 20), dtype=tf.float32, name=None), TensorSpec(shape=(None,), dtype=tf.string, name=None), TensorSpec(shape=(None,), dtype=tf.string, name=None)), TensorSpec(shape=(None, 5), dtype=tf.float64, name=None))>)"
      ]
     },
     "execution_count": 135,
     "metadata": {},
     "output_type": "execute_result"
    }
   ],
   "source": [
    "train_ln_tl_token_char_dataset, val_ln_tl_token_char_dataset, test_ln_tl_token_char_dataset"
   ]
  },
  {
   "cell_type": "code",
   "execution_count": 137,
   "metadata": {
    "executionInfo": {
     "elapsed": 591,
     "status": "ok",
     "timestamp": 1700372515524,
     "user": {
      "displayName": "yihim",
      "userId": "08839180769355818284"
     },
     "user_tz": -480
    },
    "id": "ZxYPsq-HxNlX"
   },
   "outputs": [],
   "source": [
    "# Callbacks\n",
    "import datetime\n",
    "\n",
    "SAVE_LOGS_DIR = \"skimlit_20k_model_logs\"\n",
    "CHECKPOINT_DIR = \"skimlit_20k_model_checkpoints/cp.ckpt\"\n",
    "\n",
    "tensorboard_callback = tf.keras.callbacks.TensorBoard(log_dir=SAVE_LOGS_DIR + \"/\" + 'skimlit_20k_tribrid_model/' + datetime.datetime.now().strftime(\"%Y%m%d-%H%M%S\"))\n",
    "\n",
    "checkpoint_callback = tf.keras.callbacks.ModelCheckpoint(filepath=CHECKPOINT_DIR,\n",
    "                                                         monitor=\"val_loss\",\n",
    "                                                         save_best_only=True,\n",
    "                                                         save_weights_only=True)\n",
    "\n",
    "early_stopping_callback = tf.keras.callbacks.EarlyStopping(monitor=\"val_loss\",\n",
    "                                                           patience=5)\n",
    "\n",
    "reducelr_callback = tf.keras.callbacks.ReduceLROnPlateau(monitor=\"val_loss\",\n",
    "                                                         patience=3,\n",
    "                                                         min_lr=1e-6,\n",
    "                                                         factor=0.2)"
   ]
  },
  {
   "cell_type": "code",
   "execution_count": 139,
   "metadata": {
    "colab": {
     "base_uri": "https://localhost:8080/"
    },
    "executionInfo": {
     "elapsed": 5259865,
     "status": "ok",
     "timestamp": 1700377777644,
     "user": {
      "displayName": "yihim",
      "userId": "08839180769355818284"
     },
     "user_tz": -480
    },
    "id": "uk5SSLHkCN1q",
    "outputId": "195b7179-733e-41b9-9925-f06092a5d24f"
   },
   "outputs": [
    {
     "name": "stdout",
     "output_type": "stream",
     "text": [
      "Epoch 1/100\n",
      "5627/5627 [==============================] - 677s 119ms/step - loss: 0.9520 - accuracy: 0.8243 - val_loss: 0.9088 - val_accuracy: 0.8483 - lr: 0.0010\n",
      "Epoch 2/100\n",
      "5627/5627 [==============================] - 652s 116ms/step - loss: 0.9083 - accuracy: 0.8546 - val_loss: 0.9022 - val_accuracy: 0.8523 - lr: 0.0010\n",
      "Epoch 3/100\n",
      "5627/5627 [==============================] - 689s 122ms/step - loss: 0.8961 - accuracy: 0.8634 - val_loss: 0.8985 - val_accuracy: 0.8527 - lr: 0.0010\n",
      "Epoch 4/100\n",
      "5627/5627 [==============================] - 646s 115ms/step - loss: 0.8873 - accuracy: 0.8698 - val_loss: 0.8967 - val_accuracy: 0.8563 - lr: 0.0010\n",
      "Epoch 5/100\n",
      "5627/5627 [==============================] - 584s 104ms/step - loss: 0.8807 - accuracy: 0.8753 - val_loss: 0.8953 - val_accuracy: 0.8564 - lr: 0.0010\n",
      "Epoch 6/100\n",
      "5627/5627 [==============================] - 571s 101ms/step - loss: 0.8748 - accuracy: 0.8791 - val_loss: 0.8976 - val_accuracy: 0.8552 - lr: 0.0010\n",
      "Epoch 7/100\n",
      "5627/5627 [==============================] - 624s 111ms/step - loss: 0.8696 - accuracy: 0.8833 - val_loss: 0.8991 - val_accuracy: 0.8551 - lr: 0.0010\n",
      "Epoch 8/100\n",
      "5627/5627 [==============================] - 617s 110ms/step - loss: 0.8654 - accuracy: 0.8864 - val_loss: 0.8971 - val_accuracy: 0.8564 - lr: 0.0010\n",
      "Epoch 9/100\n",
      "5627/5627 [==============================] - 647s 115ms/step - loss: 0.8493 - accuracy: 0.8969 - val_loss: 0.8917 - val_accuracy: 0.8606 - lr: 2.0000e-04\n",
      "Epoch 10/100\n",
      "5627/5627 [==============================] - 612s 109ms/step - loss: 0.8448 - accuracy: 0.9007 - val_loss: 0.8923 - val_accuracy: 0.8603 - lr: 2.0000e-04\n",
      "Epoch 11/100\n",
      "5627/5627 [==============================] - 566s 101ms/step - loss: 0.8428 - accuracy: 0.9025 - val_loss: 0.8934 - val_accuracy: 0.8596 - lr: 2.0000e-04\n",
      "Epoch 12/100\n",
      "5627/5627 [==============================] - 591s 105ms/step - loss: 0.8408 - accuracy: 0.9034 - val_loss: 0.8943 - val_accuracy: 0.8583 - lr: 2.0000e-04\n",
      "Epoch 13/100\n",
      "5627/5627 [==============================] - 604s 107ms/step - loss: 0.8365 - accuracy: 0.9062 - val_loss: 0.8934 - val_accuracy: 0.8593 - lr: 4.0000e-05\n",
      "Epoch 14/100\n",
      "5627/5627 [==============================] - 569s 101ms/step - loss: 0.8360 - accuracy: 0.9068 - val_loss: 0.8936 - val_accuracy: 0.8595 - lr: 4.0000e-05\n"
     ]
    }
   ],
   "source": [
    "model_5_history = model_5.fit(train_ln_tl_token_char_dataset,\n",
    "                              validation_data=val_ln_tl_token_char_dataset,\n",
    "                              steps_per_epoch=len(train_ln_tl_token_char_dataset),\n",
    "                              validation_steps=len(val_ln_tl_token_char_dataset),\n",
    "                              epochs=100,\n",
    "                              callbacks=[tensorboard_callback,\n",
    "                                         checkpoint_callback,\n",
    "                                         early_stopping_callback,\n",
    "                                         reducelr_callback])"
   ]
  },
  {
   "cell_type": "code",
   "execution_count": 140,
   "metadata": {
    "colab": {
     "base_uri": "https://localhost:8080/"
    },
    "executionInfo": {
     "elapsed": 27788,
     "status": "ok",
     "timestamp": 1700377805419,
     "user": {
      "displayName": "yihim",
      "userId": "08839180769355818284"
     },
     "user_tz": -480
    },
    "id": "y8MfBT-qDFME",
    "outputId": "6346fcf7-9d57-4658-bf8e-a36358d40012"
   },
   "outputs": [
    {
     "name": "stdout",
     "output_type": "stream",
     "text": [
      "945/945 [==============================] - 40s 42ms/step - loss: 0.8936 - accuracy: 0.8595\n"
     ]
    },
    {
     "data": {
      "text/plain": [
       "[0.8936126232147217, 0.8594928979873657]"
      ]
     },
     "execution_count": 140,
     "metadata": {},
     "output_type": "execute_result"
    }
   ],
   "source": [
    "model_5.evaluate(val_ln_tl_token_char_dataset)"
   ]
  },
  {
   "cell_type": "code",
   "execution_count": 141,
   "metadata": {
    "colab": {
     "base_uri": "https://localhost:8080/"
    },
    "executionInfo": {
     "elapsed": 56117,
     "status": "ok",
     "timestamp": 1700377861533,
     "user": {
      "displayName": "yihim",
      "userId": "08839180769355818284"
     },
     "user_tz": -480
    },
    "id": "xjk8XaAZCwLd",
    "outputId": "7a5f10c4-094c-4f39-9598-d9116e2b3908"
   },
   "outputs": [
    {
     "data": {
      "text/plain": [
       "{'Accuracy': 0.8594929167218324,\n",
       " 'Precision': 0.8599206877188834,\n",
       " 'Recall': 0.8594929167218324,\n",
       " 'f1-score': 0.8572750274744105}"
      ]
     },
     "execution_count": 141,
     "metadata": {},
     "output_type": "execute_result"
    }
   ],
   "source": [
    "model_5_pred_probs = model_5.predict(val_ln_tl_token_char_dataset)\n",
    "model_5_preds = tf.argmax(model_5_pred_probs, axis=1)\n",
    "model_5_results = model_evaluation_metrics(val_labels_encoded, model_5_preds)\n",
    "model_5_results"
   ]
  },
  {
   "cell_type": "code",
   "execution_count": 142,
   "metadata": {
    "colab": {
     "base_uri": "https://localhost:8080/",
     "height": 238
    },
    "executionInfo": {
     "elapsed": 13,
     "status": "ok",
     "timestamp": 1700377861533,
     "user": {
      "displayName": "yihim",
      "userId": "08839180769355818284"
     },
     "user_tz": -480
    },
    "id": "V0046bJcDOY_",
    "outputId": "d5bec6aa-ad75-4c91-9874-03daa768d4b6"
   },
   "outputs": [
    {
     "data": {
      "text/html": [
       "<div>\n",
       "<style scoped>\n",
       "    .dataframe tbody tr th:only-of-type {\n",
       "        vertical-align: middle;\n",
       "    }\n",
       "\n",
       "    .dataframe tbody tr th {\n",
       "        vertical-align: top;\n",
       "    }\n",
       "\n",
       "    .dataframe thead th {\n",
       "        text-align: right;\n",
       "    }\n",
       "</style>\n",
       "<table border=\"1\" class=\"dataframe\">\n",
       "  <thead>\n",
       "    <tr style=\"text-align: right;\">\n",
       "      <th></th>\n",
       "      <th>Accuracy</th>\n",
       "      <th>Precision</th>\n",
       "      <th>Recall</th>\n",
       "      <th>f1-score</th>\n",
       "    </tr>\n",
       "  </thead>\n",
       "  <tbody>\n",
       "    <tr>\n",
       "      <th>model_0</th>\n",
       "      <td>0.721832</td>\n",
       "      <td>0.718647</td>\n",
       "      <td>0.721832</td>\n",
       "      <td>0.698925</td>\n",
       "    </tr>\n",
       "    <tr>\n",
       "      <th>model_1</th>\n",
       "      <td>0.788528</td>\n",
       "      <td>0.785934</td>\n",
       "      <td>0.788528</td>\n",
       "      <td>0.786467</td>\n",
       "    </tr>\n",
       "    <tr>\n",
       "      <th>model_2</th>\n",
       "      <td>0.713889</td>\n",
       "      <td>0.713708</td>\n",
       "      <td>0.713889</td>\n",
       "      <td>0.710812</td>\n",
       "    </tr>\n",
       "    <tr>\n",
       "      <th>model_3</th>\n",
       "      <td>0.662320</td>\n",
       "      <td>0.657786</td>\n",
       "      <td>0.662320</td>\n",
       "      <td>0.654261</td>\n",
       "    </tr>\n",
       "    <tr>\n",
       "      <th>model_4</th>\n",
       "      <td>0.737422</td>\n",
       "      <td>0.737499</td>\n",
       "      <td>0.737422</td>\n",
       "      <td>0.735241</td>\n",
       "    </tr>\n",
       "    <tr>\n",
       "      <th>model_5</th>\n",
       "      <td>0.859493</td>\n",
       "      <td>0.859921</td>\n",
       "      <td>0.859493</td>\n",
       "      <td>0.857275</td>\n",
       "    </tr>\n",
       "  </tbody>\n",
       "</table>\n",
       "</div>"
      ],
      "text/plain": [
       "         Accuracy  Precision    Recall  f1-score\n",
       "model_0  0.721832   0.718647  0.721832  0.698925\n",
       "model_1  0.788528   0.785934  0.788528  0.786467\n",
       "model_2  0.713889   0.713708  0.713889  0.710812\n",
       "model_3  0.662320   0.657786  0.662320  0.654261\n",
       "model_4  0.737422   0.737499  0.737422  0.735241\n",
       "model_5  0.859493   0.859921  0.859493  0.857275"
      ]
     },
     "execution_count": 142,
     "metadata": {},
     "output_type": "execute_result"
    }
   ],
   "source": [
    "model_df = pd.DataFrame({\"model_0\": baseline_results,\n",
    "                         \"model_1\": model_1_results,\n",
    "                         \"model_2\": model_2_results,\n",
    "                         \"model_3\": model_3_results,\n",
    "                         \"model_4\": model_4_results,\n",
    "                         \"model_5\": model_5_results})\n",
    "model_df = model_df.T\n",
    "model_df"
   ]
  },
  {
   "cell_type": "code",
   "execution_count": 143,
   "metadata": {
    "colab": {
     "base_uri": "https://localhost:8080/",
     "height": 661
    },
    "executionInfo": {
     "elapsed": 13,
     "status": "ok",
     "timestamp": 1700377861534,
     "user": {
      "displayName": "yihim",
      "userId": "08839180769355818284"
     },
     "user_tz": -480
    },
    "id": "5WOWnCXqD-ZY",
    "outputId": "c851a8b9-86c7-467a-b6c7-9e7d76053927"
   },
   "outputs": [
    {
     "data": {
      "text/plain": [
       "<matplotlib.legend.Legend at 0x1ef766824f0>"
      ]
     },
     "execution_count": 143,
     "metadata": {},
     "output_type": "execute_result"
    },
    {
     "data": {
      "image/png": "[encoded data removed]",
      "text/plain": [
       "<Figure size 1000x700 with 1 Axes>"
      ]
     },
     "metadata": {},
     "output_type": "display_data"
    }
   ],
   "source": [
    "model_df.plot(kind=\"bar\", figsize=(10, 7)).legend(bbox_to_anchor=(1.0, 1.0))"
   ]
  },
  {
   "cell_type": "code",
   "execution_count": 144,
   "metadata": {
    "colab": {
     "base_uri": "https://localhost:8080/",
     "height": 661
    },
    "executionInfo": {
     "elapsed": 809,
     "status": "ok",
     "timestamp": 1700377862333,
     "user": {
      "displayName": "yihim",
      "userId": "08839180769355818284"
     },
     "user_tz": -480
    },
    "id": "8MJXcGaJITGq",
    "outputId": "c2afb813-0c6b-4e85-c747-e3ff233ae424"
   },
   "outputs": [
    {
     "data": {
      "text/plain": [
       "<matplotlib.legend.Legend at 0x1efbc8e62e0>"
      ]
     },
     "execution_count": 144,
     "metadata": {},
     "output_type": "execute_result"
    },
    {
     "data": {
      "image/png": "[encoded data removed]",
      "text/plain": [
       "<Figure size 1000x700 with 1 Axes>"
      ]
     },
     "metadata": {},
     "output_type": "display_data"
    }
   ],
   "source": [
    "model_df.sort_values(\"f1-score\", ascending=False)[\"f1-score\"].plot(kind=\"bar\", figsize=(10, 7)).legend(bbox_to_anchor=(1.0, 1.0))"
   ]
  },
  {
   "cell_type": "code",
   "execution_count": 146,
   "metadata": {
    "colab": {
     "base_uri": "https://localhost:8080/"
    },
    "executionInfo": {
     "elapsed": 44233,
     "status": "ok",
     "timestamp": 1700377906560,
     "user": {
      "displayName": "yihim",
      "userId": "08839180769355818284"
     },
     "user_tz": -480
    },
    "id": "k3ay0XC8InxU",
    "outputId": "a09c8e03-99f3-40c8-c17c-b9ed48b3335e"
   },
   "outputs": [
    {
     "name": "stderr",
     "output_type": "stream",
     "text": [
      "WARNING:absl:Found untraced functions such as lstm_cell_4_layer_call_fn, lstm_cell_4_layer_call_and_return_conditional_losses, lstm_cell_5_layer_call_fn, lstm_cell_5_layer_call_and_return_conditional_losses while saving (showing 4 of 4). These functions will not be directly callable after loading.\n"
     ]
    },
    {
     "name": "stdout",
     "output_type": "stream",
     "text": [
      "INFO:tensorflow:Assets written to: skimlit_20k_full_tribrid_model\\assets\n"
     ]
    },
    {
     "name": "stderr",
     "output_type": "stream",
     "text": [
      "INFO:tensorflow:Assets written to: skimlit_20k_full_tribrid_model\\assets\n",
      "WARNING:absl:<keras.layers.recurrent.LSTMCell object at 0x000001EEE918FE20> has the same name 'LSTMCell' as a built-in Keras object. Consider renaming <class 'keras.layers.recurrent.LSTMCell'> to avoid naming conflicts when loading with `tf.keras.models.load_model`. If renaming is not possible, pass the object in the `custom_objects` parameter of the load function.\n",
      "WARNING:absl:<keras.layers.recurrent.LSTMCell object at 0x000001EEE91AF160> has the same name 'LSTMCell' as a built-in Keras object. Consider renaming <class 'keras.layers.recurrent.LSTMCell'> to avoid naming conflicts when loading with `tf.keras.models.load_model`. If renaming is not possible, pass the object in the `custom_objects` parameter of the load function.\n"
     ]
    }
   ],
   "source": [
    "model_5.save(\"skimlit_20k_full_tribrid_model\")"
   ]
  },
  {
   "cell_type": "code",
   "execution_count": 147,
   "metadata": {
    "executionInfo": {
     "elapsed": 25567,
     "status": "ok",
     "timestamp": 1700377932115,
     "user": {
      "displayName": "yihim",
      "userId": "08839180769355818284"
     },
     "user_tz": -480
    },
    "id": "WVVLFNBbJm9Y"
   },
   "outputs": [],
   "source": [
    "loaded_model = tf.keras.models.load_model(\"skimlit_20k_full_tribrid_model\")"
   ]
  },
  {
   "cell_type": "code",
   "execution_count": 148,
   "metadata": {
    "colab": {
     "base_uri": "https://localhost:8080/"
    },
    "executionInfo": {
     "elapsed": 25296,
     "status": "ok",
     "timestamp": 1700377957400,
     "user": {
      "displayName": "yihim",
      "userId": "08839180769355818284"
     },
     "user_tz": -480
    },
    "id": "xMmODCgSJ7WU",
    "outputId": "18e949d3-d63c-4e06-c38b-c34e1fa87465"
   },
   "outputs": [
    {
     "data": {
      "text/plain": [
       "{'Accuracy': 0.8594929167218324,\n",
       " 'Precision': 0.8599206877188834,\n",
       " 'Recall': 0.8594929167218324,\n",
       " 'f1-score': 0.8572750274744105}"
      ]
     },
     "execution_count": 148,
     "metadata": {},
     "output_type": "execute_result"
    }
   ],
   "source": [
    "loaded_model_pred_probs = loaded_model.predict(val_ln_tl_token_char_dataset)\n",
    "loaded_model_preds = tf.argmax(loaded_model_pred_probs, axis=1)\n",
    "loaded_model_results = model_evaluation_metrics(val_labels_encoded, loaded_model_preds)\n",
    "loaded_model_results"
   ]
  },
  {
   "cell_type": "code",
   "execution_count": 149,
   "metadata": {
    "colab": {
     "base_uri": "https://localhost:8080/"
    },
    "executionInfo": {
     "elapsed": 23,
     "status": "ok",
     "timestamp": 1700377957400,
     "user": {
      "displayName": "yihim",
      "userId": "08839180769355818284"
     },
     "user_tz": -480
    },
    "id": "7dfvAlFqKkDD",
    "outputId": "db3c0c8b-366f-4b99-efe8-eb19815237d3"
   },
   "outputs": [
    {
     "data": {
      "text/plain": [
       "{'Accuracy': 0.8594929167218324,\n",
       " 'Precision': 0.8599206877188834,\n",
       " 'Recall': 0.8594929167218324,\n",
       " 'f1-score': 0.8572750274744105}"
      ]
     },
     "execution_count": 149,
     "metadata": {},
     "output_type": "execute_result"
    }
   ],
   "source": [
    "model_5_results"
   ]
  },
  {
   "cell_type": "code",
   "execution_count": 150,
   "metadata": {
    "executionInfo": {
     "elapsed": 21,
     "status": "ok",
     "timestamp": 1700377957400,
     "user": {
      "displayName": "yihim",
      "userId": "08839180769355818284"
     },
     "user_tz": -480
    },
    "id": "12qX1YuoKqVq"
   },
   "outputs": [],
   "source": [
    "assert model_5_results == loaded_model_results"
   ]
  },
  {
   "cell_type": "code",
   "execution_count": 151,
   "metadata": {
    "colab": {
     "base_uri": "https://localhost:8080/"
    },
    "executionInfo": {
     "elapsed": 21,
     "status": "ok",
     "timestamp": 1700377957400,
     "user": {
      "displayName": "yihim",
      "userId": "08839180769355818284"
     },
     "user_tz": -480
    },
    "id": "49DV4ZLoK3eF",
    "outputId": "72d474c2-5b3e-43f3-ccc0-707587faa29a"
   },
   "outputs": [
    {
     "name": "stdout",
     "output_type": "stream",
     "text": [
      "Model: \"model_10\"\n",
      "__________________________________________________________________________________________________\n",
      " Layer (type)                   Output Shape         Param #     Connected to                     \n",
      "==================================================================================================\n",
      " char_inputs (InputLayer)       [(None, 1)]          0           []                               \n",
      "                                                                                                  \n",
      " token_inputs (InputLayer)      [(None,)]            0           []                               \n",
      "                                                                                                  \n",
      " char_vectorizer (TextVectoriza  (None, 290)         0           ['char_inputs[0][0]']            \n",
      " tion)                                                                                            \n",
      "                                                                                                  \n",
      " universal_sentence_encoder (Ke  (None, 512)         256797824   ['token_inputs[0][0]']           \n",
      " rasLayer)                                                                                        \n",
      "                                                                                                  \n",
      " char_embed (Embedding)         (None, 290, 25)      1750        ['char_vectorizer[0][0]']        \n",
      "                                                                                                  \n",
      " dense_7 (Dense)                (None, 128)          65664       ['universal_sentence_encoder[0][0\n",
      "                                                                 ]']                              \n",
      "                                                                                                  \n",
      " bidirectional_1 (Bidirectional  (None, 48)          9600        ['char_embed[0][0]']             \n",
      " )                                                                                                \n",
      "                                                                                                  \n",
      " token_char_hybrid_embedding (C  (None, 176)         0           ['dense_7[0][0]',                \n",
      " oncatenate)                                                      'bidirectional_1[0][0]']        \n",
      "                                                                                                  \n",
      " line_number_inputs (InputLayer  [(None, 15)]        0           []                               \n",
      " )                                                                                                \n",
      "                                                                                                  \n",
      " total_lines_inputs (InputLayer  [(None, 20)]        0           []                               \n",
      " )                                                                                                \n",
      "                                                                                                  \n",
      " dense_10 (Dense)               (None, 256)          45312       ['token_char_hybrid_embedding[0][\n",
      "                                                                 0]']                             \n",
      "                                                                                                  \n",
      " dense_8 (Dense)                (None, 32)           512         ['line_number_inputs[0][0]']     \n",
      "                                                                                                  \n",
      " dense_9 (Dense)                (None, 32)           672         ['total_lines_inputs[0][0]']     \n",
      "                                                                                                  \n",
      " dropout_2 (Dropout)            (None, 256)          0           ['dense_10[0][0]']               \n",
      "                                                                                                  \n",
      " token_char_positional_embeddin  (None, 320)         0           ['dense_8[0][0]',                \n",
      " g (Concatenate)                                                  'dense_9[0][0]',                \n",
      "                                                                  'dropout_2[0][0]']              \n",
      "                                                                                                  \n",
      " output_layer (Dense)           (None, 5)            1605        ['token_char_positional_embedding\n",
      "                                                                 [0][0]']                         \n",
      "                                                                                                  \n",
      "==================================================================================================\n",
      "Total params: 256,922,939\n",
      "Trainable params: 125,115\n",
      "Non-trainable params: 256,797,824\n",
      "__________________________________________________________________________________________________\n"
     ]
    }
   ],
   "source": [
    "loaded_model.summary()"
   ]
  },
  {
   "cell_type": "code",
   "execution_count": 152,
   "metadata": {
    "colab": {
     "base_uri": "https://localhost:8080/"
    },
    "executionInfo": {
     "elapsed": 20574,
     "status": "ok",
     "timestamp": 1700377977961,
     "user": {
      "displayName": "yihim",
      "userId": "08839180769355818284"
     },
     "user_tz": -480
    },
    "id": "kWJt9XH_K9bZ",
    "outputId": "b170ddf4-5ffc-4f46-c537-817d9514a3f4"
   },
   "outputs": [
    {
     "data": {
      "text/plain": [
       "{'Accuracy': 0.8542890326862452,\n",
       " 'Precision': 0.8540649643268157,\n",
       " 'Recall': 0.8542890326862452,\n",
       " 'f1-score': 0.8520345525810824}"
      ]
     },
     "execution_count": 152,
     "metadata": {},
     "output_type": "execute_result"
    }
   ],
   "source": [
    "model_5_test_pred_probs = model_5.predict(test_ln_tl_token_char_dataset)\n",
    "model_5_test_preds = tf.argmax(model_5_test_pred_probs, axis=1)\n",
    "model_5_test_results = model_evaluation_metrics(test_labels_encoded, model_5_test_preds)\n",
    "model_5_test_results"
   ]
  },
  {
   "cell_type": "code",
   "execution_count": 153,
   "metadata": {
    "executionInfo": {
     "elapsed": 13429,
     "status": "ok",
     "timestamp": 1700377991379,
     "user": {
      "displayName": "yihim",
      "userId": "08839180769355818284"
     },
     "user_tz": -480
    },
    "id": "NhWV0KCLM6Vx"
   },
   "outputs": [],
   "source": [
    "# Finding the most wrong predictions\n",
    "test_results_df = pd.DataFrame({\"text\": test_sentences,\n",
    "                                \"y_true\": [class_names[i] for i in test_labels_encoded],\n",
    "                                \"y_preds\": [class_names[i] for i in model_5_test_preds],\n",
    "                                \"pred_conf\": tf.reduce_max(model_5_test_pred_probs).numpy()})"
   ]
  },
  {
   "cell_type": "code",
   "execution_count": 154,
   "metadata": {
    "colab": {
     "base_uri": "https://localhost:8080/",
     "height": 363
    },
    "executionInfo": {
     "elapsed": 22,
     "status": "ok",
     "timestamp": 1700377991379,
     "user": {
      "displayName": "yihim",
      "userId": "08839180769355818284"
     },
     "user_tz": -480
    },
    "id": "CFBeHvmgOlhv",
    "outputId": "1c359a26-ff24-4cfd-a8c9-38a6c5d7c786"
   },
   "outputs": [
    {
     "data": {
      "text/html": [
       "<div>\n",
       "<style scoped>\n",
       "    .dataframe tbody tr th:only-of-type {\n",
       "        vertical-align: middle;\n",
       "    }\n",
       "\n",
       "    .dataframe tbody tr th {\n",
       "        vertical-align: top;\n",
       "    }\n",
       "\n",
       "    .dataframe thead th {\n",
       "        text-align: right;\n",
       "    }\n",
       "</style>\n",
       "<table border=\"1\" class=\"dataframe\">\n",
       "  <thead>\n",
       "    <tr style=\"text-align: right;\">\n",
       "      <th></th>\n",
       "      <th>text</th>\n",
       "      <th>y_true</th>\n",
       "      <th>y_preds</th>\n",
       "      <th>pred_conf</th>\n",
       "    </tr>\n",
       "  </thead>\n",
       "  <tbody>\n",
       "    <tr>\n",
       "      <th>0</th>\n",
       "      <td>this study analyzed liver function abnormaliti...</td>\n",
       "      <td>BACKGROUND</td>\n",
       "      <td>BACKGROUND</td>\n",
       "      <td>0.992835</td>\n",
       "    </tr>\n",
       "    <tr>\n",
       "      <th>1</th>\n",
       "      <td>a post hoc analysis was conducted with the use...</td>\n",
       "      <td>RESULTS</td>\n",
       "      <td>METHODS</td>\n",
       "      <td>0.992835</td>\n",
       "    </tr>\n",
       "    <tr>\n",
       "      <th>2</th>\n",
       "      <td>liver function tests ( lfts ) were measured at...</td>\n",
       "      <td>RESULTS</td>\n",
       "      <td>METHODS</td>\n",
       "      <td>0.992835</td>\n",
       "    </tr>\n",
       "    <tr>\n",
       "      <th>3</th>\n",
       "      <td>survival analyses were used to assess the asso...</td>\n",
       "      <td>RESULTS</td>\n",
       "      <td>METHODS</td>\n",
       "      <td>0.992835</td>\n",
       "    </tr>\n",
       "    <tr>\n",
       "      <th>4</th>\n",
       "      <td>the percentage of patients with abnormal lfts ...</td>\n",
       "      <td>RESULTS</td>\n",
       "      <td>RESULTS</td>\n",
       "      <td>0.992835</td>\n",
       "    </tr>\n",
       "    <tr>\n",
       "      <th>5</th>\n",
       "      <td>when mean hemodynamic profiles were compared i...</td>\n",
       "      <td>RESULTS</td>\n",
       "      <td>RESULTS</td>\n",
       "      <td>0.992835</td>\n",
       "    </tr>\n",
       "    <tr>\n",
       "      <th>6</th>\n",
       "      <td>multivariable analyses revealed that patients ...</td>\n",
       "      <td>RESULTS</td>\n",
       "      <td>RESULTS</td>\n",
       "      <td>0.992835</td>\n",
       "    </tr>\n",
       "    <tr>\n",
       "      <th>7</th>\n",
       "      <td>abnormal lfts are common in the adhf populatio...</td>\n",
       "      <td>CONCLUSIONS</td>\n",
       "      <td>CONCLUSIONS</td>\n",
       "      <td>0.992835</td>\n",
       "    </tr>\n",
       "    <tr>\n",
       "      <th>8</th>\n",
       "      <td>elevated meld-xi scores are associated with po...</td>\n",
       "      <td>CONCLUSIONS</td>\n",
       "      <td>CONCLUSIONS</td>\n",
       "      <td>0.992835</td>\n",
       "    </tr>\n",
       "    <tr>\n",
       "      <th>9</th>\n",
       "      <td>minimally invasive endovascular aneurysm repai...</td>\n",
       "      <td>BACKGROUND</td>\n",
       "      <td>BACKGROUND</td>\n",
       "      <td>0.992835</td>\n",
       "    </tr>\n",
       "  </tbody>\n",
       "</table>\n",
       "</div>"
      ],
      "text/plain": [
       "                                                text       y_true  \\\n",
       "0  this study analyzed liver function abnormaliti...   BACKGROUND   \n",
       "1  a post hoc analysis was conducted with the use...      RESULTS   \n",
       "2  liver function tests ( lfts ) were measured at...      RESULTS   \n",
       "3  survival analyses were used to assess the asso...      RESULTS   \n",
       "4  the percentage of patients with abnormal lfts ...      RESULTS   \n",
       "5  when mean hemodynamic profiles were compared i...      RESULTS   \n",
       "6  multivariable analyses revealed that patients ...      RESULTS   \n",
       "7  abnormal lfts are common in the adhf populatio...  CONCLUSIONS   \n",
       "8  elevated meld-xi scores are associated with po...  CONCLUSIONS   \n",
       "9  minimally invasive endovascular aneurysm repai...   BACKGROUND   \n",
       "\n",
       "       y_preds  pred_conf  \n",
       "0   BACKGROUND   0.992835  \n",
       "1      METHODS   0.992835  \n",
       "2      METHODS   0.992835  \n",
       "3      METHODS   0.992835  \n",
       "4      RESULTS   0.992835  \n",
       "5      RESULTS   0.992835  \n",
       "6      RESULTS   0.992835  \n",
       "7  CONCLUSIONS   0.992835  \n",
       "8  CONCLUSIONS   0.992835  \n",
       "9   BACKGROUND   0.992835  "
      ]
     },
     "execution_count": 154,
     "metadata": {},
     "output_type": "execute_result"
    }
   ],
   "source": [
    "test_results_df[:10]"
   ]
  },
  {
   "cell_type": "code",
   "execution_count": 155,
   "metadata": {
    "colab": {
     "base_uri": "https://localhost:8080/",
     "height": 424
    },
    "executionInfo": {
     "elapsed": 21,
     "status": "ok",
     "timestamp": 1700377991379,
     "user": {
      "displayName": "yihim",
      "userId": "08839180769355818284"
     },
     "user_tz": -480
    },
    "id": "YMuZTFEkPi8U",
    "outputId": "1ac2eb80-8d5a-43a7-f7e6-142536f6b18e"
   },
   "outputs": [
    {
     "data": {
      "text/html": [
       "<div>\n",
       "<style scoped>\n",
       "    .dataframe tbody tr th:only-of-type {\n",
       "        vertical-align: middle;\n",
       "    }\n",
       "\n",
       "    .dataframe tbody tr th {\n",
       "        vertical-align: top;\n",
       "    }\n",
       "\n",
       "    .dataframe thead th {\n",
       "        text-align: right;\n",
       "    }\n",
       "</style>\n",
       "<table border=\"1\" class=\"dataframe\">\n",
       "  <thead>\n",
       "    <tr style=\"text-align: right;\">\n",
       "      <th></th>\n",
       "      <th>text</th>\n",
       "      <th>y_true</th>\n",
       "      <th>y_preds</th>\n",
       "      <th>pred_conf</th>\n",
       "    </tr>\n",
       "  </thead>\n",
       "  <tbody>\n",
       "    <tr>\n",
       "      <th>0</th>\n",
       "      <td>this study analyzed liver function abnormaliti...</td>\n",
       "      <td>BACKGROUND</td>\n",
       "      <td>BACKGROUND</td>\n",
       "      <td>0.992835</td>\n",
       "    </tr>\n",
       "    <tr>\n",
       "      <th>20142</th>\n",
       "      <td>to determine the effect of topical intranasal ...</td>\n",
       "      <td>OBJECTIVE</td>\n",
       "      <td>OBJECTIVE</td>\n",
       "      <td>0.992835</td>\n",
       "    </tr>\n",
       "    <tr>\n",
       "      <th>20152</th>\n",
       "      <td>@b .</td>\n",
       "      <td>METHODS</td>\n",
       "      <td>METHODS</td>\n",
       "      <td>0.992835</td>\n",
       "    </tr>\n",
       "    <tr>\n",
       "      <th>20151</th>\n",
       "      <td>oxymetazoline increased nasal airflow in patie...</td>\n",
       "      <td>CONCLUSIONS</td>\n",
       "      <td>CONCLUSIONS</td>\n",
       "      <td>0.992835</td>\n",
       "    </tr>\n",
       "    <tr>\n",
       "      <th>20150</th>\n",
       "      <td>there were no differences between groups in ox...</td>\n",
       "      <td>RESULTS</td>\n",
       "      <td>RESULTS</td>\n",
       "      <td>0.992835</td>\n",
       "    </tr>\n",
       "    <tr>\n",
       "      <th>...</th>\n",
       "      <td>...</td>\n",
       "      <td>...</td>\n",
       "      <td>...</td>\n",
       "      <td>...</td>\n",
       "    </tr>\n",
       "    <tr>\n",
       "      <th>10117</th>\n",
       "      <td>to test the hypothesis that lisa increases sur...</td>\n",
       "      <td>OBJECTIVE</td>\n",
       "      <td>OBJECTIVE</td>\n",
       "      <td>0.992835</td>\n",
       "    </tr>\n",
       "    <tr>\n",
       "      <th>10112</th>\n",
       "      <td>this can potentially lead to significant cost ...</td>\n",
       "      <td>CONCLUSIONS</td>\n",
       "      <td>CONCLUSIONS</td>\n",
       "      <td>0.992835</td>\n",
       "    </tr>\n",
       "    <tr>\n",
       "      <th>10111</th>\n",
       "      <td>the venner-pneux vap prevention system is asso...</td>\n",
       "      <td>CONCLUSIONS</td>\n",
       "      <td>CONCLUSIONS</td>\n",
       "      <td>0.992835</td>\n",
       "    </tr>\n",
       "    <tr>\n",
       "      <th>10110</th>\n",
       "      <td>a binary logistic regression analysis ( type o...</td>\n",
       "      <td>RESULTS</td>\n",
       "      <td>RESULTS</td>\n",
       "      <td>0.992835</td>\n",
       "    </tr>\n",
       "    <tr>\n",
       "      <th>30134</th>\n",
       "      <td>performing a @-week do-as-tolerated program of...</td>\n",
       "      <td>CONCLUSIONS</td>\n",
       "      <td>CONCLUSIONS</td>\n",
       "      <td>0.992835</td>\n",
       "    </tr>\n",
       "  </tbody>\n",
       "</table>\n",
       "<p>25744 rows × 4 columns</p>\n",
       "</div>"
      ],
      "text/plain": [
       "                                                    text       y_true  \\\n",
       "0      this study analyzed liver function abnormaliti...   BACKGROUND   \n",
       "20142  to determine the effect of topical intranasal ...    OBJECTIVE   \n",
       "20152                                               @b .      METHODS   \n",
       "20151  oxymetazoline increased nasal airflow in patie...  CONCLUSIONS   \n",
       "20150  there were no differences between groups in ox...      RESULTS   \n",
       "...                                                  ...          ...   \n",
       "10117  to test the hypothesis that lisa increases sur...    OBJECTIVE   \n",
       "10112  this can potentially lead to significant cost ...  CONCLUSIONS   \n",
       "10111  the venner-pneux vap prevention system is asso...  CONCLUSIONS   \n",
       "10110  a binary logistic regression analysis ( type o...      RESULTS   \n",
       "30134  performing a @-week do-as-tolerated program of...  CONCLUSIONS   \n",
       "\n",
       "           y_preds  pred_conf  \n",
       "0       BACKGROUND   0.992835  \n",
       "20142    OBJECTIVE   0.992835  \n",
       "20152      METHODS   0.992835  \n",
       "20151  CONCLUSIONS   0.992835  \n",
       "20150      RESULTS   0.992835  \n",
       "...            ...        ...  \n",
       "10117    OBJECTIVE   0.992835  \n",
       "10112  CONCLUSIONS   0.992835  \n",
       "10111  CONCLUSIONS   0.992835  \n",
       "10110      RESULTS   0.992835  \n",
       "30134  CONCLUSIONS   0.992835  \n",
       "\n",
       "[25744 rows x 4 columns]"
      ]
     },
     "execution_count": 155,
     "metadata": {},
     "output_type": "execute_result"
    }
   ],
   "source": [
    "test_results_df[test_results_df[\"y_true\"] == test_results_df[\"y_preds\"]].sort_values(\"pred_conf\", ascending=False)"
   ]
  },
  {
   "cell_type": "code",
   "execution_count": 156,
   "metadata": {
    "executionInfo": {
     "elapsed": 20,
     "status": "ok",
     "timestamp": 1700377991379,
     "user": {
      "displayName": "yihim",
      "userId": "08839180769355818284"
     },
     "user_tz": -480
    },
    "id": "7mJMtMifOnjL"
   },
   "outputs": [],
   "source": [
    "most_wrong_test_results = test_results_df[test_results_df[\"y_true\"] != test_results_df[\"y_preds\"]].sort_values(\"pred_conf\", ascending=False)"
   ]
  },
  {
   "cell_type": "code",
   "execution_count": 157,
   "metadata": {
    "colab": {
     "base_uri": "https://localhost:8080/",
     "height": 363
    },
    "executionInfo": {
     "elapsed": 21,
     "status": "ok",
     "timestamp": 1700377991380,
     "user": {
      "displayName": "yihim",
      "userId": "08839180769355818284"
     },
     "user_tz": -480
    },
    "id": "ME0tpmBgPCpp",
    "outputId": "6c9238bb-6bf6-4497-ca2f-a8d448e59690"
   },
   "outputs": [
    {
     "data": {
      "text/html": [
       "<div>\n",
       "<style scoped>\n",
       "    .dataframe tbody tr th:only-of-type {\n",
       "        vertical-align: middle;\n",
       "    }\n",
       "\n",
       "    .dataframe tbody tr th {\n",
       "        vertical-align: top;\n",
       "    }\n",
       "\n",
       "    .dataframe thead th {\n",
       "        text-align: right;\n",
       "    }\n",
       "</style>\n",
       "<table border=\"1\" class=\"dataframe\">\n",
       "  <thead>\n",
       "    <tr style=\"text-align: right;\">\n",
       "      <th></th>\n",
       "      <th>text</th>\n",
       "      <th>y_true</th>\n",
       "      <th>y_preds</th>\n",
       "      <th>pred_conf</th>\n",
       "    </tr>\n",
       "  </thead>\n",
       "  <tbody>\n",
       "    <tr>\n",
       "      <th>1</th>\n",
       "      <td>a post hoc analysis was conducted with the use...</td>\n",
       "      <td>RESULTS</td>\n",
       "      <td>METHODS</td>\n",
       "      <td>0.992835</td>\n",
       "    </tr>\n",
       "    <tr>\n",
       "      <th>19762</th>\n",
       "      <td>the objective was to determine the prevalence ...</td>\n",
       "      <td>BACKGROUND</td>\n",
       "      <td>OBJECTIVE</td>\n",
       "      <td>0.992835</td>\n",
       "    </tr>\n",
       "    <tr>\n",
       "      <th>19800</th>\n",
       "      <td>from january @ to april @ , @ pregnant women a...</td>\n",
       "      <td>RESULTS</td>\n",
       "      <td>METHODS</td>\n",
       "      <td>0.992835</td>\n",
       "    </tr>\n",
       "    <tr>\n",
       "      <th>19786</th>\n",
       "      <td>in conclusion , t replacement effects were fib...</td>\n",
       "      <td>CONCLUSIONS</td>\n",
       "      <td>RESULTS</td>\n",
       "      <td>0.992835</td>\n",
       "    </tr>\n",
       "    <tr>\n",
       "      <th>19768</th>\n",
       "      <td>its prevalence increased from @ % to @ % from ...</td>\n",
       "      <td>RESULTS</td>\n",
       "      <td>CONCLUSIONS</td>\n",
       "      <td>0.992835</td>\n",
       "    </tr>\n",
       "    <tr>\n",
       "      <th>19767</th>\n",
       "      <td>an was identified in any of the examined sites...</td>\n",
       "      <td>RESULTS</td>\n",
       "      <td>METHODS</td>\n",
       "      <td>0.992835</td>\n",
       "    </tr>\n",
       "    <tr>\n",
       "      <th>19765</th>\n",
       "      <td>overweight and obesity occurred in @ % and @ %...</td>\n",
       "      <td>METHODS</td>\n",
       "      <td>RESULTS</td>\n",
       "      <td>0.992835</td>\n",
       "    </tr>\n",
       "    <tr>\n",
       "      <th>19764</th>\n",
       "      <td>participants ' mean age was @ years .</td>\n",
       "      <td>METHODS</td>\n",
       "      <td>RESULTS</td>\n",
       "      <td>0.992835</td>\n",
       "    </tr>\n",
       "    <tr>\n",
       "      <th>19760</th>\n",
       "      <td>these studies were carried out at different ag...</td>\n",
       "      <td>BACKGROUND</td>\n",
       "      <td>METHODS</td>\n",
       "      <td>0.992835</td>\n",
       "    </tr>\n",
       "    <tr>\n",
       "      <th>19931</th>\n",
       "      <td>women with primary ovarian insufficiency ( poi...</td>\n",
       "      <td>OBJECTIVE</td>\n",
       "      <td>BACKGROUND</td>\n",
       "      <td>0.992835</td>\n",
       "    </tr>\n",
       "  </tbody>\n",
       "</table>\n",
       "</div>"
      ],
      "text/plain": [
       "                                                    text       y_true  \\\n",
       "1      a post hoc analysis was conducted with the use...      RESULTS   \n",
       "19762  the objective was to determine the prevalence ...   BACKGROUND   \n",
       "19800  from january @ to april @ , @ pregnant women a...      RESULTS   \n",
       "19786  in conclusion , t replacement effects were fib...  CONCLUSIONS   \n",
       "19768  its prevalence increased from @ % to @ % from ...      RESULTS   \n",
       "19767  an was identified in any of the examined sites...      RESULTS   \n",
       "19765  overweight and obesity occurred in @ % and @ %...      METHODS   \n",
       "19764              participants ' mean age was @ years .      METHODS   \n",
       "19760  these studies were carried out at different ag...   BACKGROUND   \n",
       "19931  women with primary ovarian insufficiency ( poi...    OBJECTIVE   \n",
       "\n",
       "           y_preds  pred_conf  \n",
       "1          METHODS   0.992835  \n",
       "19762    OBJECTIVE   0.992835  \n",
       "19800      METHODS   0.992835  \n",
       "19786      RESULTS   0.992835  \n",
       "19768  CONCLUSIONS   0.992835  \n",
       "19767      METHODS   0.992835  \n",
       "19765      RESULTS   0.992835  \n",
       "19764      RESULTS   0.992835  \n",
       "19760      METHODS   0.992835  \n",
       "19931   BACKGROUND   0.992835  "
      ]
     },
     "execution_count": 157,
     "metadata": {},
     "output_type": "execute_result"
    }
   ],
   "source": [
    "most_wrong_test_results[:10]"
   ]
  },
  {
   "cell_type": "code",
   "execution_count": 158,
   "metadata": {
    "executionInfo": {
     "elapsed": 20,
     "status": "ok",
     "timestamp": 1700377991380,
     "user": {
      "displayName": "yihim",
      "userId": "08839180769355818284"
     },
     "user_tz": -480
    },
    "id": "dmK9hTtxPEGW"
   },
   "outputs": [],
   "source": [
    "def preprocess_raw_abstract(raw_abstract):\n",
    "  sentences = [sentence.strip() for sentence in raw_abstract.split(\".\") if sentence.strip()]\n",
    "  chars = [ \" \".join(list(i)) for i in sentences]\n",
    "  total_lines = len(sentences)-1\n",
    "  line_numbers = [i for i, s in enumerate(sentences)]\n",
    "\n",
    "  unseen_df = pd.DataFrame({\"sentences\": sentences,\n",
    "                            \"chars\": chars,\n",
    "                            \"line_number\": line_numbers,\n",
    "                            \"total_lines\": total_lines})\n",
    "\n",
    "  unseen_sent = unseen_df['sentences'].to_numpy()\n",
    "  unseen_char = unseen_df['chars'].to_numpy()\n",
    "  unseen_ln = tf.one_hot(unseen_df['line_number'].to_numpy(), depth=15)\n",
    "  unseen_tl = tf.one_hot(unseen_df['total_lines'].to_numpy(), depth=20)\n",
    "\n",
    "  unseen_data = [tf.constant(unseen_ln),\n",
    "                 tf.constant(unseen_tl),\n",
    "                 tf.constant(unseen_sent),\n",
    "                 tf.constant(unseen_char)]\n",
    "\n",
    "  return unseen_data, unseen_sent"
   ]
  },
  {
   "cell_type": "code",
   "execution_count": 177,
   "metadata": {
    "executionInfo": {
     "elapsed": 20,
     "status": "ok",
     "timestamp": 1700377991380,
     "user": {
      "displayName": "yihim",
      "userId": "08839180769355818284"
     },
     "user_tz": -480
    },
    "id": "FdEoxCHkUy0P"
   },
   "outputs": [],
   "source": [
    "preprocessed_unseen_data, sent = preprocess_raw_abstract(\"Breast cancer is one of the main leading causes of women death. In recent years, attention has been focused on the role of lipoproteins, alterations of cholesterol metabolism and oxidative stress in the molecular mechanism of breast cancer. A role for high density lipoproteins (HDL) has been proposed, in fact, in addition to the role of reverse cholesterol transport (RCT), HDL exert antioxidant and anti-inflammatory properties, modulate intracellular cholesterol homeostasis, signal transduction and proliferation. Low levels of HDL-Cholesterol (HDL-C) have been demonstrated in patients affected by breast cancer and it has been suggested that low levels of HDL-C could represent a risk factor of breast cancer. Contrasting results have been observed by other authors. Recent studies have demonstrated alterations of the activity of some enzymes associated to HDL surface such as Paraoxonase (PON1), Lecithin-Cholesterol Acyltransferase (LCAT) and Phospholipase A2 (PLA2). Higher levels of markers of lipid peroxidation in plasma or serum of patients have also been observed and suggest dysfunctional HDL in breast cancer patients. The review summarizes results on levels of markers of oxidative stress of plasma lipids and on alterations of enzymes associated to HDL in patients affected by breast cancer. The effects of normal and dysfunctional HDL on human breast cancer cells and molecular mechanisms potentially involved will be also reviewed.\")"
   ]
  },
  {
   "cell_type": "code",
   "execution_count": 178,
   "metadata": {
    "colab": {
     "base_uri": "https://localhost:8080/"
    },
    "executionInfo": {
     "elapsed": 20,
     "status": "ok",
     "timestamp": 1700377991380,
     "user": {
      "displayName": "yihim",
      "userId": "08839180769355818284"
     },
     "user_tz": -480
    },
    "id": "WzUvNI28YW4y",
    "outputId": "564c3060-95f6-4945-e485-4342c031f747"
   },
   "outputs": [
    {
     "data": {
      "text/plain": [
       "[<tf.Tensor: shape=(9, 15), dtype=float32, numpy=\n",
       " array([[1., 0., 0., 0., 0., 0., 0., 0., 0., 0., 0., 0., 0., 0., 0.],\n",
       "        [0., 1., 0., 0., 0., 0., 0., 0., 0., 0., 0., 0., 0., 0., 0.],\n",
       "        [0., 0., 1., 0., 0., 0., 0., 0., 0., 0., 0., 0., 0., 0., 0.],\n",
       "        [0., 0., 0., 1., 0., 0., 0., 0., 0., 0., 0., 0., 0., 0., 0.],\n",
       "        [0., 0., 0., 0., 1., 0., 0., 0., 0., 0., 0., 0., 0., 0., 0.],\n",
       "        [0., 0., 0., 0., 0., 1., 0., 0., 0., 0., 0., 0., 0., 0., 0.],\n",
       "        [0., 0., 0., 0., 0., 0., 1., 0., 0., 0., 0., 0., 0., 0., 0.],\n",
       "        [0., 0., 0., 0., 0., 0., 0., 1., 0., 0., 0., 0., 0., 0., 0.],\n",
       "        [0., 0., 0., 0., 0., 0., 0., 0., 1., 0., 0., 0., 0., 0., 0.]],\n",
       "       dtype=float32)>,\n",
       " <tf.Tensor: shape=(9, 20), dtype=float32, numpy=\n",
       " array([[0., 0., 0., 0., 0., 0., 0., 0., 1., 0., 0., 0., 0., 0., 0., 0.,\n",
       "         0., 0., 0., 0.],\n",
       "        [0., 0., 0., 0., 0., 0., 0., 0., 1., 0., 0., 0., 0., 0., 0., 0.,\n",
       "         0., 0., 0., 0.],\n",
       "        [0., 0., 0., 0., 0., 0., 0., 0., 1., 0., 0., 0., 0., 0., 0., 0.,\n",
       "         0., 0., 0., 0.],\n",
       "        [0., 0., 0., 0., 0., 0., 0., 0., 1., 0., 0., 0., 0., 0., 0., 0.,\n",
       "         0., 0., 0., 0.],\n",
       "        [0., 0., 0., 0., 0., 0., 0., 0., 1., 0., 0., 0., 0., 0., 0., 0.,\n",
       "         0., 0., 0., 0.],\n",
       "        [0., 0., 0., 0., 0., 0., 0., 0., 1., 0., 0., 0., 0., 0., 0., 0.,\n",
       "         0., 0., 0., 0.],\n",
       "        [0., 0., 0., 0., 0., 0., 0., 0., 1., 0., 0., 0., 0., 0., 0., 0.,\n",
       "         0., 0., 0., 0.],\n",
       "        [0., 0., 0., 0., 0., 0., 0., 0., 1., 0., 0., 0., 0., 0., 0., 0.,\n",
       "         0., 0., 0., 0.],\n",
       "        [0., 0., 0., 0., 0., 0., 0., 0., 1., 0., 0., 0., 0., 0., 0., 0.,\n",
       "         0., 0., 0., 0.]], dtype=float32)>,\n",
       " <tf.Tensor: shape=(9,), dtype=string, numpy=\n",
       " array([b'Breast cancer is one of the main leading causes of women death',\n",
       "        b'In recent years, attention has been focused on the role of lipoproteins, alterations of cholesterol metabolism and oxidative stress in the molecular mechanism of breast cancer',\n",
       "        b'A role for high density lipoproteins (HDL) has been proposed, in fact, in addition to the role of reverse cholesterol transport (RCT), HDL exert antioxidant and anti-inflammatory properties, modulate intracellular cholesterol homeostasis, signal transduction and proliferation',\n",
       "        b'Low levels of HDL-Cholesterol (HDL-C) have been demonstrated in patients affected by breast cancer and it has been suggested that low levels of HDL-C could represent a risk factor of breast cancer',\n",
       "        b'Contrasting results have been observed by other authors',\n",
       "        b'Recent studies have demonstrated alterations of the activity of some enzymes associated to HDL surface such as Paraoxonase (PON1), Lecithin-Cholesterol Acyltransferase (LCAT) and Phospholipase A2 (PLA2)',\n",
       "        b'Higher levels of markers of lipid peroxidation in plasma or serum of patients have also been observed and suggest dysfunctional HDL in breast cancer patients',\n",
       "        b'The review summarizes results on levels of markers of oxidative stress of plasma lipids and on alterations of enzymes associated to HDL in patients affected by breast cancer',\n",
       "        b'The effects of normal and dysfunctional HDL on human breast cancer cells and molecular mechanisms potentially involved will be also reviewed'],\n",
       "       dtype=object)>,\n",
       " <tf.Tensor: shape=(9,), dtype=string, numpy=\n",
       " array([b'B r e a s t   c a n c e r   i s   o n e   o f   t h e   m a i n   l e a d i n g   c a u s e s   o f   w o m e n   d e a t h',\n",
       "        b'I n   r e c e n t   y e a r s ,   a t t e n t i o n   h a s   b e e n   f o c u s e d   o n   t h e   r o l e   o f   l i p o p r o t e i n s ,   a l t e r a t i o n s   o f   c h o l e s t e r o l   m e t a b o l i s m   a n d   o x i d a t i v e   s t r e s s   i n   t h e   m o l e c u l a r   m e c h a n i s m   o f   b r e a s t   c a n c e r',\n",
       "        b'A   r o l e   f o r   h i g h   d e n s i t y   l i p o p r o t e i n s   ( H D L )   h a s   b e e n   p r o p o s e d ,   i n   f a c t ,   i n   a d d i t i o n   t o   t h e   r o l e   o f   r e v e r s e   c h o l e s t e r o l   t r a n s p o r t   ( R C T ) ,   H D L   e x e r t   a n t i o x i d a n t   a n d   a n t i - i n f l a m m a t o r y   p r o p e r t i e s ,   m o d u l a t e   i n t r a c e l l u l a r   c h o l e s t e r o l   h o m e o s t a s i s ,   s i g n a l   t r a n s d u c t i o n   a n d   p r o l i f e r a t i o n',\n",
       "        b'L o w   l e v e l s   o f   H D L - C h o l e s t e r o l   ( H D L - C )   h a v e   b e e n   d e m o n s t r a t e d   i n   p a t i e n t s   a f f e c t e d   b y   b r e a s t   c a n c e r   a n d   i t   h a s   b e e n   s u g g e s t e d   t h a t   l o w   l e v e l s   o f   H D L - C   c o u l d   r e p r e s e n t   a   r i s k   f a c t o r   o f   b r e a s t   c a n c e r',\n",
       "        b'C o n t r a s t i n g   r e s u l t s   h a v e   b e e n   o b s e r v e d   b y   o t h e r   a u t h o r s',\n",
       "        b'R e c e n t   s t u d i e s   h a v e   d e m o n s t r a t e d   a l t e r a t i o n s   o f   t h e   a c t i v i t y   o f   s o m e   e n z y m e s   a s s o c i a t e d   t o   H D L   s u r f a c e   s u c h   a s   P a r a o x o n a s e   ( P O N 1 ) ,   L e c i t h i n - C h o l e s t e r o l   A c y l t r a n s f e r a s e   ( L C A T )   a n d   P h o s p h o l i p a s e   A 2   ( P L A 2 )',\n",
       "        b'H i g h e r   l e v e l s   o f   m a r k e r s   o f   l i p i d   p e r o x i d a t i o n   i n   p l a s m a   o r   s e r u m   o f   p a t i e n t s   h a v e   a l s o   b e e n   o b s e r v e d   a n d   s u g g e s t   d y s f u n c t i o n a l   H D L   i n   b r e a s t   c a n c e r   p a t i e n t s',\n",
       "        b'T h e   r e v i e w   s u m m a r i z e s   r e s u l t s   o n   l e v e l s   o f   m a r k e r s   o f   o x i d a t i v e   s t r e s s   o f   p l a s m a   l i p i d s   a n d   o n   a l t e r a t i o n s   o f   e n z y m e s   a s s o c i a t e d   t o   H D L   i n   p a t i e n t s   a f f e c t e d   b y   b r e a s t   c a n c e r',\n",
       "        b'T h e   e f f e c t s   o f   n o r m a l   a n d   d y s f u n c t i o n a l   H D L   o n   h u m a n   b r e a s t   c a n c e r   c e l l s   a n d   m o l e c u l a r   m e c h a n i s m s   p o t e n t i a l l y   i n v o l v e d   w i l l   b e   a l s o   r e v i e w e d'],\n",
       "       dtype=object)>]"
      ]
     },
     "execution_count": 178,
     "metadata": {},
     "output_type": "execute_result"
    }
   ],
   "source": [
    "preprocessed_unseen_data"
   ]
  },
  {
   "cell_type": "code",
   "execution_count": 179,
   "metadata": {
    "colab": {
     "base_uri": "https://localhost:8080/"
    },
    "executionInfo": {
     "elapsed": 3064,
     "status": "ok",
     "timestamp": 1700377994426,
     "user": {
      "displayName": "yihim",
      "userId": "08839180769355818284"
     },
     "user_tz": -480
    },
    "id": "g_xpt7JScNjQ",
    "outputId": "162d71bc-9bb1-48bf-f715-510289e8fcb9"
   },
   "outputs": [
    {
     "data": {
      "text/plain": [
       "array([[0.6950217 , 0.09906686, 0.01965632, 0.13174196, 0.05451315],\n",
       "       [0.72215617, 0.06539562, 0.02403124, 0.14821158, 0.04020541],\n",
       "       [0.42178085, 0.15952796, 0.15246278, 0.1876481 , 0.07858032],\n",
       "       [0.29930294, 0.3275503 , 0.15611114, 0.10577063, 0.111265  ],\n",
       "       [0.07015271, 0.03132285, 0.18908788, 0.05291422, 0.65652233],\n",
       "       [0.25763297, 0.12978446, 0.01374727, 0.0667043 , 0.53213096],\n",
       "       [0.09063275, 0.61352634, 0.07304724, 0.05126586, 0.17152777],\n",
       "       [0.0481337 , 0.33177593, 0.29226446, 0.04210274, 0.2857232 ],\n",
       "       [0.07015462, 0.70546037, 0.11358342, 0.03921733, 0.0715843 ]],\n",
       "      dtype=float32)"
      ]
     },
     "execution_count": 179,
     "metadata": {},
     "output_type": "execute_result"
    }
   ],
   "source": [
    "unseen_pred_probs = loaded_model.predict(preprocessed_unseen_data)\n",
    "unseen_pred_probs"
   ]
  },
  {
   "cell_type": "code",
   "execution_count": 180,
   "metadata": {
    "colab": {
     "base_uri": "https://localhost:8080/"
    },
    "executionInfo": {
     "elapsed": 12,
     "status": "ok",
     "timestamp": 1700377994426,
     "user": {
      "displayName": "yihim",
      "userId": "08839180769355818284"
     },
     "user_tz": -480
    },
    "id": "NHu9NyyieF-d",
    "outputId": "bccafcfb-2136-4741-f7fe-dae03d3fd7c3"
   },
   "outputs": [
    {
     "data": {
      "text/plain": [
       "['BACKGROUND',\n",
       " 'BACKGROUND',\n",
       " 'BACKGROUND',\n",
       " 'CONCLUSIONS',\n",
       " 'RESULTS',\n",
       " 'RESULTS',\n",
       " 'CONCLUSIONS',\n",
       " 'CONCLUSIONS',\n",
       " 'CONCLUSIONS']"
      ]
     },
     "execution_count": 180,
     "metadata": {},
     "output_type": "execute_result"
    }
   ],
   "source": [
    "[class_names[tf.argmax(i, axis=0)] for i in unseen_pred_probs]"
   ]
  },
  {
   "cell_type": "code",
   "execution_count": 181,
   "metadata": {
    "colab": {
     "base_uri": "https://localhost:8080/",
     "height": 332
    },
    "executionInfo": {
     "elapsed": 10,
     "status": "ok",
     "timestamp": 1700377994427,
     "user": {
      "displayName": "yihim",
      "userId": "08839180769355818284"
     },
     "user_tz": -480
    },
    "id": "RA01m4uRe9GC",
    "outputId": "ad2f4a17-9a6d-4612-b9ec-f51d9bc7a4cd"
   },
   "outputs": [
    {
     "data": {
      "text/html": [
       "<div>\n",
       "<style scoped>\n",
       "    .dataframe tbody tr th:only-of-type {\n",
       "        vertical-align: middle;\n",
       "    }\n",
       "\n",
       "    .dataframe tbody tr th {\n",
       "        vertical-align: top;\n",
       "    }\n",
       "\n",
       "    .dataframe thead th {\n",
       "        text-align: right;\n",
       "    }\n",
       "</style>\n",
       "<table border=\"1\" class=\"dataframe\">\n",
       "  <thead>\n",
       "    <tr style=\"text-align: right;\">\n",
       "      <th></th>\n",
       "      <th>sentence</th>\n",
       "      <th>pred_class</th>\n",
       "    </tr>\n",
       "  </thead>\n",
       "  <tbody>\n",
       "    <tr>\n",
       "      <th>0</th>\n",
       "      <td>Breast cancer is one of the main leading cause...</td>\n",
       "      <td>BACKGROUND</td>\n",
       "    </tr>\n",
       "    <tr>\n",
       "      <th>1</th>\n",
       "      <td>In recent years, attention has been focused on...</td>\n",
       "      <td>BACKGROUND</td>\n",
       "    </tr>\n",
       "    <tr>\n",
       "      <th>2</th>\n",
       "      <td>A role for high density lipoproteins (HDL) has...</td>\n",
       "      <td>BACKGROUND</td>\n",
       "    </tr>\n",
       "    <tr>\n",
       "      <th>3</th>\n",
       "      <td>Low levels of HDL-Cholesterol (HDL-C) have bee...</td>\n",
       "      <td>CONCLUSIONS</td>\n",
       "    </tr>\n",
       "    <tr>\n",
       "      <th>4</th>\n",
       "      <td>Contrasting results have been observed by othe...</td>\n",
       "      <td>RESULTS</td>\n",
       "    </tr>\n",
       "    <tr>\n",
       "      <th>5</th>\n",
       "      <td>Recent studies have demonstrated alterations o...</td>\n",
       "      <td>RESULTS</td>\n",
       "    </tr>\n",
       "    <tr>\n",
       "      <th>6</th>\n",
       "      <td>Higher levels of markers of lipid peroxidation...</td>\n",
       "      <td>CONCLUSIONS</td>\n",
       "    </tr>\n",
       "    <tr>\n",
       "      <th>7</th>\n",
       "      <td>The review summarizes results on levels of mar...</td>\n",
       "      <td>CONCLUSIONS</td>\n",
       "    </tr>\n",
       "    <tr>\n",
       "      <th>8</th>\n",
       "      <td>The effects of normal and dysfunctional HDL on...</td>\n",
       "      <td>CONCLUSIONS</td>\n",
       "    </tr>\n",
       "  </tbody>\n",
       "</table>\n",
       "</div>"
      ],
      "text/plain": [
       "                                            sentence   pred_class\n",
       "0  Breast cancer is one of the main leading cause...   BACKGROUND\n",
       "1  In recent years, attention has been focused on...   BACKGROUND\n",
       "2  A role for high density lipoproteins (HDL) has...   BACKGROUND\n",
       "3  Low levels of HDL-Cholesterol (HDL-C) have bee...  CONCLUSIONS\n",
       "4  Contrasting results have been observed by othe...      RESULTS\n",
       "5  Recent studies have demonstrated alterations o...      RESULTS\n",
       "6  Higher levels of markers of lipid peroxidation...  CONCLUSIONS\n",
       "7  The review summarizes results on levels of mar...  CONCLUSIONS\n",
       "8  The effects of normal and dysfunctional HDL on...  CONCLUSIONS"
      ]
     },
     "execution_count": 181,
     "metadata": {},
     "output_type": "execute_result"
    }
   ],
   "source": [
    "unseen_results_df = pd.DataFrame({\"sentence\": sent,\n",
    "                                  \"pred_class\": [class_names[tf.argmax(i, axis=0)] for i in unseen_pred_probs]})\n",
    "\n",
    "unseen_results_df"
   ]
  }
 ],
 "metadata": {
  "accelerator": "GPU",
  "colab": {
   "gpuType": "T4",
   "provenance": []
  },
  "kernelspec": {
   "display_name": "Python 3 (ipykernel)",
   "language": "python",
   "name": "python3"
  },
  "language_info": {
   "codemirror_mode": {
    "name": "ipython",
    "version": 3
   },
   "file_extension": ".py",
   "mimetype": "text/x-python",
   "name": "python",
   "nbconvert_exporter": "python",
   "pygments_lexer": "ipython3",
   "version": "3.9.2"
  }
 },
 "nbformat": 4,
 "nbformat_minor": 4
}
